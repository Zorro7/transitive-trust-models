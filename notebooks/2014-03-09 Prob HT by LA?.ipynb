{
 "metadata": {
  "name": ""
 },
 "nbformat": 3,
 "nbformat_minor": 0,
 "worksheets": [
  {
   "cells": [
    {
     "cell_type": "code",
     "collapsed": false,
     "input": [
      "import networkx as nx\n",
      "import numpy as np\n",
      "import hitting_time.mat_hitting_time as m\n",
      "from trust_graph import TrustGraph"
     ],
     "language": "python",
     "metadata": {},
     "outputs": [],
     "prompt_number": 2
    },
    {
     "cell_type": "code",
     "collapsed": false,
     "input": [
      "g = TrustGraph(8, 'uniform', 'uniform', 4, 'noisy', 32)"
     ],
     "language": "python",
     "metadata": {},
     "outputs": [],
     "prompt_number": 4
    },
    {
     "cell_type": "code",
     "collapsed": false,
     "input": [
      "m.personalized_eigen_ht(g)[:,0]"
     ],
     "language": "python",
     "metadata": {},
     "outputs": [
      {
       "metadata": {},
       "output_type": "pyout",
       "prompt_number": 8,
       "text": [
        "array([ 1.        ,  0.37942279,  0.45256058,  0.45176858,  0.48321446,\n",
        "        0.47441638,  0.35323425,  0.38477464])"
       ]
      }
     ],
     "prompt_number": 8
    },
    {
     "cell_type": "code",
     "collapsed": false,
     "input": [
      "def eigen_LA(graph, j, alpha=0.15):\n",
      "    N = graph.number_of_nodes()\n",
      "    M = nx.to_numpy_matrix(graph)\n",
      "    for i in xrange(N):  # Normalize\n",
      "        M[i] /= M[i].sum()\n",
      "    M[j] = 0  # Remove outedges of j\n",
      "    A = np.eye(N) - (1 - alpha) * M\n",
      "    b = np.zeros(N)\n",
      "    b[j] = 1\n",
      "    return np.linalg.solve(A, b)"
     ],
     "language": "python",
     "metadata": {},
     "outputs": [],
     "prompt_number": 11
    },
    {
     "cell_type": "code",
     "collapsed": false,
     "input": [
      "eigen_LA(g, 0)"
     ],
     "language": "python",
     "metadata": {},
     "outputs": [
      {
       "metadata": {},
       "output_type": "pyout",
       "prompt_number": 12,
       "text": [
        "array([ 1.        ,  0.37942279,  0.45256058,  0.45176858,  0.48321446,\n",
        "        0.47441638,  0.35323425,  0.38477464])"
       ]
      }
     ],
     "prompt_number": 12
    }
   ],
   "metadata": {}
  }
 ]
}