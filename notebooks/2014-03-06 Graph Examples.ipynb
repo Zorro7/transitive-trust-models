{
 "metadata": {
  "name": ""
 },
 "nbformat": 3,
 "nbformat_minor": 0,
 "worksheets": [
  {
   "cells": [
    {
     "cell_type": "code",
     "collapsed": false,
     "input": [
      "import networkx as nx\n",
      "import numpy as np\n",
      "from hitting_time.mat_hitting_time import global_LA_ht, personalized_LA_ht"
     ],
     "language": "python",
     "metadata": {},
     "outputs": [],
     "prompt_number": 1
    },
    {
     "cell_type": "code",
     "collapsed": false,
     "input": [
      "g = nx.DiGraph()\n",
      "g.add_edge(1, 4, weight=1)\n",
      "g.add_edge(2, 4, weight=1)\n",
      "g.add_edge(3, 4, weight=1)\n",
      "g.add_edge(4, 5, weight=1)\n",
      "g.add_edge(5, 4, weight=1)"
     ],
     "language": "python",
     "metadata": {},
     "outputs": [],
     "prompt_number": 17
    },
    {
     "cell_type": "code",
     "collapsed": false,
     "input": [
      "nx.pagerank(g)"
     ],
     "language": "python",
     "metadata": {},
     "outputs": [
      {
       "metadata": {},
       "output_type": "pyout",
       "prompt_number": 18,
       "text": [
        "{1: 0.030000000000000006,\n",
        " 2: 0.030000000000000006,\n",
        " 3: 0.030000000000000006,\n",
        " 4: 0.4756766887836358,\n",
        " 5: 0.4343233112163642}"
       ]
      }
     ],
     "prompt_number": 18
    },
    {
     "cell_type": "code",
     "collapsed": false,
     "input": [
      "g2 = nx.DiGraph()\n",
      "g2.add_edge(1, 2, weight=0.5)\n",
      "g2.add_edge(1, 3, weight=0.5)\n",
      "g2.add_edge(2, 5, weight=1)\n",
      "g2.add_edge(3, 4, weight=1)\n",
      "g2.add_edge(4, 5, weight=1)"
     ],
     "language": "python",
     "metadata": {},
     "outputs": [],
     "prompt_number": 26
    },
    {
     "cell_type": "code",
     "collapsed": false,
     "input": [
      "personalized_LA_ht(g2, alpha=0)"
     ],
     "language": "python",
     "metadata": {},
     "outputs": [
      {
       "output_type": "stream",
       "stream": "stderr",
       "text": [
        "../hitting_time/mat_hitting_time.py:60: RuntimeWarning: invalid value encountered in divide\n",
        "  M[i] /= M[i].sum()\n"
       ]
      },
      {
       "metadata": {},
       "output_type": "pyout",
       "prompt_number": 27,
       "text": [
        "array([[ nan,  nan,  nan,  nan, -3.5],\n",
        "       [ nan,  nan,  nan,  nan, -2. ],\n",
        "       [ nan,  nan,  nan,  nan, -3. ],\n",
        "       [ nan,  nan,  nan,  nan, -2. ],\n",
        "       [ nan,  nan,  nan,  nan, -1. ]])"
       ]
      }
     ],
     "prompt_number": 27
    },
    {
     "cell_type": "code",
     "collapsed": false,
     "input": [
      "g3 = nx.DiGraph()\n",
      "g3.add_edge(1, 2, weight=1)\n",
      "g3.add_edge(2, 3, weight=1)"
     ],
     "language": "python",
     "metadata": {},
     "outputs": [],
     "prompt_number": 2
    },
    {
     "cell_type": "code",
     "collapsed": false,
     "input": [
      "-personalized_LA_ht(g3)"
     ],
     "language": "python",
     "metadata": {},
     "outputs": [
      {
       "output_type": "stream",
       "stream": "stderr",
       "text": [
        "../hitting_time/mat_hitting_time.py:60: RuntimeWarning: invalid value encountered in divide\n",
        "  M[i] /= M[i].sum()\n"
       ]
      },
      {
       "metadata": {},
       "output_type": "pyout",
       "prompt_number": 3,
       "text": [
        "array([[    nan,     nan,  1.5725],\n",
        "       [    nan,     nan,  0.85  ],\n",
        "       [    nan,     nan,  0.    ]])"
       ]
      }
     ],
     "prompt_number": 3
    }
   ],
   "metadata": {}
  }
 ]
}