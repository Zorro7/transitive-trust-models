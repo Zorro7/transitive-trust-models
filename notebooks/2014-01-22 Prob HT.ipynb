{
 "metadata": {
  "name": ""
 },
 "nbformat": 3,
 "nbformat_minor": 0,
 "worksheets": [
  {
   "cells": [
    {
     "cell_type": "code",
     "collapsed": false,
     "input": [
      "from trust_graph import TrustGraph\n",
      "import hitting_time.mat_hitting_time as m\n",
      "import hitting_time.single_monte_carlo as smc\n",
      "import numpy as np\n",
      "import networkx as nx"
     ],
     "language": "python",
     "metadata": {},
     "outputs": [],
     "prompt_number": 3
    },
    {
     "cell_type": "code",
     "collapsed": false,
     "input": [
      "M = np.array([[0.3, 0.2, 0.5],\n",
      "              [0.1, 0.5, 0.4],\n",
      "              [0.2, 0.7, 0.1]])\n",
      "g = nx.from_numpy_matrix(M, create_using=nx.DiGraph())"
     ],
     "language": "python",
     "metadata": {},
     "outputs": [],
     "prompt_number": 16
    },
    {
     "cell_type": "code",
     "collapsed": false,
     "input": [
      "# 1. HT from Monte Carlo simulation (should give true estimates)\n",
      "ht_smc = smc.complete_path_smc_hitting_time(g, 2000)"
     ],
     "language": "python",
     "metadata": {},
     "outputs": [],
     "prompt_number": 17
    },
    {
     "cell_type": "code",
     "collapsed": false,
     "input": [
      "ht_smc"
     ],
     "language": "python",
     "metadata": {},
     "outputs": [
      {
       "metadata": {},
       "output_type": "pyout",
       "prompt_number": 18,
       "text": [
        "array([[ 1.        ,  0.666     ,  0.73583333],\n",
        "       [ 0.4185    ,  1.        ,  0.69566667],\n",
        "       [ 0.47316667,  0.77233333,  1.        ]])"
       ]
      }
     ],
     "prompt_number": 18
    },
    {
     "cell_type": "code",
     "collapsed": false,
     "input": [
      "# My matrix equation tells me h = (1 - alpha) * M * h + e_j. Can we verify this?\n",
      "M_j = M.copy()\n",
      "M_j[2] = 0\n",
      "0.85 * np.dot(M_j, ht_smc[:, 2]) + [0, 0, 1]"
     ],
     "language": "python",
     "metadata": {},
     "outputs": [
      {
       "metadata": {},
       "output_type": "pyout",
       "prompt_number": 23,
       "text": [
        "array([ 0.73090083,  0.69820417,  1.        ])"
       ]
      }
     ],
     "prompt_number": 23
    },
    {
     "cell_type": "code",
     "collapsed": false,
     "input": [
      "# I'm curious what is the value of (I - M)^{-1}\n",
      "np.linalg.inv(np.eye(3) - 0.85 * M_j)"
     ],
     "language": "python",
     "metadata": {},
     "outputs": [
      {
       "metadata": {},
       "output_type": "pyout",
       "prompt_number": 30,
       "text": [
        "array([[ 1.38914054,  0.41070242,  0.73002355],\n",
        "       [ 0.20535121,  1.79984297,  0.69922087],\n",
        "       [ 0.        ,  0.        ,  1.        ]])"
       ]
      }
     ],
     "prompt_number": 30
    },
    {
     "cell_type": "markdown",
     "metadata": {},
     "source": [
      "## Now for Path Length Stuff"
     ]
    },
    {
     "cell_type": "code",
     "collapsed": false,
     "input": [
      "ht_pl = - m.personalized_LA_ht(g)"
     ],
     "language": "python",
     "metadata": {},
     "outputs": [],
     "prompt_number": 33
    },
    {
     "cell_type": "code",
     "collapsed": false,
     "input": [
      "ht_pl"
     ],
     "language": "python",
     "metadata": {},
     "outputs": [
      {
       "metadata": {},
       "output_type": "pyout",
       "prompt_number": 34,
       "text": [
        "array([[ 0.85      ,  2.43862863,  2.15038654],\n",
        "       [ 3.65008492,  0.85      ,  2.29875279],\n",
        "       [ 3.46043774,  1.93477253,  0.85      ]])"
       ]
      }
     ],
     "prompt_number": 34
    },
    {
     "cell_type": "code",
     "collapsed": false,
     "input": [
      "# Verifying the recurrence h = (1 - alpha) + (1 - alpha) * M * h\n",
      "0.85 * np.ones(3) + 0.85 * np.dot(M_j, ht_pl[:, 2])"
     ],
     "language": "python",
     "metadata": {},
     "outputs": [
      {
       "metadata": {},
       "output_type": "pyout",
       "prompt_number": 36,
       "text": [
        "array([ 2.15038654,  2.29875279,  0.85      ])"
       ]
      }
     ],
     "prompt_number": 36
    },
    {
     "cell_type": "code",
     "collapsed": false,
     "input": [
      "# try getting h_jj to be 0\n",
      "def single_LA_ht_2(graph, j, alpha=0.15):\n",
      "    N = graph.number_of_nodes()\n",
      "    M = nx.to_numpy_matrix(graph)\n",
      "    for i in xrange(N):  # Normalize\n",
      "        M[i] /= M[i].sum()\n",
      "    M[j] = 0  # Remove outedges of j\n",
      "    A = np.eye(N) - (1 - alpha) * M\n",
      "    b = np.repeat(1 - alpha, N)\n",
      "    b[j] = 0\n",
      "    return np.linalg.solve(A, b)"
     ],
     "language": "python",
     "metadata": {},
     "outputs": [],
     "prompt_number": 37
    },
    {
     "cell_type": "code",
     "collapsed": false,
     "input": [
      "single_LA_ht_2(g, 2)"
     ],
     "language": "python",
     "metadata": {},
     "outputs": [
      {
       "metadata": {},
       "output_type": "pyout",
       "prompt_number": 38,
       "text": [
        "array([ 1.52986652,  1.70441505,  0.        ])"
       ]
      }
     ],
     "prompt_number": 38
    }
   ],
   "metadata": {}
  }
 ]
}