{
 "metadata": {
  "name": ""
 },
 "nbformat": 3,
 "nbformat_minor": 0,
 "worksheets": [
  {
   "cells": [
    {
     "cell_type": "code",
     "collapsed": false,
     "input": [
      "import numpy as np\n",
      "from trust_graph import TrustGraph\n",
      "import hitting_time.mat_hitting_time as m; reload(m);"
     ],
     "language": "python",
     "metadata": {},
     "outputs": [],
     "prompt_number": 1
    },
    {
     "cell_type": "code",
     "collapsed": false,
     "input": [
      "g = TrustGraph(500, 'uniform', 'uniform', 15, 'noisy', 32)"
     ],
     "language": "python",
     "metadata": {},
     "outputs": [],
     "prompt_number": 3
    },
    {
     "cell_type": "code",
     "collapsed": false,
     "input": [
      "hts = m.personalized_LS_prob_ht(g)"
     ],
     "language": "python",
     "metadata": {},
     "outputs": [],
     "prompt_number": 4
    },
    {
     "cell_type": "code",
     "collapsed": false,
     "input": [
      "plt.hist(hts[0, 1:], bins=40)"
     ],
     "language": "python",
     "metadata": {},
     "outputs": [
      {
       "metadata": {},
       "output_type": "pyout",
       "prompt_number": 10,
       "text": [
        "(array([  10.,   60.,   92.,  101.,   74.,   50.,   39.,   29.,   13.,\n",
        "         10.,    2.,    1.,    1.,    1.,    0.,    0.,    0.,    1.,\n",
        "          0.,    0.,    0.,    0.,    0.,    0.,    1.,    0.,    1.,\n",
        "          0.,    3.,    1.,    1.,    1.,    0.,    1.,    1.,    3.,\n",
        "          0.,    0.,    1.,    1.]),\n",
        " array([ 0.00096533,  0.00300587,  0.00504641,  0.00708696,  0.0091275 ,\n",
        "        0.01116804,  0.01320858,  0.01524912,  0.01728966,  0.01933021,\n",
        "        0.02137075,  0.02341129,  0.02545183,  0.02749237,  0.02953292,\n",
        "        0.03157346,  0.033614  ,  0.03565454,  0.03769508,  0.03973563,\n",
        "        0.04177617,  0.04381671,  0.04585725,  0.04789779,  0.04993833,\n",
        "        0.05197888,  0.05401942,  0.05605996,  0.0581005 ,  0.06014104,\n",
        "        0.06218159,  0.06422213,  0.06626267,  0.06830321,  0.07034375,\n",
        "        0.0723843 ,  0.07442484,  0.07646538,  0.07850592,  0.08054646,\n",
        "        0.082587  ]),\n",
        " <a list of 40 Patch objects>)"
       ]
      },
      {
       "metadata": {},
       "output_type": "display_data",
       "png": "[encoded data removed]",
       "text": [
        "<matplotlib.figure.Figure at 0x10e175050>"
       ]
      }
     ],
     "prompt_number": 10
    },
    {
     "cell_type": "code",
     "collapsed": false,
     "input": [
      "g2 = TrustGraph(500, 'uniform', 'cluster', 30, 'noisy', 32)"
     ],
     "language": "python",
     "metadata": {},
     "outputs": [],
     "prompt_number": 11
    },
    {
     "cell_type": "code",
     "collapsed": false,
     "input": [
      "hts2 = m.personalized_LS_prob_ht(g2)"
     ],
     "language": "python",
     "metadata": {},
     "outputs": [],
     "prompt_number": 12
    },
    {
     "cell_type": "code",
     "collapsed": false,
     "input": [
      "plt.hist(hts2[0, 1:], bins=40)"
     ],
     "language": "python",
     "metadata": {},
     "outputs": [
      {
       "metadata": {},
       "output_type": "pyout",
       "prompt_number": 13,
       "text": [
        "(array([ 343.,   37.,    9.,    4.,    7.,    4.,    6.,    4.,    8.,\n",
        "          7.,    8.,    6.,    6.,    4.,    3.,    3.,    2.,    2.,\n",
        "          3.,    3.,    2.,    3.,    1.,    2.,    2.,    2.,    2.,\n",
        "          1.,    3.,    0.,    0.,    0.,    1.,    2.,    2.,    2.,\n",
        "          1.,    0.,    1.,    3.]),\n",
        " array([ 0.00016993,  0.00294398,  0.00571804,  0.00849209,  0.01126614,\n",
        "        0.0140402 ,  0.01681425,  0.01958831,  0.02236236,  0.02513641,\n",
        "        0.02791047,  0.03068452,  0.03345857,  0.03623263,  0.03900668,\n",
        "        0.04178073,  0.04455479,  0.04732884,  0.05010289,  0.05287695,\n",
        "        0.055651  ,  0.05842505,  0.06119911,  0.06397316,  0.06674721,\n",
        "        0.06952127,  0.07229532,  0.07506937,  0.07784343,  0.08061748,\n",
        "        0.08339153,  0.08616559,  0.08893964,  0.09171369,  0.09448775,\n",
        "        0.0972618 ,  0.10003585,  0.10280991,  0.10558396,  0.10835801,\n",
        "        0.11113207]),\n",
        " <a list of 40 Patch objects>)"
       ]
      },
      {
       "metadata": {},
       "output_type": "display_data",
       "png": "[encoded data removed]",
       "text": [
        "<matplotlib.figure.Figure at 0x10e233150>"
       ]
      }
     ],
     "prompt_number": 13
    }
   ],
   "metadata": {}
  }
 ]
}