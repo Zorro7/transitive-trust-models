{
 "metadata": {
  "name": "",
  "signature": "sha256:e1f2716f920a9d61cfceb733e564b0e8ea1f9302d2fbc6e35d044521a4c0931c"
 },
 "nbformat": 3,
 "nbformat_minor": 0,
 "worksheets": [
  {
   "cells": [
    {
     "cell_type": "code",
     "collapsed": false,
     "input": [
      "import sys; sys.path.append('/Users/brandonliu/Documents/Parkes/transitive-trust-models')\n",
      "import numpy as np\n",
      "import matplotlib.pyplot as plt\n",
      "import networkx as nx\n",
      "import hitting_time.single_monte_carlo as smc; reload(smc);\n",
      "import hitting_time.mat_hitting_time as m; reload(m);\n",
      "import operator as op\n",
      "import utils; reload(utils);\n",
      "import studies.efficiency as e; reload(e);\n",
      "from scipy import stats\n",
      "import time"
     ],
     "language": "python",
     "metadata": {},
     "outputs": [],
     "prompt_number": 37
    },
    {
     "cell_type": "code",
     "collapsed": false,
     "input": [
      "plt.rcParams['figure.figsize'] = (9, 6)\n",
      "plt.rcParams['font.size'] = 15\n",
      "plt.rcParams['legend.fontsize'] = 12\n",
      "plt.rcParams['lines.markersize'] = 7.5\n",
      "plt.rcParams['lines.linewidth'] = 1.5"
     ],
     "language": "python",
     "metadata": {},
     "outputs": [],
     "prompt_number": 2
    },
    {
     "cell_type": "code",
     "collapsed": false,
     "input": [
      "from IPython.parallel import Client\n",
      "cli = Client()\n",
      "lview = cli.load_balanced_view()"
     ],
     "language": "python",
     "metadata": {},
     "outputs": [],
     "prompt_number": 4
    },
    {
     "cell_type": "code",
     "collapsed": false,
     "input": [
      "@lview.parallel(block=True)\n",
      "def one_naive(args):\n",
      "    import sys; sys.path.append('..')\n",
      "    import time\n",
      "    import hitting_time.single_monte_carlo as smc; reload(smc);\n",
      "\n",
      "    graph, arg1, timed = args\n",
      "    \n",
      "    \n",
      "    start_time = time.time()\n",
      "    if timed:\n",
      "        ht = smc.timed_naive_smc_hitting_time(graph, time_limit=arg1)\n",
      "    else:\n",
      "        ht = smc.naive_smc_hitting_time(graph, num_walks=arg1)\n",
      "    elapsed = time.time() - start_time\n",
      "    \n",
      "    return {\n",
      "        'hitting_times': ht,\n",
      "        'runtime': elapsed\n",
      "        }\n",
      "\n",
      "@lview.parallel(block=True)\n",
      "def one_multihit(args):\n",
      "    import sys; sys.path.append('..')\n",
      "    import time\n",
      "    import hitting_time.single_monte_carlo as smc; reload(smc);\n",
      "    graph, arg1, timed = args\n",
      "    \n",
      "    \n",
      "    start_time = time.clock()\n",
      "    if timed:\n",
      "        ht = smc.timed_multihit_smc_hitting_time(graph, time_limit=arg1)\n",
      "    else:\n",
      "        ht = smc.multihit_smc_hitting_time(graph, num_walks=arg1)\n",
      "    elapsed = time.clock() - start_time\n",
      "    \n",
      "    return {\n",
      "        'hitting_times': ht,\n",
      "        'runtime': elapsed\n",
      "        }\n",
      "\n",
      "@lview.parallel(block=True)\n",
      "def one_multiwalk(args):\n",
      "    import sys; sys.path.append('..')\n",
      "    import time\n",
      "    import hitting_time.single_monte_carlo as smc; reload(smc);\n",
      "    graph, arg1, timed = args\n",
      "    \n",
      "    \n",
      "    start_time = time.clock()\n",
      "    if timed:\n",
      "        ht = smc.timed_multiwalk_smc_hitting_time(graph, time_limit=arg1)\n",
      "    else:\n",
      "        ht = smc.multiwalk_smc_hitting_time(graph, num_walks=arg1)\n",
      "    elapsed = time.clock() - start_time\n",
      "    \n",
      "    return {\n",
      "        'hitting_times': ht,\n",
      "        'runtime': elapsed\n",
      "        }\n",
      "\n",
      "@lview.parallel(block=True)\n",
      "def one_algo4(args):\n",
      "    import sys; sys.path.append('..')\n",
      "    import time\n",
      "    import hitting_time.single_monte_carlo as smc; reload(smc);\n",
      "    graph, arg1, timed = args\n",
      "    \n",
      "    start_time = time.clock()\n",
      "    if timed:\n",
      "        ht = smc.timed_algo4(graph, time_limit=arg1)\n",
      "    else:\n",
      "        ht = smc.algo4(graph, num_walks=arg1)\n",
      "    elapsed = time.clock() - start_time\n",
      "    \n",
      "    return {\n",
      "        'hitting_times': ht,\n",
      "        'runtime': elapsed\n",
      "        }\n",
      "\n",
      "@lview.parallel(block=True)\n",
      "def one_LS_prob(args):\n",
      "    import sys; sys.path.append('..')\n",
      "    import time\n",
      "    import hitting_time.mat_hitting_time as m; reload(m);\n",
      "    graph = args[0]\n",
      "    \n",
      "    ht = m.personalized_LS_prob_ht(graph)\n",
      "    \n",
      "    return ht"
     ],
     "language": "python",
     "metadata": {},
     "outputs": [],
     "prompt_number": 16
    },
    {
     "cell_type": "code",
     "collapsed": false,
     "input": [
      "TOP_KS = [3, 5, 7, 10, 15]\n",
      "def get_top_k(walk_output):\n",
      "    def compute_top_k(args):\n",
      "        # args is zip(hts, actuals)[i], i.e., (hts[i], actuals[i])\n",
      "        def one_compute_top_k(one_pair, k):\n",
      "            # one_pair is (ht[i, :], actuals[i, :])\n",
      "            pairs = zip(*one_pair) # List of pairs\n",
      "            sorted_pairs = sorted(pairs, key=op.itemgetter(1), reverse=True)\n",
      "            top_k_pairs = sorted_pairs[:k]\n",
      "            ht_lists = zip(*top_k_pairs)\n",
      "            return stats.spearmanr(ht_lists[0], ht_lists[1])[0]\n",
      "\n",
      "        return [np.mean([one_compute_top_k(args[:, i, :], k) for i in xrange(NUM_NODES)])\n",
      "                        for k in TOP_KS]\n",
      "\n",
      "        hts = np.array(args) # ht, actual\n",
      "    hts = map(op.itemgetter('hitting_times'), walk_output)\n",
      "    return np.array(map(compute_top_k, np.array(zip(hts, actuals)))).reshape((len(walks), num_iters, len(TOP_KS)))"
     ],
     "language": "python",
     "metadata": {},
     "outputs": [],
     "prompt_number": 6
    },
    {
     "cell_type": "code",
     "collapsed": false,
     "input": [
      "NUM_NODES = 250\n",
      "NUM_EDGES = 10\n",
      "\n",
      "def mc_by_walks(walks, times, num_iters):\n",
      "    graph_args = [[[utils.weighted_ba_graph(NUM_NODES, NUM_EDGES), nwalk, False] for _ in xrange(num_iters)] for nwalk in walks]\n",
      "    flattened_args = [val for arr in graph_args for val in arr]\n",
      "    \n",
      "    naive = map(one_naive.func, flattened_args); print 'Finished Naive';\n",
      "    multihit = map(one_multihit.func, flattened_args); print 'Finished Multihit';\n",
      "    multiwalk = map(one_multiwalk.func, flattened_args); print 'Finished Multiwalk';\n",
      "    algo4 = map(one_algo4.func, flattened_args); print 'Finished algo4';\n",
      "    \n",
      "    timed_graph_args = [[[utils.weighted_ba_graph(NUM_NODES, NUM_EDGES), time, True] for _ in xrange(num_iters)] for time in times]\n",
      "    timed_flattened_args = [val for arr in timed_graph_args for val in arr]\n",
      "    \n",
      "    timed_naive = one_naive.map(timed_flattened_args); print 'Finished Timed Naive';\n",
      "    timed_multihit = one_multihit.map(timed_flattened_args); print 'Finished Timed Multihit';\n",
      "    timed_multiwalk = one_multiwalk.map(timed_flattened_args); print 'Finished Timed Multiwalk';\n",
      "    timed_algo4 = one_algo4.map(timed_flattened_args); print 'Finished Timed algo4';\n",
      "    \n",
      "    actuals = one_LS_prob.map(flattened_args); print 'Finished LS_prob';\n",
      "    timed_actuals = one_LS_prob.map(timed_flattened_args); print 'Finished Timed LS_prob';\n",
      "    \n",
      "    def get_error(walk_output, xs, timed=False):\n",
      "        hts = map(op.itemgetter('hitting_times'), walk_output)\n",
      "        baselines = timed_actuals if timed else actuals\n",
      "        return np.mean(np.absolute(np.array(hts) - np.array(baselines)), axis=(1, 2)).reshape((len(xs), num_iters))\n",
      "    \n",
      "    def get_errors():\n",
      "        return {\n",
      "            'naive': get_error(naive, walks),\n",
      "            'multihit': get_error(multihit, walks),\n",
      "            'multiwalk': get_error(multiwalk, walks),\n",
      "            'algo4': get_error(algo4, walks)\n",
      "        }\n",
      "    \n",
      "    def get_runtime(walk_output, xs):\n",
      "        return np.array(map(op.itemgetter('runtime'), walk_output)).reshape((len(xs), num_iters))\n",
      "        \n",
      "    def get_runtimes():\n",
      "        return {\n",
      "            'naive': get_runtime(naive, walks),\n",
      "            'multihit': get_runtime(multihit, walks),\n",
      "            'multiwalk': get_runtime(multiwalk, walks),\n",
      "            'algo4': get_runtime(algo4, walks)\n",
      "        }\n",
      "    \n",
      "    def get_info(walk_output, xs, timed=False):\n",
      "        def compute_info(args):\n",
      "            ht, actual = args\n",
      "            return np.mean([stats.spearmanr(ht[i], actual[i])[0] for i in xrange(NUM_NODES)])\n",
      "                \n",
      "        hts = map(op.itemgetter('hitting_times'), walk_output)\n",
      "        baselines = timed_actuals if timed else actuals\n",
      "        return np.array(map(compute_info, zip(hts, baselines))).reshape((len(xs), num_iters))\n",
      "    \n",
      "    def get_infos():\n",
      "        return {\n",
      "            'naive': get_info(naive, walks),\n",
      "            'multihit': get_info(multihit, walks),\n",
      "            'multiwalk': get_info(multiwalk, walks),\n",
      "            'algo4': get_info(algo4, walks),\n",
      "            'timed_naive': get_info(timed_naive, times, True),\n",
      "            'timed_multihit': get_info(timed_multihit, times, True),\n",
      "            'timed_multiwalk': get_info(timed_multiwalk, times, True),\n",
      "            'timed_algo4': get_info(timed_algo4, times, True),\n",
      "        }\n",
      "    \n",
      "    return {\n",
      "        'walks': walks,\n",
      "        'times': times,\n",
      "        'num_iters': num_iters,\n",
      "        'errors': get_errors(),\n",
      "        'runtimes': get_runtimes(),\n",
      "        'infos': get_infos(),\n",
      "    }\n",
      "\n",
      "LABELS = [\n",
      "#     ('naive', 'Naive', 'b', '^'),\n",
      "    ('multihit', 'Multi-Hit', 'g', 's'),\n",
      "#     ('multiwalk', 'Multi-Return', 'r', 'o'),\n",
      "    ('algo4', 'Multi-Walk', 'm', '*'),\n",
      "]\n",
      "\n",
      "def plot_mc_by_walks(d):\n",
      "    # 1. Show error vs walks\n",
      "    for key, label, color, marker in LABELS:\n",
      "        error = d['errors'][key].mean(axis=1)\n",
      "        plt.plot(d['walks'], error, marker + '--', label=label, c=color)\n",
      "    \n",
      "    plt.margins(0.07)\n",
      "    plt.legend(loc='best')\n",
      "    plt.xticks(d['walks'], map(lambda x: x/1000, d['walks']))\n",
      "    plt.xlabel('Number of walks (\\'000)')\n",
      "    plt.ylabel('Monte Carlo Error')\n",
      "#     plt.suptitle('Error of Monte Carlo algorithms\\n'\n",
      "#                  'Barabasi-Albert graphs G(50, 5) (%d iters)' % num_iters)\n",
      "    plt.show()\n",
      "    \n",
      "    # 1.5. Show informativeness vs walks\n",
      "    for key, label, color, marker in LABELS:\n",
      "        info = d['infos'][key].mean(axis=1)\n",
      "        plt.plot(d['walks'], info, marker + '--', label=label, c=color)\n",
      "    \n",
      "    plt.margins(0.07)\n",
      "    plt.legend(loc='best')\n",
      "    plt.xticks(d['walks'], map(lambda x: x/1000, d['walks']))\n",
      "    plt.xlabel('Number of walks (\\'000)')\n",
      "    plt.ylabel('Spearman Correlation')\n",
      "#     plt.suptitle('Informativeness of MC algorithms\\n'\n",
      "#                  'Barabasi-Albert graphs G(50, 5) (%d iters)' % num_iters)\n",
      "    plt.show()\n",
      "    \n",
      "    # 1.7 Show top-k informativeness vs walks for just multiwalk\n",
      "#     for i, k in enumerate(TOP_KS):\n",
      "#         top_k = top_ks['multiwalk'][:, :, i].mean(axis=1)\n",
      "#         plt.plot(walks, top_k, '^--', label='Multiwalk Top-%d' % k)\n",
      "#     info = infos['multiwalk'].mean(axis=1)\n",
      "#     plt.plot(walks, info, '*--', label='Multiwalk Overall')\n",
      "    \n",
      "#     plt.margins(0.07)\n",
      "#     plt.legend(loc='best')\n",
      "#     plt.xticks(walks, map(lambda x: x/1000, walks))\n",
      "#     plt.xlabel('Number of walks (\\'000)')\n",
      "#     plt.ylabel('Informativeness')\n",
      "#     plt.suptitle('Top-K Informativeness of MC algorithms\\n'\n",
      "#                  'Barabasi-Albert graphs, with 50 nodes (%d iters)' % num_iters)\n",
      "#     plt.show()\n",
      "        \n",
      "    # 2. Show runtimes vs. walks\n",
      "    for key, label, color, marker in LABELS:\n",
      "        runtime = d['runtimes'][key].mean(axis=1)\n",
      "        plt.plot(d['walks'], runtime, marker + '--', label=label, c=color)\n",
      "    \n",
      "    plt.margins(0.07)\n",
      "    plt.legend(loc='best')\n",
      "    plt.xticks(d['walks'], map(lambda x: x/1000, d['walks']))\n",
      "    plt.xlabel('Number of walks (\\'000)')\n",
      "    plt.ylabel('Running time (secs)')\n",
      "#     plt.suptitle('Running Times of MC algorithms\\n'\n",
      "#                  'Barabasi-Albert graphs G(50, 5) (%d iters)' % num_iters)\n",
      "    plt.show()\n",
      "    \n",
      "#     3. Show informativeness vs. running time\n",
      "    for key, label, color, marker in LABELS:\n",
      "        info = d['infos']['timed_' + key].mean(axis=1)\n",
      "        plt.plot(d['times'], info, marker + '--', label=label, c=color, alpha=0.8)\n",
      "        \n",
      "    plt.margins(0.07)\n",
      "    plt.legend(loc='best')\n",
      "    plt.xlabel('Running time (secs)')\n",
      "    plt.ylabel('Spearman Correlation')\n",
      "#     plt.suptitle('Informativeness vs. Running Time of MC algorithms\\n'\n",
      "#                  'Barabasi-Albert graphs G(50, 5) (%d iters)' % num_iters)\n",
      "    plt.show()"
     ],
     "language": "python",
     "metadata": {},
     "outputs": [],
     "prompt_number": 57
    },
    {
     "cell_type": "code",
     "collapsed": true,
     "input": [
      "d = mc_by_walks([5000, 10000, 15000, 20000, 25000, 50000, 75000, 100000], [0.2, 0.4, 0.6, 0.8, 1, 2, 3, 4, 5], 5)"
     ],
     "language": "python",
     "metadata": {},
     "outputs": [
      {
       "output_type": "stream",
       "stream": "stdout",
       "text": [
        "One naive [<networkx.classes.graph.Graph object at 0x10be34d50>, 5000, False]\n",
        "One naive"
       ]
      },
      {
       "output_type": "stream",
       "stream": "stdout",
       "text": [
        " [<networkx.classes.graph.Graph object at 0x10be34550>, 5000, False]\n",
        "One naive"
       ]
      },
      {
       "output_type": "stream",
       "stream": "stdout",
       "text": [
        " [<networkx.classes.graph.Graph object at 0x10be34450>, 5000, False]\n",
        "One naive"
       ]
      },
      {
       "output_type": "stream",
       "stream": "stdout",
       "text": [
        " [<networkx.classes.graph.Graph object at 0x10be34310>, 5000, False]\n",
        "One naive"
       ]
      },
      {
       "output_type": "stream",
       "stream": "stdout",
       "text": [
        " [<networkx.classes.graph.Graph object at 0x10c1b7f90>, 5000, False]\n",
        "One naive"
       ]
      },
      {
       "output_type": "stream",
       "stream": "stdout",
       "text": [
        " [<networkx.classes.graph.Graph object at 0x10be34e50>, 10000, False]\n",
        "One naive"
       ]
      },
      {
       "output_type": "stream",
       "stream": "stdout",
       "text": [
        " [<networkx.classes.graph.Graph object at 0x10be34ad0>, 10000, False]\n",
        "One naive"
       ]
      },
      {
       "output_type": "stream",
       "stream": "stdout",
       "text": [
        " [<networkx.classes.graph.Graph object at 0x10be34410>, 10000, False]\n",
        "One naive"
       ]
      },
      {
       "output_type": "stream",
       "stream": "stdout",
       "text": [
        " [<networkx.classes.graph.Graph object at 0x10be34190>, 10000, False]\n",
        "One naive"
       ]
      },
      {
       "output_type": "stream",
       "stream": "stdout",
       "text": [
        " [<networkx.classes.graph.Graph object at 0x10be34fd0>, 10000, False]\n",
        "One naive"
       ]
      },
      {
       "output_type": "stream",
       "stream": "stdout",
       "text": [
        " [<networkx.classes.graph.Graph object at 0x10be34f10>, 15000, False]\n",
        "One naive"
       ]
      },
      {
       "output_type": "stream",
       "stream": "stdout",
       "text": [
        " [<networkx.classes.graph.Graph object at 0x10be34e90>, 15000, False]\n",
        "One naive"
       ]
      },
      {
       "output_type": "stream",
       "stream": "stdout",
       "text": [
        " [<networkx.classes.graph.Graph object at 0x10be341d0>, 15000, False]\n",
        "One naive"
       ]
      },
      {
       "output_type": "stream",
       "stream": "stdout",
       "text": [
        " [<networkx.classes.graph.Graph object at 0x10be344d0>, 15000, False]\n",
        "One naive"
       ]
      },
      {
       "output_type": "stream",
       "stream": "stdout",
       "text": [
        " [<networkx.classes.graph.Graph object at 0x10be34ed0>, 15000, False]\n",
        "One naive"
       ]
      },
      {
       "output_type": "stream",
       "stream": "stdout",
       "text": [
        " [<networkx.classes.graph.Graph object at 0x10be34d90>, 20000, False]\n",
        "One naive"
       ]
      },
      {
       "output_type": "stream",
       "stream": "stdout",
       "text": [
        " [<networkx.classes.graph.Graph object at 0x10be34150>, 20000, False]\n",
        "One naive"
       ]
      },
      {
       "output_type": "stream",
       "stream": "stdout",
       "text": [
        " [<networkx.classes.graph.Graph object at 0x10be34510>, 20000, False]\n",
        "One naive"
       ]
      },
      {
       "output_type": "stream",
       "stream": "stdout",
       "text": [
        " [<networkx.classes.graph.Graph object at 0x10be34490>, 20000, False]\n",
        "One naive"
       ]
      },
      {
       "output_type": "stream",
       "stream": "stdout",
       "text": [
        " [<networkx.classes.graph.Graph object at 0x10be34810>, 20000, False]\n",
        "One naive"
       ]
      },
      {
       "output_type": "stream",
       "stream": "stdout",
       "text": [
        " [<networkx.classes.graph.Graph object at 0x10be34a10>, 25000, False]\n",
        "One naive"
       ]
      },
      {
       "output_type": "stream",
       "stream": "stdout",
       "text": [
        " [<networkx.classes.graph.Graph object at 0x10bed0c50>, 25000, False]\n",
        "One naive"
       ]
      },
      {
       "output_type": "stream",
       "stream": "stdout",
       "text": [
        " [<networkx.classes.graph.Graph object at 0x10bed0b10>, 25000, False]\n",
        "One naive"
       ]
      },
      {
       "output_type": "stream",
       "stream": "stdout",
       "text": [
        " [<networkx.classes.graph.Graph object at 0x10bed0c10>, 25000, False]\n",
        "One naive"
       ]
      },
      {
       "output_type": "stream",
       "stream": "stdout",
       "text": [
        " [<networkx.classes.graph.Graph object at 0x10bed0f10>, 25000, False]\n",
        "One naive"
       ]
      },
      {
       "output_type": "stream",
       "stream": "stdout",
       "text": [
        " [<networkx.classes.graph.Graph object at 0x10bed0150>, 50000, False]\n",
        "One naive"
       ]
      },
      {
       "output_type": "stream",
       "stream": "stdout",
       "text": [
        " [<networkx.classes.graph.Graph object at 0x10bed0090>, 50000, False]\n",
        "One naive"
       ]
      },
      {
       "output_type": "stream",
       "stream": "stdout",
       "text": [
        " [<networkx.classes.graph.Graph object at 0x10bed0c90>, 50000, False]\n",
        "One naive"
       ]
      },
      {
       "output_type": "stream",
       "stream": "stdout",
       "text": [
        " [<networkx.classes.graph.Graph object at 0x10bed05d0>, 50000, False]\n",
        "One naive"
       ]
      },
      {
       "output_type": "stream",
       "stream": "stdout",
       "text": [
        " [<networkx.classes.graph.Graph object at 0x10bed0ed0>, 50000, False]\n",
        "One naive"
       ]
      },
      {
       "output_type": "stream",
       "stream": "stdout",
       "text": [
        " [<networkx.classes.graph.Graph object at 0x10bed0650>, 75000, False]\n",
        "One naive"
       ]
      },
      {
       "output_type": "stream",
       "stream": "stdout",
       "text": [
        " [<networkx.classes.graph.Graph object at 0x10bed0110>, 75000, False]\n",
        "One naive"
       ]
      },
      {
       "output_type": "stream",
       "stream": "stdout",
       "text": [
        " [<networkx.classes.graph.Graph object at 0x10bed0fd0>, 75000, False]\n",
        "One naive"
       ]
      },
      {
       "output_type": "stream",
       "stream": "stdout",
       "text": [
        " [<networkx.classes.graph.Graph object at 0x10bed0810>, 75000, False]\n",
        "One naive"
       ]
      },
      {
       "output_type": "stream",
       "stream": "stdout",
       "text": [
        " [<networkx.classes.graph.Graph object at 0x10bed02d0>, 75000, False]\n",
        "One naive"
       ]
      },
      {
       "output_type": "stream",
       "stream": "stdout",
       "text": [
        " [<networkx.classes.graph.Graph object at 0x10bed0910>, 100000, False]\n",
        "One naive"
       ]
      },
      {
       "output_type": "stream",
       "stream": "stdout",
       "text": [
        " [<networkx.classes.graph.Graph object at 0x10bed0e10>, 100000, False]\n",
        "One naive"
       ]
      },
      {
       "output_type": "stream",
       "stream": "stdout",
       "text": [
        " [<networkx.classes.graph.Graph object at 0x10bed03d0>, 100000, False]\n",
        "One naive"
       ]
      },
      {
       "output_type": "stream",
       "stream": "stdout",
       "text": [
        " [<networkx.classes.graph.Graph object at 0x10bed0190>, 100000, False]\n",
        "One naive"
       ]
      },
      {
       "output_type": "stream",
       "stream": "stdout",
       "text": [
        " [<networkx.classes.graph.Graph object at 0x10bed07d0>, 100000, False]\n",
        "Finished Naive"
       ]
      },
      {
       "output_type": "stream",
       "stream": "stdout",
       "text": [
        "\n",
        "Finished Multihit"
       ]
      },
      {
       "output_type": "stream",
       "stream": "stdout",
       "text": [
        "\n",
        "Finished Multiwalk"
       ]
      },
      {
       "output_type": "stream",
       "stream": "stdout",
       "text": [
        "\n",
        "Finished algo4"
       ]
      },
      {
       "output_type": "stream",
       "stream": "stdout",
       "text": [
        "\n",
        "One naive"
       ]
      },
      {
       "output_type": "stream",
       "stream": "stdout",
       "text": [
        " [<networkx.classes.graph.Graph object at 0x10bed09d0>, 0.1, True]\n",
        "One naive [<networkx.classes.graph.Graph object at 0x10bed0310>, 0.1, True]\n",
        "One naive"
       ]
      },
      {
       "output_type": "stream",
       "stream": "stdout",
       "text": [
        " [<networkx.classes.graph.Graph object at 0x10bed0990>, 0.1, True]\n",
        "One naive [<networkx.classes.graph.Graph object at 0x10bed0390>, 0.1, True]\n",
        "One naive"
       ]
      },
      {
       "output_type": "stream",
       "stream": "stdout",
       "text": [
        " [<networkx.classes.graph.Graph object at 0x10bed0410>, 0.1, True]\n",
        "One naive [<networkx.classes.graph.Graph object at 0x10bed0510>, 0.2, True]\n",
        "One naive"
       ]
      },
      {
       "output_type": "stream",
       "stream": "stdout",
       "text": [
        " [<networkx.classes.graph.Graph object at 0x10bc25ad0>, 0.2, True]\n",
        "One naive [<networkx.classes.graph.Graph object at 0x10bc25910>, 0.2, True]\n",
        "One naive"
       ]
      },
      {
       "output_type": "stream",
       "stream": "stdout",
       "text": [
        " [<networkx.classes.graph.Graph object at 0x10bc25350>, 0.2, True]\n",
        "One naive [<networkx.classes.graph.Graph object at 0x10bc25e50>, 0.2, True]\n",
        "One naive"
       ]
      },
      {
       "output_type": "stream",
       "stream": "stdout",
       "text": [
        " [<networkx.classes.graph.Graph object at 0x10bc25b50>, 0.4, True]\n",
        "One naive [<networkx.classes.graph.Graph object at 0x10bc25c10>, 0.4, True]\n",
        "One naive"
       ]
      },
      {
       "output_type": "stream",
       "stream": "stdout",
       "text": [
        " [<networkx.classes.graph.Graph object at 0x10bc25850>, 0.4, True]\n",
        "One naive [<networkx.classes.graph.Graph object at 0x10bc25210>, 0.4, True]\n",
        "One naive"
       ]
      },
      {
       "output_type": "stream",
       "stream": "stdout",
       "text": [
        " [<networkx.classes.graph.Graph object at 0x10bc250d0>, 0.4, True]\n",
        "One naive [<networkx.classes.graph.Graph object at 0x10bc25c90>, 0.6, True]\n",
        "One naive"
       ]
      },
      {
       "output_type": "stream",
       "stream": "stdout",
       "text": [
        " [<networkx.classes.graph.Graph object at 0x10bc25a90>, 0.6, True]\n",
        "One naive [<networkx.classes.graph.Graph object at 0x10bc25790>, 0.6, True]\n",
        "One naive"
       ]
      },
      {
       "output_type": "stream",
       "stream": "stdout",
       "text": [
        " [<networkx.classes.graph.Graph object at 0x10bc25f90>, 0.6, True]\n",
        "One naive [<networkx.classes.graph.Graph object at 0x10bc25b90>, 0.6, True]\n",
        "One naive"
       ]
      },
      {
       "output_type": "stream",
       "stream": "stdout",
       "text": [
        " [<networkx.classes.graph.Graph object at 0x10bc25310>, 0.8, True]\n",
        "One naive [<networkx.classes.graph.Graph object at 0x10bc258d0>, 0.8, True]\n",
        "One naive"
       ]
      },
      {
       "output_type": "stream",
       "stream": "stdout",
       "text": [
        " [<networkx.classes.graph.Graph object at 0x10bc25390>, 0.8, True]\n",
        "One naive [<networkx.classes.graph.Graph object at 0x10bc25150>, 0.8, True]\n",
        "One naive"
       ]
      },
      {
       "output_type": "stream",
       "stream": "stdout",
       "text": [
        " [<networkx.classes.graph.Graph object at 0x10bc252d0>, 0.8, True]\n",
        "One naive [<networkx.classes.graph.Graph object at 0x10bc25ed0>, 1, True]\n",
        "One naive"
       ]
      },
      {
       "output_type": "stream",
       "stream": "stdout",
       "text": [
        " [<networkx.classes.graph.Graph object at 0x10bc25590>, 1, True]\n",
        "One naive [<networkx.classes.graph.Graph object at 0x10bc25410>, 1, True]\n",
        "One naive"
       ]
      },
      {
       "output_type": "stream",
       "stream": "stdout",
       "text": [
        " [<networkx.classes.graph.Graph object at 0x10bc25f10>, 1, True]\n",
        "One naive [<networkx.classes.graph.Graph object at 0x10bc25e90>, 1, True]\n",
        "One naive"
       ]
      },
      {
       "output_type": "stream",
       "stream": "stdout",
       "text": [
        " [<networkx.classes.graph.Graph object at 0x10bc25490>, 2, True]\n",
        "One naive [<networkx.classes.graph.Graph object at 0x10bc25110>, 2, True]\n",
        "One naive"
       ]
      },
      {
       "output_type": "stream",
       "stream": "stdout",
       "text": [
        " [<networkx.classes.graph.Graph object at 0x10bc255d0>, 2, True]\n",
        "One naive [<networkx.classes.graph.Graph object at 0x10bc25190>, 2, True]\n",
        "One naive"
       ]
      },
      {
       "output_type": "stream",
       "stream": "stdout",
       "text": [
        " [<networkx.classes.graph.Graph object at 0x10bc25810>, 2, True]\n",
        "One naive [<networkx.classes.graph.Graph object at 0x10bc25d50>, 3, True]\n",
        "One naive"
       ]
      },
      {
       "output_type": "stream",
       "stream": "stdout",
       "text": [
        " [<networkx.classes.graph.Graph object at 0x10bc25d90>, 3, True]\n",
        "One naive [<networkx.classes.graph.Graph object at 0x10bc25fd0>, 3, True]\n",
        "One naive"
       ]
      },
      {
       "output_type": "stream",
       "stream": "stdout",
       "text": [
        " [<networkx.classes.graph.Graph object at 0x10bc25610>, 3, True]\n",
        "One naive [<networkx.classes.graph.Graph object at 0x10bc25250>, 3, True]\n",
        "One naive"
       ]
      },
      {
       "output_type": "stream",
       "stream": "stdout",
       "text": [
        " [<networkx.classes.graph.Graph object at 0x10bc259d0>, 4, True]\n",
        "One naive [<networkx.classes.graph.Graph object at 0x10bc257d0>, 4, True]\n",
        "One naive"
       ]
      },
      {
       "output_type": "stream",
       "stream": "stdout",
       "text": [
        " [<networkx.classes.graph.Graph object at 0x10bc254d0>, 4, True]\n",
        "One naive [<networkx.classes.graph.Graph object at 0x10bc253d0>, 4, True]\n",
        "One naive"
       ]
      },
      {
       "output_type": "stream",
       "stream": "stdout",
       "text": [
        " [<networkx.classes.graph.Graph object at 0x10bc25f50>, 4, True]\n",
        "One naive [<networkx.classes.graph.Graph object at 0x10bc25510>, 5, True]\n",
        "One naive"
       ]
      },
      {
       "output_type": "stream",
       "stream": "stdout",
       "text": [
        " [<networkx.classes.graph.Graph object at 0x10bc25dd0>, 5, True]\n",
        "One naive [<networkx.classes.graph.Graph object at 0x10bc25710>, 5, True]\n",
        "One naive"
       ]
      },
      {
       "output_type": "stream",
       "stream": "stdout",
       "text": [
        " [<networkx.classes.graph.Graph object at 0x10bc25bd0>, 5, True]\n",
        "One naive [<networkx.classes.graph.Graph object at 0x10bc25e10>, 5, True]\n",
        "Finished Timed Naive"
       ]
      },
      {
       "output_type": "stream",
       "stream": "stdout",
       "text": [
        "\n",
        "Multihit: Simulated 5582 walks"
       ]
      },
      {
       "output_type": "stream",
       "stream": "stdout",
       "text": [
        "\n",
        "Multihit: Simulated 6292 walks"
       ]
      },
      {
       "output_type": "stream",
       "stream": "stdout",
       "text": [
        "\n",
        "Multihit: Simulated 6221 walks"
       ]
      },
      {
       "output_type": "stream",
       "stream": "stdout",
       "text": [
        "\n",
        "Multihit: Simulated 6608 walks"
       ]
      },
      {
       "output_type": "stream",
       "stream": "stdout",
       "text": [
        "\n",
        "Multihit: Simulated 6609 walks"
       ]
      },
      {
       "output_type": "stream",
       "stream": "stdout",
       "text": [
        "\n",
        "Multihit: Simulated 13439 walks"
       ]
      },
      {
       "output_type": "stream",
       "stream": "stdout",
       "text": [
        "\n",
        "Multihit: Simulated 13186 walks"
       ]
      },
      {
       "output_type": "stream",
       "stream": "stdout",
       "text": [
        "\n",
        "Multihit: Simulated 12290 walks"
       ]
      },
      {
       "output_type": "stream",
       "stream": "stdout",
       "text": [
        "\n",
        "Multihit: Simulated 13055 walks"
       ]
      },
      {
       "output_type": "stream",
       "stream": "stdout",
       "text": [
        "\n",
        "Multihit: Simulated 13361 walks"
       ]
      },
      {
       "output_type": "stream",
       "stream": "stdout",
       "text": [
        "\n",
        "Multihit: Simulated 27352 walks"
       ]
      },
      {
       "output_type": "stream",
       "stream": "stdout",
       "text": [
        "\n",
        "Multihit: Simulated 26434 walks"
       ]
      },
      {
       "output_type": "stream",
       "stream": "stdout",
       "text": [
        "\n",
        "Multihit: Simulated 26020 walks"
       ]
      },
      {
       "output_type": "stream",
       "stream": "stdout",
       "text": [
        "\n",
        "Multihit: Simulated 26754 walks"
       ]
      },
      {
       "output_type": "stream",
       "stream": "stdout",
       "text": [
        "\n",
        "Multihit: Simulated 26822 walks"
       ]
      },
      {
       "output_type": "stream",
       "stream": "stdout",
       "text": [
        "\n",
        "Multihit: Simulated 38905 walks"
       ]
      },
      {
       "output_type": "stream",
       "stream": "stdout",
       "text": [
        "\n",
        "Multihit: Simulated 39834 walks"
       ]
      },
      {
       "output_type": "stream",
       "stream": "stdout",
       "text": [
        "\n",
        "Multihit: Simulated 39066 walks"
       ]
      },
      {
       "output_type": "stream",
       "stream": "stdout",
       "text": [
        "\n",
        "Multihit: Simulated 39139 walks"
       ]
      },
      {
       "output_type": "stream",
       "stream": "stdout",
       "text": [
        "\n",
        "Multihit: Simulated 39548 walks"
       ]
      },
      {
       "output_type": "stream",
       "stream": "stdout",
       "text": [
        "\n",
        "Multihit: Simulated 52925 walks"
       ]
      },
      {
       "output_type": "stream",
       "stream": "stdout",
       "text": [
        "\n",
        "Multihit: Simulated 53603 walks"
       ]
      },
      {
       "output_type": "stream",
       "stream": "stdout",
       "text": [
        "\n",
        "Multihit: Simulated 53929 walks"
       ]
      },
      {
       "output_type": "stream",
       "stream": "stdout",
       "text": [
        "\n",
        "Multihit: Simulated 53844 walks"
       ]
      },
      {
       "output_type": "stream",
       "stream": "stdout",
       "text": [
        "\n",
        "Multihit: Simulated 54126 walks"
       ]
      },
      {
       "output_type": "stream",
       "stream": "stdout",
       "text": [
        "\n",
        "Multihit: Simulated 67741 walks"
       ]
      },
      {
       "output_type": "stream",
       "stream": "stdout",
       "text": [
        "\n",
        "Multihit: Simulated 67055 walks"
       ]
      },
      {
       "output_type": "stream",
       "stream": "stdout",
       "text": [
        "\n",
        "Multihit: Simulated 67642 walks"
       ]
      },
      {
       "output_type": "stream",
       "stream": "stdout",
       "text": [
        "\n",
        "Multihit: Simulated 66889 walks"
       ]
      },
      {
       "output_type": "stream",
       "stream": "stdout",
       "text": [
        "\n",
        "Multihit: Simulated 65621 walks"
       ]
      },
      {
       "output_type": "stream",
       "stream": "stdout",
       "text": [
        "\n",
        "Multihit: Simulated 131979 walks"
       ]
      },
      {
       "output_type": "stream",
       "stream": "stdout",
       "text": [
        "\n",
        "Multihit: Simulated 133518 walks"
       ]
      },
      {
       "output_type": "stream",
       "stream": "stdout",
       "text": [
        "\n",
        "Multihit: Simulated 133462 walks"
       ]
      },
      {
       "output_type": "stream",
       "stream": "stdout",
       "text": [
        "\n",
        "Multihit: Simulated 133366 walks"
       ]
      },
      {
       "output_type": "stream",
       "stream": "stdout",
       "text": [
        "\n",
        "Multihit: Simulated 132599 walks"
       ]
      },
      {
       "output_type": "stream",
       "stream": "stdout",
       "text": [
        "\n",
        "Multihit: Simulated 200410 walks"
       ]
      },
      {
       "output_type": "stream",
       "stream": "stdout",
       "text": [
        "\n",
        "Multihit: Simulated 200462 walks"
       ]
      },
      {
       "output_type": "stream",
       "stream": "stdout",
       "text": [
        "\n",
        "Multihit: Simulated 200607 walks"
       ]
      },
      {
       "output_type": "stream",
       "stream": "stdout",
       "text": [
        "\n",
        "Multihit: Simulated 200132 walks"
       ]
      },
      {
       "output_type": "stream",
       "stream": "stdout",
       "text": [
        "\n",
        "Multihit: Simulated 196583 walks"
       ]
      },
      {
       "output_type": "stream",
       "stream": "stdout",
       "text": [
        "\n",
        "Multihit: Simulated 269920 walks"
       ]
      },
      {
       "output_type": "stream",
       "stream": "stdout",
       "text": [
        "\n",
        "Multihit: Simulated 268449 walks"
       ]
      },
      {
       "output_type": "stream",
       "stream": "stdout",
       "text": [
        "\n",
        "Multihit: Simulated 268311 walks"
       ]
      },
      {
       "output_type": "stream",
       "stream": "stdout",
       "text": [
        "\n",
        "Multihit: Simulated 266226 walks"
       ]
      },
      {
       "output_type": "stream",
       "stream": "stdout",
       "text": [
        "\n",
        "Multihit: Simulated 265332 walks"
       ]
      },
      {
       "output_type": "stream",
       "stream": "stdout",
       "text": [
        "\n",
        "Multihit: Simulated 333608 walks"
       ]
      },
      {
       "output_type": "stream",
       "stream": "stdout",
       "text": [
        "\n",
        "Multihit: Simulated 331162 walks"
       ]
      },
      {
       "output_type": "stream",
       "stream": "stdout",
       "text": [
        "\n",
        "Multihit: Simulated 337914 walks"
       ]
      },
      {
       "output_type": "stream",
       "stream": "stdout",
       "text": [
        "\n",
        "Multihit: Simulated 341887 walks"
       ]
      },
      {
       "output_type": "stream",
       "stream": "stdout",
       "text": [
        "\n",
        "Multihit: Simulated 335954 walks"
       ]
      },
      {
       "output_type": "stream",
       "stream": "stdout",
       "text": [
        "\n",
        "Finished Timed Multihit\n",
        "Multiwalk: Simulated 1012 walks"
       ]
      },
      {
       "output_type": "stream",
       "stream": "stdout",
       "text": [
        "\n",
        "Multiwalk: Simulated 969 walks"
       ]
      },
      {
       "output_type": "stream",
       "stream": "stdout",
       "text": [
        "\n",
        "Multiwalk: Simulated 1020 walks"
       ]
      },
      {
       "output_type": "stream",
       "stream": "stdout",
       "text": [
        "\n",
        "Multiwalk: Simulated 988 walks"
       ]
      },
      {
       "output_type": "stream",
       "stream": "stdout",
       "text": [
        "\n",
        "Multiwalk: Simulated 1008 walks"
       ]
      },
      {
       "output_type": "stream",
       "stream": "stdout",
       "text": [
        "\n",
        "Multiwalk: Simulated 2102 walks"
       ]
      },
      {
       "output_type": "stream",
       "stream": "stdout",
       "text": [
        "\n",
        "Multiwalk: Simulated 2048 walks"
       ]
      },
      {
       "output_type": "stream",
       "stream": "stdout",
       "text": [
        "\n",
        "Multiwalk: Simulated 2102 walks"
       ]
      },
      {
       "output_type": "stream",
       "stream": "stdout",
       "text": [
        "\n",
        "Multiwalk: Simulated 1979 walks"
       ]
      },
      {
       "output_type": "stream",
       "stream": "stdout",
       "text": [
        "\n",
        "Multiwalk: Simulated 1991 walks"
       ]
      },
      {
       "output_type": "stream",
       "stream": "stdout",
       "text": [
        "\n",
        "Multiwalk: Simulated 4037 walks"
       ]
      },
      {
       "output_type": "stream",
       "stream": "stdout",
       "text": [
        "\n",
        "Multiwalk: Simulated 4072 walks"
       ]
      },
      {
       "output_type": "stream",
       "stream": "stdout",
       "text": [
        "\n",
        "Multiwalk: Simulated 4228 walks"
       ]
      },
      {
       "output_type": "stream",
       "stream": "stdout",
       "text": [
        "\n",
        "Multiwalk: Simulated 4076 walks"
       ]
      },
      {
       "output_type": "stream",
       "stream": "stdout",
       "text": [
        "\n",
        "Multiwalk: Simulated 3952 walks"
       ]
      },
      {
       "output_type": "stream",
       "stream": "stdout",
       "text": [
        "\n",
        "Multiwalk: Simulated 6212 walks"
       ]
      },
      {
       "output_type": "stream",
       "stream": "stdout",
       "text": [
        "\n",
        "Multiwalk: Simulated 6178 walks"
       ]
      },
      {
       "output_type": "stream",
       "stream": "stdout",
       "text": [
        "\n",
        "Multiwalk: Simulated 6209 walks"
       ]
      },
      {
       "output_type": "stream",
       "stream": "stdout",
       "text": [
        "\n",
        "Multiwalk: Simulated 6169 walks"
       ]
      },
      {
       "output_type": "stream",
       "stream": "stdout",
       "text": [
        "\n",
        "Multiwalk: Simulated 6183 walks"
       ]
      },
      {
       "output_type": "stream",
       "stream": "stdout",
       "text": [
        "\n",
        "Multiwalk: Simulated 8168 walks"
       ]
      },
      {
       "output_type": "stream",
       "stream": "stdout",
       "text": [
        "\n",
        "Multiwalk: Simulated 8141 walks"
       ]
      },
      {
       "output_type": "stream",
       "stream": "stdout",
       "text": [
        "\n",
        "Multiwalk: Simulated 8132 walks"
       ]
      },
      {
       "output_type": "stream",
       "stream": "stdout",
       "text": [
        "\n",
        "Multiwalk: Simulated 8447 walks"
       ]
      },
      {
       "output_type": "stream",
       "stream": "stdout",
       "text": [
        "\n",
        "Multiwalk: Simulated 8028 walks"
       ]
      },
      {
       "output_type": "stream",
       "stream": "stdout",
       "text": [
        "\n",
        "Multiwalk: Simulated 10276 walks"
       ]
      },
      {
       "output_type": "stream",
       "stream": "stdout",
       "text": [
        "\n",
        "Multiwalk: Simulated 10751 walks"
       ]
      },
      {
       "output_type": "stream",
       "stream": "stdout",
       "text": [
        "\n",
        "Multiwalk: Simulated 10232 walks"
       ]
      },
      {
       "output_type": "stream",
       "stream": "stdout",
       "text": [
        "\n",
        "Multiwalk: Simulated 10262 walks"
       ]
      },
      {
       "output_type": "stream",
       "stream": "stdout",
       "text": [
        "\n",
        "Multiwalk: Simulated 10567 walks"
       ]
      },
      {
       "output_type": "stream",
       "stream": "stdout",
       "text": [
        "\n",
        "Multiwalk: Simulated 20660 walks"
       ]
      },
      {
       "output_type": "stream",
       "stream": "stdout",
       "text": [
        "\n",
        "Multiwalk: Simulated 20627 walks"
       ]
      },
      {
       "output_type": "stream",
       "stream": "stdout",
       "text": [
        "\n",
        "Multiwalk: Simulated 20855 walks"
       ]
      },
      {
       "output_type": "stream",
       "stream": "stdout",
       "text": [
        "\n",
        "Multiwalk: Simulated 21029 walks"
       ]
      },
      {
       "output_type": "stream",
       "stream": "stdout",
       "text": [
        "\n",
        "Multiwalk: Simulated 21025 walks"
       ]
      },
      {
       "output_type": "stream",
       "stream": "stdout",
       "text": [
        "\n",
        "Multiwalk: Simulated 30898 walks"
       ]
      },
      {
       "output_type": "stream",
       "stream": "stdout",
       "text": [
        "\n",
        "Multiwalk: Simulated 29508 walks"
       ]
      },
      {
       "output_type": "stream",
       "stream": "stdout",
       "text": [
        "\n",
        "Multiwalk: Simulated 30367 walks"
       ]
      },
      {
       "output_type": "stream",
       "stream": "stdout",
       "text": [
        "\n",
        "Multiwalk: Simulated 31166 walks"
       ]
      },
      {
       "output_type": "stream",
       "stream": "stdout",
       "text": [
        "\n",
        "Multiwalk: Simulated 31023 walks"
       ]
      },
      {
       "output_type": "stream",
       "stream": "stdout",
       "text": [
        "\n",
        "Multiwalk: Simulated 41733 walks"
       ]
      },
      {
       "output_type": "stream",
       "stream": "stdout",
       "text": [
        "\n",
        "Multiwalk: Simulated 41129 walks"
       ]
      },
      {
       "output_type": "stream",
       "stream": "stdout",
       "text": [
        "\n",
        "Multiwalk: Simulated 41617 walks"
       ]
      },
      {
       "output_type": "stream",
       "stream": "stdout",
       "text": [
        "\n",
        "Multiwalk: Simulated 41584 walks"
       ]
      },
      {
       "output_type": "stream",
       "stream": "stdout",
       "text": [
        "\n",
        "Multiwalk: Simulated 41289 walks"
       ]
      },
      {
       "output_type": "stream",
       "stream": "stdout",
       "text": [
        "\n",
        "Multiwalk: Simulated 51864 walks"
       ]
      },
      {
       "output_type": "stream",
       "stream": "stdout",
       "text": [
        "\n",
        "Multiwalk: Simulated 51655 walks"
       ]
      },
      {
       "output_type": "stream",
       "stream": "stdout",
       "text": [
        "\n",
        "Multiwalk: Simulated 51696 walks"
       ]
      },
      {
       "output_type": "stream",
       "stream": "stdout",
       "text": [
        "\n",
        "Multiwalk: Simulated 51469 walks"
       ]
      },
      {
       "output_type": "stream",
       "stream": "stdout",
       "text": [
        "\n",
        "Multiwalk: Simulated 51328 walks"
       ]
      },
      {
       "output_type": "stream",
       "stream": "stdout",
       "text": [
        "\n",
        "Finished Timed Multiwalk\n",
        "Algo4: Simulated 3353 walks"
       ]
      },
      {
       "output_type": "stream",
       "stream": "stdout",
       "text": [
        "\n",
        "Algo4: Simulated 3356 walks"
       ]
      },
      {
       "output_type": "stream",
       "stream": "stdout",
       "text": [
        "\n",
        "Algo4: Simulated 3235 walks"
       ]
      },
      {
       "output_type": "stream",
       "stream": "stdout",
       "text": [
        "\n",
        "Algo4: Simulated 3243 walks"
       ]
      },
      {
       "output_type": "stream",
       "stream": "stdout",
       "text": [
        "\n",
        "Algo4: Simulated 3146 walks"
       ]
      },
      {
       "output_type": "stream",
       "stream": "stdout",
       "text": [
        "\n",
        "Algo4: Simulated 6624 walks"
       ]
      },
      {
       "output_type": "stream",
       "stream": "stdout",
       "text": [
        "\n",
        "Algo4: Simulated 6811 walks"
       ]
      },
      {
       "output_type": "stream",
       "stream": "stdout",
       "text": [
        "\n",
        "Algo4: Simulated 6280 walks"
       ]
      },
      {
       "output_type": "stream",
       "stream": "stdout",
       "text": [
        "\n",
        "Algo4: Simulated 6436 walks"
       ]
      },
      {
       "output_type": "stream",
       "stream": "stdout",
       "text": [
        "\n",
        "Algo4: Simulated 6789 walks"
       ]
      },
      {
       "output_type": "stream",
       "stream": "stdout",
       "text": [
        "\n",
        "Algo4: Simulated 13193 walks"
       ]
      },
      {
       "output_type": "stream",
       "stream": "stdout",
       "text": [
        "\n",
        "Algo4: Simulated 13337 walks"
       ]
      },
      {
       "output_type": "stream",
       "stream": "stdout",
       "text": [
        "\n",
        "Algo4: Simulated 13485 walks"
       ]
      },
      {
       "output_type": "stream",
       "stream": "stdout",
       "text": [
        "\n",
        "Algo4: Simulated 13338 walks"
       ]
      },
      {
       "output_type": "stream",
       "stream": "stdout",
       "text": [
        "\n",
        "Algo4: Simulated 13535 walks"
       ]
      },
      {
       "output_type": "stream",
       "stream": "stdout",
       "text": [
        "\n",
        "Algo4: Simulated 20376 walks"
       ]
      },
      {
       "output_type": "stream",
       "stream": "stdout",
       "text": [
        "\n",
        "Algo4: Simulated 20006 walks"
       ]
      },
      {
       "output_type": "stream",
       "stream": "stdout",
       "text": [
        "\n",
        "Algo4: Simulated 19896 walks"
       ]
      },
      {
       "output_type": "stream",
       "stream": "stdout",
       "text": [
        "\n",
        "Algo4: Simulated 20248 walks"
       ]
      },
      {
       "output_type": "stream",
       "stream": "stdout",
       "text": [
        "\n",
        "Algo4: Simulated 19587 walks"
       ]
      },
      {
       "output_type": "stream",
       "stream": "stdout",
       "text": [
        "\n",
        "Algo4: Simulated 27418 walks"
       ]
      },
      {
       "output_type": "stream",
       "stream": "stdout",
       "text": [
        "\n",
        "Algo4: Simulated 27350 walks"
       ]
      },
      {
       "output_type": "stream",
       "stream": "stdout",
       "text": [
        "\n",
        "Algo4: Simulated 27095 walks"
       ]
      },
      {
       "output_type": "stream",
       "stream": "stdout",
       "text": [
        "\n",
        "Algo4: Simulated 26612 walks"
       ]
      },
      {
       "output_type": "stream",
       "stream": "stdout",
       "text": [
        "\n",
        "Algo4: Simulated 27916 walks"
       ]
      },
      {
       "output_type": "stream",
       "stream": "stdout",
       "text": [
        "\n",
        "Algo4: Simulated 34071 walks"
       ]
      },
      {
       "output_type": "stream",
       "stream": "stdout",
       "text": [
        "\n",
        "Algo4: Simulated 34357 walks"
       ]
      },
      {
       "output_type": "stream",
       "stream": "stdout",
       "text": [
        "\n",
        "Algo4: Simulated 34170 walks"
       ]
      },
      {
       "output_type": "stream",
       "stream": "stdout",
       "text": [
        "\n",
        "Algo4: Simulated 33485 walks"
       ]
      },
      {
       "output_type": "stream",
       "stream": "stdout",
       "text": [
        "\n",
        "Algo4: Simulated 34598 walks"
       ]
      },
      {
       "output_type": "stream",
       "stream": "stdout",
       "text": [
        "\n",
        "Algo4: Simulated 68206 walks"
       ]
      },
      {
       "output_type": "stream",
       "stream": "stdout",
       "text": [
        "\n",
        "Algo4: Simulated 68002 walks"
       ]
      },
      {
       "output_type": "stream",
       "stream": "stdout",
       "text": [
        "\n",
        "Algo4: Simulated 69020 walks"
       ]
      },
      {
       "output_type": "stream",
       "stream": "stdout",
       "text": [
        "\n",
        "Algo4: Simulated 68329 walks"
       ]
      },
      {
       "output_type": "stream",
       "stream": "stdout",
       "text": [
        "\n",
        "Algo4: Simulated 68130 walks"
       ]
      },
      {
       "output_type": "stream",
       "stream": "stdout",
       "text": [
        "\n",
        "Algo4: Simulated 101686 walks"
       ]
      },
      {
       "output_type": "stream",
       "stream": "stdout",
       "text": [
        "\n",
        "Algo4: Simulated 101406 walks"
       ]
      },
      {
       "output_type": "stream",
       "stream": "stdout",
       "text": [
        "\n",
        "Algo4: Simulated 102543 walks"
       ]
      },
      {
       "output_type": "stream",
       "stream": "stdout",
       "text": [
        "\n",
        "Algo4: Simulated 103545 walks"
       ]
      },
      {
       "output_type": "stream",
       "stream": "stdout",
       "text": [
        "\n",
        "Algo4: Simulated 98904 walks"
       ]
      },
      {
       "output_type": "stream",
       "stream": "stdout",
       "text": [
        "\n",
        "Algo4: Simulated 127545 walks"
       ]
      },
      {
       "output_type": "stream",
       "stream": "stdout",
       "text": [
        "\n",
        "Algo4: Simulated 132815 walks"
       ]
      },
      {
       "output_type": "stream",
       "stream": "stdout",
       "text": [
        "\n",
        "Algo4: Simulated 137181 walks"
       ]
      },
      {
       "output_type": "stream",
       "stream": "stdout",
       "text": [
        "\n",
        "Algo4: Simulated 137577 walks"
       ]
      },
      {
       "output_type": "stream",
       "stream": "stdout",
       "text": [
        "\n",
        "Algo4: Simulated 136319 walks"
       ]
      },
      {
       "output_type": "stream",
       "stream": "stdout",
       "text": [
        "\n",
        "Algo4: Simulated 171265 walks"
       ]
      },
      {
       "output_type": "stream",
       "stream": "stdout",
       "text": [
        "\n",
        "Algo4: Simulated 169317 walks"
       ]
      },
      {
       "output_type": "stream",
       "stream": "stdout",
       "text": [
        "\n",
        "Algo4: Simulated 170688 walks"
       ]
      },
      {
       "output_type": "stream",
       "stream": "stdout",
       "text": [
        "\n",
        "Algo4: Simulated 170852 walks"
       ]
      },
      {
       "output_type": "stream",
       "stream": "stdout",
       "text": [
        "\n",
        "Algo4: Simulated 169570 walks"
       ]
      },
      {
       "output_type": "stream",
       "stream": "stdout",
       "text": [
        "\n",
        "Finished Timed algo4\n",
        "Finished LS_prob"
       ]
      },
      {
       "output_type": "stream",
       "stream": "stdout",
       "text": [
        "\n",
        "Finished Timed LS_prob"
       ]
      },
      {
       "output_type": "stream",
       "stream": "stdout",
       "text": [
        "\n"
       ]
      }
     ],
     "prompt_number": 79
    },
    {
     "cell_type": "code",
     "collapsed": false,
     "input": [
      "start = time.clock()\n",
      "d3 = mc_by_walks([62500, 75000, 87500, 100000, 112500, 125000], [0.2, 0.6, 1, 2, 3, 4, 5], 3)\n",
      "print 'elapsed:', time.clock() - start"
     ],
     "language": "python",
     "metadata": {},
     "outputs": [
      {
       "output_type": "stream",
       "stream": "stdout",
       "text": [
        "Finished Naive\n",
        "Finished Multihit"
       ]
      },
      {
       "output_type": "stream",
       "stream": "stdout",
       "text": [
        "\n",
        "Finished Multiwalk"
       ]
      },
      {
       "output_type": "stream",
       "stream": "stdout",
       "text": [
        "\n",
        "Finished algo4"
       ]
      },
      {
       "output_type": "stream",
       "stream": "stdout",
       "text": [
        "\n",
        "Finished Timed Naive"
       ]
      },
      {
       "output_type": "stream",
       "stream": "stdout",
       "text": [
        "\n",
        "Finished Timed Multihit"
       ]
      },
      {
       "output_type": "stream",
       "stream": "stdout",
       "text": [
        "\n",
        "Finished Timed Multiwalk"
       ]
      },
      {
       "output_type": "stream",
       "stream": "stdout",
       "text": [
        "\n",
        "Finished Timed algo4"
       ]
      },
      {
       "output_type": "stream",
       "stream": "stdout",
       "text": [
        "\n",
        "Finished LS_prob"
       ]
      },
      {
       "output_type": "stream",
       "stream": "stdout",
       "text": [
        "\n",
        "Finished Timed LS_prob"
       ]
      },
      {
       "output_type": "stream",
       "stream": "stdout",
       "text": [
        "\n",
        "elapsed:"
       ]
      },
      {
       "output_type": "stream",
       "stream": "stdout",
       "text": [
        " 389.898623\n"
       ]
      }
     ],
     "prompt_number": 47
    },
    {
     "cell_type": "code",
     "collapsed": false,
     "input": [
      "d3['errors']"
     ],
     "language": "python",
     "metadata": {},
     "outputs": [
      {
       "metadata": {},
       "output_type": "pyout",
       "prompt_number": 40,
       "text": [
        "{'algo4': array([[ 0.01018828,  0.01008484,  0.01010034],\n",
        "        [ 0.00577807,  0.00574811,  0.00576693],\n",
        "        [ 0.00454131,  0.00457855,  0.00449963]]),\n",
        " 'multihit': array([[ 0.0235959 ,  0.02444473,  0.02384175],\n",
        "        [ 0.01363337,  0.01341938,  0.01364791],\n",
        "        [ 0.01052114,  0.01055965,  0.01053778]]),\n",
        " 'multiwalk': array([[ 0.01034683,  0.01039831,  0.01036817],\n",
        "        [ 0.00605409,  0.00595784,  0.00603266],\n",
        "        [ 0.00469752,  0.00470479,  0.00469542]]),\n",
        " 'naive': array([[        nan,         nan,         nan],\n",
        "        [        nan,         nan,         nan],\n",
        "        [ 0.06091849,  0.06172423,  0.06194718]])}"
       ]
      }
     ],
     "prompt_number": 40
    },
    {
     "cell_type": "code",
     "collapsed": true,
     "input": [
      "plot_mc_by_walks(d3)"
     ],
     "language": "python",
     "metadata": {},
     "outputs": [
      {
       "metadata": {},
       "output_type": "display_data",
       "png": "[encoded data removed]",
       "text": [
        "<matplotlib.figure.Figure at 0x1185f09d0>"
       ]
      },
      {
       "metadata": {},
       "output_type": "display_data",
       "png": "[encoded data removed]",
       "text": [
        "<matplotlib.figure.Figure at 0x10b1f2790>"
       ]
      },
      {
       "metadata": {},
       "output_type": "display_data",
       "png": "[encoded data removed]",
       "text": [
        "<matplotlib.figure.Figure at 0x1039fc150>"
       ]
      },
      {
       "metadata": {},
       "output_type": "display_data",
       "png": "[encoded data removed]",
       "text": [
        "<matplotlib.figure.Figure at 0x10924cf50>"
       ]
      }
     ],
     "prompt_number": 58
    },
    {
     "cell_type": "code",
     "collapsed": false,
     "input": [
      "plot_mc_by_walks(**d2)"
     ],
     "language": "python",
     "metadata": {},
     "outputs": [
      {
       "metadata": {},
       "output_type": "display_data",
       "png": "[encoded data removed]",
       "text": [
        "<matplotlib.figure.Figure at 0x10bc25f90>"
       ]
      },
      {
       "metadata": {},
       "output_type": "display_data",
       "png": "[encoded data removed]",
       "text": [
        "<matplotlib.figure.Figure at 0x10c548c10>"
       ]
      },
      {
       "metadata": {},
       "output_type": "display_data",
       "png": "[encoded data removed]",
       "text": [
        "<matplotlib.figure.Figure at 0x10c0bcc90>"
       ]
      },
      {
       "metadata": {},
       "output_type": "display_data",
       "png": "[encoded data removed]",
       "text": [
        "<matplotlib.figure.Figure at 0x10c356850>"
       ]
      }
     ],
     "prompt_number": 86
    },
    {
     "cell_type": "code",
     "collapsed": false,
     "input": [
      "plt.rcParams['figure.figsize'] = (9, 6)\n",
      "plt.rcParams['font.size'] = 15\n",
      "plt.rcParams['legend.fontsize'] = 12\n",
      "plt.rcParams['lines.markersize'] = 7.5\n",
      "plt.rcParams['lines.linewidth'] = 1.5"
     ],
     "language": "python",
     "metadata": {},
     "outputs": [],
     "prompt_number": 23
    },
    {
     "cell_type": "code",
     "collapsed": false,
     "input": [
      "g = utils.weighted_ba_graph(50, 30)"
     ],
     "language": "python",
     "metadata": {},
     "outputs": [],
     "prompt_number": 25
    },
    {
     "cell_type": "code",
     "collapsed": false,
     "input": [
      "%timeit smc.timed_algo4(g, 2)"
     ],
     "language": "python",
     "metadata": {},
     "outputs": [
      {
       "output_type": "stream",
       "stream": "stdout",
       "text": [
        "Simulated 64697 walks\n",
        "Simulated 66649 walks"
       ]
      },
      {
       "output_type": "stream",
       "stream": "stdout",
       "text": [
        "\n",
        "Simulated 65416 walks"
       ]
      },
      {
       "output_type": "stream",
       "stream": "stdout",
       "text": [
        "\n",
        "Simulated 68522 walks"
       ]
      },
      {
       "output_type": "stream",
       "stream": "stdout",
       "text": [
        "\n",
        "1 loops, best of 3: 2 s per loop\n"
       ]
      }
     ],
     "prompt_number": 28
    },
    {
     "cell_type": "code",
     "collapsed": false,
     "input": [
      "%timeit smc.algo4(g, 65821)"
     ],
     "language": "python",
     "metadata": {},
     "outputs": [
      {
       "output_type": "stream",
       "stream": "stdout",
       "text": [
        "1 loops, best of 3: 1.85 s per loop\n"
       ]
      }
     ],
     "prompt_number": 29
    },
    {
     "cell_type": "code",
     "collapsed": false,
     "input": [
      "np.save('/Users/brandonliu/Documents/Parkes/transitive-trust-models/saved_results/2014-09-10_comparing_mc_250-10.npy', np.array(d3))"
     ],
     "language": "python",
     "metadata": {},
     "outputs": [],
     "prompt_number": 59
    }
   ],
   "metadata": {}
  }
 ]
}