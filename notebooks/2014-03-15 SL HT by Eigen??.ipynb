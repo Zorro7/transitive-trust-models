{
 "metadata": {
  "name": ""
 },
 "nbformat": 3,
 "nbformat_minor": 0,
 "worksheets": [
  {
   "cells": [
    {
     "cell_type": "code",
     "collapsed": false,
     "input": [
      "import networkx as nx\n",
      "import numpy as np"
     ],
     "language": "python",
     "metadata": {},
     "outputs": [],
     "prompt_number": 1
    },
    {
     "cell_type": "code",
     "collapsed": false,
     "input": [
      "def single_eigen_sl_ht(graph, i, j, alpha=0.15):\n",
      "    N = graph.number_of_nodes()\n",
      "    M = nx.to_numpy_matrix(graph)\n",
      "\n",
      "    restart_dist = np.zeros(N)\n",
      "    restart_dist[i] = 1\n",
      "\n",
      "    # Handling dangling nodes and normalize all rows\n",
      "    for k in xrange(N):\n",
      "        s = M[k].sum()\n",
      "        # Dangling nodes become absorbing states.\n",
      "        if s == 0:\n",
      "            M[k, k] = 1\n",
      "        else:\n",
      "            M[k] /= s\n",
      "\n",
      "    # Set up the restart distribution\n",
      "    M[j] = restart_dist\n",
      "\n",
      "    ht_matrix = (1 - alpha) * M + alpha * np.outer(np.ones(N), restart_dist)\n",
      "\n",
      "    eigenvalues, eigenvectors = np.linalg.eig(ht_matrix.T)\n",
      "    dominant_index = eigenvalues.argsort()[-1]\n",
      "    pagerank = np.array(eigenvectors[:, dominant_index]).flatten().real\n",
      "    pagerank /= np.sum(pagerank)\n",
      "\n",
      "    return (1 / pagerank[j]) - 1\n"
     ],
     "language": "python",
     "metadata": {},
     "outputs": [],
     "prompt_number": 2
    },
    {
     "cell_type": "code",
     "collapsed": false,
     "input": [
      "from hitting_time.mat_hitting_time import single_LA_ht\n",
      "from trust_graph import TrustGraph"
     ],
     "language": "python",
     "metadata": {},
     "outputs": [],
     "prompt_number": 4
    },
    {
     "cell_type": "code",
     "collapsed": false,
     "input": [
      "g = TrustGraph(10, 'uniform', 'uniform', 5, 'noisy', 32)"
     ],
     "language": "python",
     "metadata": {},
     "outputs": [],
     "prompt_number": 5
    },
    {
     "cell_type": "code",
     "collapsed": false,
     "input": [
      "single_eigen_sl_ht(g, 0, 1)"
     ],
     "language": "python",
     "metadata": {},
     "outputs": [
      {
       "metadata": {},
       "output_type": "pyout",
       "prompt_number": 6,
       "text": [
        "16.765584566723227"
       ]
      }
     ],
     "prompt_number": 6
    },
    {
     "cell_type": "code",
     "collapsed": false,
     "input": [
      "single_LA_ht(g, 1)"
     ],
     "language": "python",
     "metadata": {},
     "outputs": [
      {
       "metadata": {},
       "output_type": "pyout",
       "prompt_number": 7,
       "text": [
        "array([-3.9040064 , -0.        , -3.61902275, -4.19654349, -3.94542853,\n",
        "       -4.29248852, -4.29180521, -3.70027552, -4.17699827, -3.85579442])"
       ]
      }
     ],
     "prompt_number": 7
    },
    {
     "cell_type": "code",
     "collapsed": false,
     "input": [],
     "language": "python",
     "metadata": {},
     "outputs": []
    }
   ],
   "metadata": {}
  }
 ]
}