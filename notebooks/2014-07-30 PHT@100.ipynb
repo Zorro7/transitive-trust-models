{
 "metadata": {
  "name": "",
  "signature": "sha256:44558e981c0ad8db3ef3b6d5e090977306bedc19928e4281d0977fd17c1a630b"
 },
 "nbformat": 3,
 "nbformat_minor": 0,
 "worksheets": [
  {
   "cells": [
    {
     "cell_type": "code",
     "collapsed": false,
     "input": [
      "import sys; sys.path.append('/Users/brandonliu/Documents/Parkes/transitive-trust-models')\n",
      "import numpy as np\n",
      "import matplotlib.pyplot as plt\n",
      "import studies.efficiency as e; reload(e);\n",
      "import strategic_trust_models as stm; reload(stm);\n",
      "import trust_models as tm\n",
      "from trust_graph import TrustGraph\n",
      "import operator as op\n",
      "import time\n",
      "import math\n",
      "from scipy import stats\n",
      "import networkx as nx\n",
      "import hitting_time.mat_hitting_time as mht\n",
      "import hitting_time.single_monte_carlo as smc"
     ],
     "language": "python",
     "metadata": {},
     "outputs": [],
     "prompt_number": 56
    },
    {
     "cell_type": "code",
     "collapsed": false,
     "input": [
      "g = TrustGraph(10, 'uniform', 'uniform', 9, 'sample', 8)\n",
      "g2 = g.copy()\n",
      "stm.generate_sybils(g2, g2.nodes(), 1)"
     ],
     "language": "python",
     "metadata": {},
     "outputs": [],
     "prompt_number": 68
    },
    {
     "cell_type": "code",
     "collapsed": false,
     "input": [
      "scores1 = mht.personalized_LS_prob_ht(g)\n",
      "scores2 = mht.personalized_LS_prob_ht(g2)\n",
      "scores3 = mht.personalized_LS_prob_ht(g, alpha=0.99)"
     ],
     "language": "python",
     "metadata": {},
     "outputs": [],
     "prompt_number": 81
    },
    {
     "cell_type": "code",
     "collapsed": false,
     "input": [
      "scoresx = [mht.personalized_LS_prob_ht(g, alpha) for alpha in np.linspace(0, 1, 10, endpoint=False)]"
     ],
     "language": "python",
     "metadata": {},
     "outputs": [],
     "prompt_number": 94
    },
    {
     "cell_type": "code",
     "collapsed": false,
     "input": [
      "[stats.spearmanr(g.agent_types[0:2] + g.agent_types[3:], np.hstack((s[0, 0:2], s[0, 3:]))) for s in scoresx]"
     ],
     "language": "python",
     "metadata": {},
     "outputs": [
      {
       "metadata": {},
       "output_type": "pyout",
       "prompt_number": 183,
       "text": [
        "[(0.09618089480761699, 0.8055660901837709),\n",
        " (0.40000000000000002, 0.28610510190831273),\n",
        " (0.40000000000000002, 0.28610510190831273),\n",
        " (0.40000000000000002, 0.28610510190831273),\n",
        " (0.40000000000000002, 0.28610510190831273),\n",
        " (0.40000000000000002, 0.28610510190831273),\n",
        " (0.40000000000000002, 0.28610510190831273),\n",
        " (0.40000000000000002, 0.28610510190831273),\n",
        " (0.40000000000000002, 0.28610510190831273),\n",
        " (0.40000000000000002, 0.28610510190831273)]"
       ]
      }
     ],
     "prompt_number": 183
    },
    {
     "cell_type": "code",
     "collapsed": false,
     "input": [
      "stats.rankdata(scoresx[9][0, 1:]) - stats.rankdata(scoresx[3][0, 1:])"
     ],
     "language": "python",
     "metadata": {},
     "outputs": [
      {
       "metadata": {},
       "output_type": "pyout",
       "prompt_number": 102,
       "text": [
        "array([ 0.,  1., -1.,  0.,  0.,  0.,  0.,  0.,  0.])"
       ]
      }
     ],
     "prompt_number": 102
    },
    {
     "cell_type": "code",
     "collapsed": false,
     "input": [
      "print scoresx[3][0, 1:]\n",
      "print scoresx[9][0, 1:]"
     ],
     "language": "python",
     "metadata": {},
     "outputs": [
      {
       "output_type": "stream",
       "stream": "stdout",
       "text": [
        "[ 0.06918215  0.12410832  0.12969084  0.17364922  0.22318506  0.25150472\n",
        "  0.29331895  0.30069613  0.32372498]\n",
        "[ 0.00281776  0.0055703   0.00334841  0.01291133  0.01338369  0.01370609\n",
        "  0.01874847  0.0188267   0.02137615]\n"
       ]
      }
     ],
     "prompt_number": 103
    },
    {
     "cell_type": "code",
     "collapsed": false,
     "input": [
      "M = nx.to_numpy_matrix(g)\n",
      "M /= M.sum(axis=1)\n",
      "# M2 = M.copy(); M2[2, :] = 0;\n",
      "# M3 = M.copy(); M3[3, :] = 0;"
     ],
     "language": "python",
     "metadata": {},
     "outputs": [],
     "prompt_number": 151
    },
    {
     "cell_type": "code",
     "collapsed": false,
     "input": [
      "M_02 = np.array([np.linalg.matrix_power(M2, n)[0, 2] for n in range(1, 5)])\n",
      "M_03 = np.array([np.linalg.matrix_power(M3, n)[0, 3] for n in range(1, 5)])"
     ],
     "language": "python",
     "metadata": {},
     "outputs": [],
     "prompt_number": 169
    },
    {
     "cell_type": "code",
     "collapsed": false,
     "input": [
      "M_02"
     ],
     "language": "python",
     "metadata": {},
     "outputs": [
      {
       "metadata": {},
       "output_type": "pyout",
       "prompt_number": 170,
       "text": [
        "array([ 0.04878049,  0.06261235,  0.05995131,  0.05601199])"
       ]
      }
     ],
     "prompt_number": 170
    },
    {
     "cell_type": "code",
     "collapsed": false,
     "input": [
      "M_03"
     ],
     "language": "python",
     "metadata": {},
     "outputs": [
      {
       "metadata": {},
       "output_type": "pyout",
       "prompt_number": 171,
       "text": [
        "array([ 0.02439024,  0.08263128,  0.07545348,  0.06921035])"
       ]
      }
     ],
     "prompt_number": 171
    },
    {
     "cell_type": "code",
     "collapsed": false,
     "input": [
      "print sum([((0.7)**(n+1)) * M_02[n] for n in xrange(len(M_02))])\n",
      "print sum([((0.7)**(n+1)) * M_03[n] for n in xrange(len(M_02))])\n",
      "print sum([((0.1)**(n+1)) * M_02[n] for n in xrange(len(M_02))])\n",
      "print sum([((0.1)**(n+1)) * M_03[n] for n in xrange(len(M_02))])"
     ],
     "language": "python",
     "metadata": {},
     "outputs": [
      {
       "output_type": "stream",
       "stream": "stdout",
       "text": [
        "0.0988381716833\n",
        "0.100060444404\n",
        "0.00556972478626\n",
        "0.0033477117006\n"
       ]
      }
     ],
     "prompt_number": 172
    },
    {
     "cell_type": "code",
     "collapsed": false,
     "input": [
      "prx = [nx.pagerank(g, alpha, weight='weight').values() for alpha in np.linspace(1, 0, 10, endpoint=False)]"
     ],
     "language": "python",
     "metadata": {},
     "outputs": [],
     "prompt_number": 98
    },
    {
     "cell_type": "code",
     "collapsed": false,
     "input": [
      "[stats.spearmanr(g.agent_types, s) for s in prx]"
     ],
     "language": "python",
     "metadata": {},
     "outputs": [
      {
       "metadata": {},
       "output_type": "pyout",
       "prompt_number": 99,
       "text": [
        "[(0.98787878787878791, 9.3074599889551717e-08),\n",
        " (0.98787878787878791, 9.3074599889551717e-08),\n",
        " (0.98787878787878791, 9.3074599889551717e-08),\n",
        " (0.98787878787878791, 9.3074599889551717e-08),\n",
        " (0.98787878787878791, 9.3074599889551717e-08),\n",
        " (0.98787878787878791, 9.3074599889551717e-08),\n",
        " (0.98787878787878791, 9.3074599889551717e-08),\n",
        " (0.98787878787878791, 9.3074599889551717e-08),\n",
        " (0.98787878787878791, 9.3074599889551717e-08),\n",
        " (0.98787878787878791, 9.3074599889551717e-08)]"
       ]
      }
     ],
     "prompt_number": 99
    },
    {
     "cell_type": "code",
     "collapsed": false,
     "input": [
      "scores1 = smc.naive_smc_hitting_time(g, 100000)\n",
      "scores2 = smc.naive_smc_hitting_time(g2, 100000)"
     ],
     "language": "python",
     "metadata": {},
     "outputs": [],
     "prompt_number": 70
    },
    {
     "cell_type": "code",
     "collapsed": false,
     "input": [
      "plt.plot(scores1[0, 1:])"
     ],
     "language": "python",
     "metadata": {},
     "outputs": [
      {
       "metadata": {},
       "output_type": "pyout",
       "prompt_number": 75,
       "text": [
        "[<matplotlib.lines.Line2D at 0x138751fd0>]"
       ]
      },
      {
       "metadata": {},
       "output_type": "display_data",
       "png": "[encoded data removed]",
       "text": [
        "<matplotlib.figure.Figure at 0x1381d2ed0>"
       ]
      }
     ],
     "prompt_number": 75
    },
    {
     "cell_type": "code",
     "collapsed": false,
     "input": [
      "plt.plot(stats.rankdata())"
     ],
     "language": "python",
     "metadata": {},
     "outputs": [
      {
       "metadata": {},
       "output_type": "pyout",
       "prompt_number": 76,
       "text": [
        "[<matplotlib.lines.Line2D at 0x13887d150>]"
       ]
      },
      {
       "metadata": {},
       "output_type": "display_data",
       "png": "[encoded data removed]",
       "text": [
        "<matplotlib.figure.Figure at 0x1387a3350>"
       ]
      }
     ],
     "prompt_number": 76
    },
    {
     "cell_type": "code",
     "collapsed": false,
     "input": [
      "[stats.spearmanr(scores1[:, i], scores2[:10, i]) for i in xrange(10)]"
     ],
     "language": "python",
     "metadata": {},
     "outputs": [
      {
       "metadata": {},
       "output_type": "pyout",
       "prompt_number": 93,
       "text": [
        "[(0.98787878787878791, 9.3074599889551717e-08),\n",
        " (0.98787878787878791, 9.3074599889551717e-08),\n",
        " (0.97575757575757582, 1.4675461874041932e-06),\n",
        " (0.98787878787878791, 9.3074599889551717e-08),\n",
        " (0.95151515151515154, 2.2798549206416684e-05),\n",
        " (0.93939393939393945, 5.4840529985136354e-05),\n",
        " (0.95151515151515154, 2.2798549206416684e-05),\n",
        " (0.75757575757575768, 0.011143446799694173),\n",
        " (0.90303030303030318, 0.0003436121977632779),\n",
        " (1.0, 0.0)]"
       ]
      }
     ],
     "prompt_number": 93
    },
    {
     "cell_type": "code",
     "collapsed": false,
     "input": [
      "e.compute_efficiency(g.agent_types, scores2[:10, :10], False)"
     ],
     "language": "python",
     "metadata": {},
     "outputs": [
      {
       "metadata": {},
       "output_type": "pyout",
       "prompt_number": 64,
       "text": [
        "0.71033632848384309"
       ]
      }
     ],
     "prompt_number": 64
    },
    {
     "cell_type": "code",
     "collapsed": false,
     "input": [
      "pr1 = tm.pagerank(g)\n",
      "pr2 = tm.pagerank(g2)[:10]"
     ],
     "language": "python",
     "metadata": {},
     "outputs": [],
     "prompt_number": 58
    },
    {
     "cell_type": "code",
     "collapsed": false,
     "input": [
      "stats.spearmanr(pr1, pr2)"
     ],
     "language": "python",
     "metadata": {},
     "outputs": [
      {
       "metadata": {},
       "output_type": "pyout",
       "prompt_number": 61,
       "text": [
        "(0.81818181818181823, 0.0038149200825507135)"
       ]
      }
     ],
     "prompt_number": 61
    },
    {
     "cell_type": "code",
     "collapsed": false,
     "input": [
      "plt.plot(stats.rankdata(pr1)); plt.plot(stats.rankdata(pr2))"
     ],
     "language": "python",
     "metadata": {},
     "outputs": [
      {
       "metadata": {},
       "output_type": "pyout",
       "prompt_number": 80,
       "text": [
        "[<matplotlib.lines.Line2D at 0x1383c49d0>]"
       ]
      },
      {
       "metadata": {},
       "output_type": "display_data",
       "png": "[encoded data removed]",
       "text": [
        "<matplotlib.figure.Figure at 0x13831a750>"
       ]
      }
     ],
     "prompt_number": 80
    },
    {
     "cell_type": "code",
     "collapsed": false,
     "input": [
      "e.compute_efficiency(g.agent_types, pr2, True)"
     ],
     "language": "python",
     "metadata": {},
     "outputs": [
      {
       "metadata": {},
       "output_type": "pyout",
       "prompt_number": 79,
       "text": [
        "0.82268724760216028"
       ]
      }
     ],
     "prompt_number": 79
    },
    {
     "cell_type": "code",
     "collapsed": false,
     "input": [
      "plt.plot(scores[0, 1:])"
     ],
     "language": "python",
     "metadata": {},
     "outputs": [
      {
       "metadata": {},
       "output_type": "pyout",
       "prompt_number": 22,
       "text": [
        "[<matplotlib.lines.Line2D at 0x12ae15650>]"
       ]
      },
      {
       "metadata": {},
       "output_type": "display_data",
       "png": "[encoded data removed]",
       "text": [
        "<matplotlib.figure.Figure at 0x103476290>"
       ]
      }
     ],
     "prompt_number": 22
    },
    {
     "cell_type": "code",
     "collapsed": false,
     "input": [
      "scores[0, :]"
     ],
     "language": "python",
     "metadata": {},
     "outputs": [
      {
       "metadata": {},
       "output_type": "pyout",
       "prompt_number": 12,
       "text": [
        "array([  1.00000000e+00,   3.11076149e-04,   9.87987268e-05,\n",
        "         2.97483454e-04,   2.29367724e-04,   5.84080622e-04,\n",
        "         4.02735112e-04,   6.87457433e-04,   4.66471146e-04,\n",
        "         1.18813159e-02,   4.13307897e-04,   1.27414539e-02,\n",
        "         4.92809540e-04,   1.10885354e-02,   1.45479382e-02,\n",
        "         5.11391174e-04,   9.23925689e-03,   7.99948601e-04,\n",
        "         6.03576401e-04,   8.83685339e-03,   1.55270991e-02,\n",
        "         9.82154296e-04,   9.96270864e-04,   5.77360944e-04,\n",
        "         1.23585498e-03,   1.27428107e-02,   7.24298642e-04,\n",
        "         1.22943315e-02,   9.41539675e-04,   4.23891505e-04,\n",
        "         1.24922982e-02,   4.14666755e-04,   9.90943088e-04,\n",
        "         1.34361267e-03,   9.02424170e-04,   1.12538441e-02,\n",
        "         1.45886471e-02,   1.44373783e-02,   8.38899503e-04,\n",
        "         1.01728804e-02,   7.98605153e-04,   1.38158436e-02,\n",
        "         6.17999951e-04,   1.18864064e-03,   1.00016517e-03,\n",
        "         7.39437585e-04,   8.02347584e-04,   1.03899599e-03,\n",
        "         1.15002842e-03,   1.42531368e-03])"
       ]
      }
     ],
     "prompt_number": 12
    },
    {
     "cell_type": "code",
     "collapsed": false,
     "input": [
      "g = nx.DiGraph()\n",
      "g.add_edge(0, 1, weight=0.9); g.add_edge(0, 0, weight=0.1)\n",
      "g.add_edge(1, 0, weight=0.1); g.add_edge(1, 1, weight=0.9)\n",
      "g2 = nx.DiGraph()\n",
      "g2.add_edge(0, 1, weight=0.9)\n",
      "g2.add_edge(1, 0, weight=0.1)\n",
      "g2.add_edges_from([(0, 2), (2, 0), (1, 3), (3, 1)], weight=100)"
     ],
     "language": "python",
     "metadata": {},
     "outputs": [],
     "prompt_number": 18
    },
    {
     "cell_type": "code",
     "collapsed": false,
     "input": [
      "mht.personalized_LS_prob_ht(g)"
     ],
     "language": "python",
     "metadata": {},
     "outputs": [
      {
       "metadata": {},
       "output_type": "pyout",
       "prompt_number": 19,
       "text": [
        "array([[ 1.        ,  0.83606557],\n",
        "       [ 0.36170213,  1.        ]])"
       ]
      }
     ],
     "prompt_number": 19
    },
    {
     "cell_type": "code",
     "collapsed": false,
     "input": [
      "mht.personalized_LS_prob_ht(g2)"
     ],
     "language": "python",
     "metadata": {},
     "outputs": [
      {
       "metadata": {},
       "output_type": "pyout",
       "prompt_number": 20,
       "text": [
        "array([[ 1.        ,  0.02670157,  0.84243773,  0.02267418],\n",
        "       [ 0.00305206,  1.        ,  0.00257117,  0.8491701 ],\n",
        "       [ 0.85      ,  0.02269634,  1.        ,  0.01927305],\n",
        "       [ 0.00259425,  0.85      ,  0.0021855 ,  1.        ]])"
       ]
      }
     ],
     "prompt_number": 20
    },
    {
     "cell_type": "code",
     "collapsed": false,
     "input": [
      "nx.draw(g)"
     ],
     "language": "python",
     "metadata": {},
     "outputs": [
      {
       "metadata": {},
       "output_type": "display_data",
       "png": "[encoded data removed]",
       "text": [
        "<matplotlib.figure.Figure at 0x133420fd0>"
       ]
      }
     ],
     "prompt_number": 14
    }
   ],
   "metadata": {}
  }
 ]
}