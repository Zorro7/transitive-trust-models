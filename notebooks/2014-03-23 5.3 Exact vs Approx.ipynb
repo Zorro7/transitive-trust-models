{
 "metadata": {
  "name": "",
  "signature": "sha256:814f78e6488ce83577369d29950e5738798381d7f3b21cc2d75217c6b343a925"
 },
 "nbformat": 3,
 "nbformat_minor": 0,
 "worksheets": [
  {
   "cells": [
    {
     "cell_type": "code",
     "collapsed": false,
     "input": [
      "import sys; sys.path.append('/Users/brandonliu/Documents/Parkes/transitive-trust-models')\n",
      "import numpy as np\n",
      "import matplotlib.pyplot as plt\n",
      "import networkx as nx\n",
      "import hitting_time.single_monte_carlo as smc; reload(smc);\n",
      "import hitting_time.mat_hitting_time as m; reload(m);\n",
      "import operator as op\n",
      "import utils; reload(utils);\n",
      "import studies.efficiency as e; reload(e);\n",
      "from scipy import stats\n",
      "import time\n",
      "import sys"
     ],
     "language": "python",
     "metadata": {},
     "outputs": [],
     "prompt_number": 1
    },
    {
     "cell_type": "code",
     "collapsed": false,
     "input": [
      "plt.rcParams['figure.figsize'] = (9, 6)\n",
      "plt.rcParams['font.size'] = 15\n",
      "plt.rcParams['legend.fontsize'] = 18\n",
      "plt.rcParams['lines.markersize'] = 7.5\n",
      "plt.rcParams['lines.linewidth'] = 1.5"
     ],
     "language": "python",
     "metadata": {},
     "outputs": [],
     "prompt_number": 10
    },
    {
     "cell_type": "code",
     "collapsed": false,
     "input": [
      "def one_multihit(args):\n",
      "    graph, num_walks = args\n",
      "    \n",
      "    start_time = time.clock()\n",
      "    ht = smc.multihit_smc_hitting_time(graph, num_walks=num_walks)\n",
      "    elapsed = time.clock() - start_time\n",
      "    \n",
      "    sys.stdout.write('.')\n",
      "    \n",
      "    return {\n",
      "        'hitting_times': ht,\n",
      "        'runtime': elapsed\n",
      "    }\n",
      "\n",
      "def one_algo4(args):\n",
      "    graph, num_walks = args\n",
      "    \n",
      "    start_time = time.clock()\n",
      "    ht = smc.algo4(graph, num_walks=int(num_walks/2.5))\n",
      "    elapsed = time.clock() - start_time\n",
      "    \n",
      "    sys.stdout.write('.')\n",
      "    \n",
      "    return {\n",
      "        'hitting_times': ht,\n",
      "        'runtime': elapsed\n",
      "    }\n",
      "\n",
      "\n",
      "def one_LS_prob(args):\n",
      "    graph = args[0]\n",
      "    \n",
      "    import hitting_time.mat_hitting_time as m\n",
      "    \n",
      "    start_time = time.clock()\n",
      "    ht = m.personalized_LS_prob_ht(graph, python=True)\n",
      "    elapsed = time.clock() - start_time\n",
      "    \n",
      "    sys.stdout.write('.')\n",
      "    \n",
      "    return {\n",
      "        'hitting_times': ht,\n",
      "        'runtime': elapsed\n",
      "    }"
     ],
     "language": "python",
     "metadata": {},
     "outputs": [],
     "prompt_number": 3
    },
    {
     "cell_type": "code",
     "collapsed": false,
     "input": [
      "def exact_vs_approx(sizes, walks, num_iters):\n",
      "    graphs = [[[utils.weighted_ba_graph(size, size / 10), walk] for _ in xrange(num_iters)] for size, walk in zip(sizes, walks)]\n",
      "    flattened_graphs = [val for arr in graphs for val in arr]\n",
      "    \n",
      "#     mhit = map(one_multihit, flattened_graphs); print 'Finished Multi-Hit';\n",
      "    algo4 = map(one_algo4, flattened_graphs); print 'Finished Algo4';\n",
      "    LS = map(one_LS_prob, flattened_graphs); print 'Finished LS';\n",
      "    \n",
      "    def get_error(walk_output):\n",
      "        def compute_error(args):\n",
      "            ht, actual = args\n",
      "            return np.mean(np.absolute(np.array(ht) - np.array(actual)))\n",
      "        hts = map(op.itemgetter('hitting_times'), walk_output)\n",
      "        actuals = map(op.itemgetter('hitting_times'), LS)\n",
      "        return np.array(map(compute_error, zip(hts, actuals))).reshape((len(walks), num_iters))\n",
      "    \n",
      "    def get_runtime(walk_output):\n",
      "        return np.array(map(op.itemgetter('runtime'), walk_output)).reshape((len(walks), num_iters))\n",
      "    \n",
      "    def get_info(walk_output):\n",
      "        def compute_info(args):\n",
      "            ht, actual = args\n",
      "            return np.mean([stats.spearmanr(ht[i], actual[i])[0] for i in xrange(len(ht))])\n",
      "                \n",
      "        hts = map(op.itemgetter('hitting_times'), walk_output)\n",
      "        actuals = map(op.itemgetter('hitting_times'), LS)\n",
      "        return np.array(map(compute_info, zip(hts, actuals))).reshape((len(walks), num_iters))\n",
      "    \n",
      "    return {\n",
      "        'sizes': sizes,\n",
      "        'walks': walks,\n",
      "        'num_iters': num_iters,\n",
      "        'runtimes': {\n",
      "#             'mhit': get_runtime(mhit),\n",
      "            'algo4': get_runtime(algo4),\n",
      "            'LS': get_runtime(LS),\n",
      "        },\n",
      "        'info': get_info(algo4),\n",
      "        'error': get_error(algo4)\n",
      "    }\n",
      "\n",
      "def plot_exact_vs_approx(sizes, walks, num_iters, runtimes, info, error):\n",
      "    # Plot 1: Runtime vs. Graph Size\n",
      "#     plt.plot(sizes, runtimes['mhit'].mean(axis=1), '^--', label='Multi-Hit', color='m')\n",
      "    plt.plot(sizes, runtimes['algo4'].mean(axis=1), 'o--', label='Multi-Walk', color='m')\n",
      "    plt.plot(sizes, runtimes['LS'].mean(axis=1), 's--', label='Exact', color='k')\n",
      "    \n",
      "    plt.margins(0.07)\n",
      "    plt.legend(loc='best')\n",
      "    plt.xticks(sizes, sizes)\n",
      "    plt.xlabel('Graph size (# of nodes)')\n",
      "    plt.ylabel('Running Time (secs)')\n",
      "#     plt.suptitle('Running Time of Exact vs. Approximation Algorithms\\n'\n",
      "#                  'Barabasi-Albert graphs G(N, N/10) (%d iters)' % num_iters)\n",
      "    plt.show()\n",
      "    \n",
      "    # Plot 2: Informativeness + Error of the MC method\n",
      "    fig, ax1 = plt.subplots()\n",
      "    line1 = ax1.plot(sizes, info.mean(axis=1), '^--', color='r', label='Spearman')\n",
      "    ax1.set_ylim([0.97, 1])\n",
      "    ax1.set_ylabel('Spearman Correlation')\n",
      "#     for t in ax1.get_yticklabels():\n",
      "#         t.set_color('r')\n",
      "    \n",
      "    ax2 = ax1.twinx()\n",
      "    line2 = ax2.plot(sizes, error.mean(axis=1), 's--', color='b', label='Error')\n",
      "    ax2.set_ylabel('Error')\n",
      "#     for t in ax2.get_yticklabels():\n",
      "#         t.set_color('b')\n",
      "        \n",
      "    lines = line1 + line2\n",
      "    labels = [l.get_label() for l in lines]\n",
      "    plt.legend(lines, labels, loc='center right')\n",
      "    \n",
      "    plt.margins(0.07)\n",
      "    plt.xticks(sizes, map(lambda t: \"%d\\n%d\" % (t[0], int(t[1]/2500)), zip(sizes,walks)))\n",
      "    ax1.set_xlabel('Graph size (# of nodes) \\n Number of walks (\\'000)')\n",
      "#     plt.suptitle('Informativeness and Error of Approximation Algorithm\\n'\n",
      "#                  'Barabasi-Albert graphs G(N, N/10) (%d iters)' % num_iters)\n",
      "    plt.show()"
     ],
     "language": "python",
     "metadata": {},
     "outputs": [],
     "prompt_number": 11
    },
    {
     "cell_type": "code",
     "collapsed": true,
     "input": [
      "runs = range(60, 201, 10)\n",
      "walks = [50 * x * x for x in runs]\n",
      "%time d = exact_vs_approx(runs, walks, 3)"
     ],
     "language": "python",
     "metadata": {},
     "outputs": [
      {
       "output_type": "stream",
       "stream": "stdout",
       "text": [
        ".."
       ]
      },
      {
       "output_type": "stream",
       "stream": "stdout",
       "text": [
        ".."
       ]
      },
      {
       "output_type": "stream",
       "stream": "stdout",
       "text": [
        ".."
       ]
      },
      {
       "output_type": "stream",
       "stream": "stdout",
       "text": [
        ".."
       ]
      },
      {
       "output_type": "stream",
       "stream": "stdout",
       "text": [
        ".."
       ]
      },
      {
       "output_type": "stream",
       "stream": "stdout",
       "text": [
        ".."
       ]
      },
      {
       "output_type": "stream",
       "stream": "stdout",
       "text": [
        ".."
       ]
      },
      {
       "output_type": "stream",
       "stream": "stdout",
       "text": [
        ".."
       ]
      },
      {
       "output_type": "stream",
       "stream": "stdout",
       "text": [
        ".."
       ]
      },
      {
       "output_type": "stream",
       "stream": "stdout",
       "text": [
        ".."
       ]
      },
      {
       "output_type": "stream",
       "stream": "stdout",
       "text": [
        ".."
       ]
      },
      {
       "output_type": "stream",
       "stream": "stdout",
       "text": [
        ".."
       ]
      },
      {
       "output_type": "stream",
       "stream": "stdout",
       "text": [
        ".."
       ]
      },
      {
       "output_type": "stream",
       "stream": "stdout",
       "text": [
        ".."
       ]
      },
      {
       "output_type": "stream",
       "stream": "stdout",
       "text": [
        ".."
       ]
      },
      {
       "output_type": "stream",
       "stream": "stdout",
       "text": [
        ".."
       ]
      },
      {
       "output_type": "stream",
       "stream": "stdout",
       "text": [
        ".."
       ]
      },
      {
       "output_type": "stream",
       "stream": "stdout",
       "text": [
        ".."
       ]
      },
      {
       "output_type": "stream",
       "stream": "stdout",
       "text": [
        ".."
       ]
      },
      {
       "output_type": "stream",
       "stream": "stdout",
       "text": [
        ".."
       ]
      },
      {
       "output_type": "stream",
       "stream": "stdout",
       "text": [
        ".."
       ]
      },
      {
       "output_type": "stream",
       "stream": "stdout",
       "text": [
        ".."
       ]
      },
      {
       "output_type": "stream",
       "stream": "stdout",
       "text": [
        ".Finished Algo4\n",
        "."
       ]
      },
      {
       "output_type": "stream",
       "stream": "stdout",
       "text": [
        ".."
       ]
      },
      {
       "output_type": "stream",
       "stream": "stdout",
       "text": [
        ".."
       ]
      },
      {
       "output_type": "stream",
       "stream": "stdout",
       "text": [
        ".."
       ]
      },
      {
       "output_type": "stream",
       "stream": "stdout",
       "text": [
        ".."
       ]
      },
      {
       "output_type": "stream",
       "stream": "stdout",
       "text": [
        ".."
       ]
      },
      {
       "output_type": "stream",
       "stream": "stdout",
       "text": [
        ".."
       ]
      },
      {
       "output_type": "stream",
       "stream": "stdout",
       "text": [
        ".."
       ]
      },
      {
       "output_type": "stream",
       "stream": "stdout",
       "text": [
        ".."
       ]
      },
      {
       "output_type": "stream",
       "stream": "stdout",
       "text": [
        ".."
       ]
      },
      {
       "output_type": "stream",
       "stream": "stdout",
       "text": [
        ".."
       ]
      },
      {
       "output_type": "stream",
       "stream": "stdout",
       "text": [
        ".."
       ]
      },
      {
       "output_type": "stream",
       "stream": "stdout",
       "text": [
        ".."
       ]
      },
      {
       "output_type": "stream",
       "stream": "stdout",
       "text": [
        ".."
       ]
      },
      {
       "output_type": "stream",
       "stream": "stdout",
       "text": [
        ".."
       ]
      },
      {
       "output_type": "stream",
       "stream": "stdout",
       "text": [
        ".."
       ]
      },
      {
       "output_type": "stream",
       "stream": "stdout",
       "text": [
        ".."
       ]
      },
      {
       "output_type": "stream",
       "stream": "stdout",
       "text": [
        ".."
       ]
      },
      {
       "output_type": "stream",
       "stream": "stdout",
       "text": [
        ".."
       ]
      },
      {
       "output_type": "stream",
       "stream": "stdout",
       "text": [
        ".."
       ]
      },
      {
       "output_type": "stream",
       "stream": "stdout",
       "text": [
        ".."
       ]
      },
      {
       "output_type": "stream",
       "stream": "stdout",
       "text": [
        ".."
       ]
      },
      {
       "output_type": "stream",
       "stream": "stdout",
       "text": [
        ".."
       ]
      },
      {
       "output_type": "stream",
       "stream": "stdout",
       "text": [
        "Finished LS\n",
        "CPU times: user 47min 39s, sys: 2.94 s, total: 47min 41s"
       ]
      },
      {
       "output_type": "stream",
       "stream": "stdout",
       "text": [
        "\n",
        "Wall time: 7h 9min\n"
       ]
      }
     ],
     "prompt_number": 10
    },
    {
     "cell_type": "code",
     "collapsed": true,
     "input": [
      "d = np.load('/Users/brandonliu/Documents/Parkes/transitive-trust-models/saved_results/2014-11-11_crossover.npy').item()"
     ],
     "language": "python",
     "metadata": {},
     "outputs": [],
     "prompt_number": 5
    },
    {
     "cell_type": "code",
     "collapsed": false,
     "input": [
      "np.save('/Users/brandonliu/Documents/Parkes/transitive-trust-models/saved_results/2014-11-11_crossover.npy', np.array([d2]))"
     ],
     "language": "python",
     "metadata": {},
     "outputs": [],
     "prompt_number": 16
    },
    {
     "cell_type": "code",
     "collapsed": false,
     "input": [
      "d2 = {\n",
      "    'error': d['error'][:-1],\n",
      "    'info': d['info'][:-1],\n",
      "    'num_iters': d['num_iters'],\n",
      "    'runtimes': {\n",
      "        'LS': d['runtimes']['LS'][:-1],\n",
      "        'algo4': d['runtimes']['algo4'][:-1]\n",
      "    },\n",
      "    'sizes': d['sizes'][:-1],\n",
      "    'walks': d['walks'][:-1]\n",
      "}"
     ],
     "language": "python",
     "metadata": {},
     "outputs": [],
     "prompt_number": 13
    },
    {
     "cell_type": "code",
     "collapsed": false,
     "input": [
      "plot_exact_vs_approx(**d)"
     ],
     "language": "python",
     "metadata": {},
     "outputs": [
      {
       "metadata": {},
       "output_type": "display_data",
       "png": "[encoded data removed]",
       "text": [
        "<matplotlib.figure.Figure at 0x10f109fd0>"
       ]
      },
      {
       "metadata": {},
       "output_type": "display_data",
       "png": "[encoded data removed]",
       "text": [
        "<matplotlib.figure.Figure at 0x10f454510>"
       ]
      }
     ],
     "prompt_number": 12
    },
    {
     "cell_type": "code",
     "collapsed": false,
     "input": [
      "ls_times = d['runtimes']['LS'].mean(axis=1)\n",
      "mc_times = d['runtimes']['algo4'].mean(axis=1)"
     ],
     "language": "python",
     "metadata": {},
     "outputs": [],
     "prompt_number": 25
    },
    {
     "cell_type": "code",
     "collapsed": false,
     "input": [
      "plt.plot(d['sizes'], ls_times, 'o')\n",
      "print np.polyfit(d['sizes'], ls_times, 3, full=True)\n",
      "p = np.poly1d(np.polyfit(d['sizes'], ls_times, 3))\n",
      "plt.plot(d['sizes'], p(d['sizes']), '--')\n",
      "plt.margins(0.2)"
     ],
     "language": "python",
     "metadata": {},
     "outputs": [
      {
       "output_type": "stream",
       "stream": "stdout",
       "text": [
        "(array([  3.10648057e-05,  -4.46149981e-03,   2.82401836e-01,\n",
        "        -6.41154082e+00]), array([ 0.42640306]), 4, array([ 1.93415509,  0.50406115,  0.07030355,  0.00488607]), 3.1086244689504383e-15)\n"
       ]
      },
      {
       "metadata": {},
       "output_type": "display_data",
       "png": "[encoded data removed]",
       "text": [
        "<matplotlib.figure.Figure at 0x10f116410>"
       ]
      }
     ],
     "prompt_number": 44
    },
    {
     "cell_type": "code",
     "collapsed": false,
     "input": [
      "plt.plot(d['sizes'], mc_times, 'o')\n",
      "print np.polyfit(d['sizes'], mc_times, 2, full=True)\n",
      "p = np.poly1d(np.polyfit(d['sizes'], mc_times, 3))\n",
      "plt.plot(d['sizes'], p(d['sizes']), '--')\n",
      "plt.margins(0.2)"
     ],
     "language": "python",
     "metadata": {},
     "outputs": [
      {
       "output_type": "stream",
       "stream": "stdout",
       "text": [
        "(array([  2.19398666e-03,  -2.68667938e-01,   1.09761023e+01]), array([ 2.77812518]), 3, array([ 1.69080921,  0.37409019,  0.03493894]), 3.1086244689504383e-15)\n"
       ]
      },
      {
       "metadata": {},
       "output_type": "display_data",
       "png": "[encoded data removed]",
       "text": [
        "<matplotlib.figure.Figure at 0x10f2dded0>"
       ]
      }
     ],
     "prompt_number": 42
    }
   ],
   "metadata": {}
  }
 ]
}