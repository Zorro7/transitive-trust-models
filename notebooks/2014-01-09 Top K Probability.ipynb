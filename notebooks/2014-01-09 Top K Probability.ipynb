{
 "metadata": {
  "name": "2014-01-09 Top K Probability"
 },
 "nbformat": 3,
 "nbformat_minor": 0,
 "worksheets": [
  {
   "cells": [
    {
     "cell_type": "markdown",
     "metadata": {},
     "source": [
      "For efficiency experiments, I wanted to find a closed-form expression for the efficiency scores. The problem can be abstracted as follows. Given a vector of N real numbers and an integer K less than N, what is the probability that the *i*th number in the vector is the lowest-index number to be selected out of a random sample of K numbers without replacement?\n",
      "\n",
      "We first use a Monte Carlo method that is definitely correct. We use the results from that method to verify our closed form solution."
     ]
    },
    {
     "cell_type": "code",
     "collapsed": false,
     "input": [
      "import random"
     ],
     "language": "python",
     "metadata": {},
     "outputs": [],
     "prompt_number": 1
    },
    {
     "cell_type": "code",
     "collapsed": false,
     "input": [
      "nums = range(20)\n",
      "N = len(nums)\n",
      "K = 5\n",
      "ITERS = 100000\n",
      "successes = np.zeros(N)"
     ],
     "language": "python",
     "metadata": {},
     "outputs": [],
     "prompt_number": 12
    },
    {
     "cell_type": "code",
     "collapsed": false,
     "input": [
      "for _ in xrange(ITERS):\n",
      "    successes[min(random.sample(nums, K))] += 1\n",
      "successes /= ITERS"
     ],
     "language": "python",
     "metadata": {},
     "outputs": [],
     "prompt_number": 13
    },
    {
     "cell_type": "code",
     "collapsed": false,
     "input": [
      "trial1 = successes.round(5)"
     ],
     "language": "python",
     "metadata": {},
     "outputs": [],
     "prompt_number": 24
    },
    {
     "cell_type": "markdown",
     "metadata": {},
     "source": [
      "Our closed form solution uses a counting approach to derive the probability. The probability that any number is selected in a K-sample is $K/N$, which you can see through symmetry. For the probability that the $i$th number is the lowest-index selected number, we take the probability that it is selected, multiplied by the probability that no numbers prior to it are selected. This gives us the expression\n",
      "$$\\frac{K}{N} \\cdot {N - i \\choose K - 1}/{N - 1 \\choose K - 1}$$"
     ]
    },
    {
     "cell_type": "code",
     "collapsed": false,
     "input": [
      "import scipy.misc\n",
      "def p(i):\n",
      "    return (float(K) / N) * scipy.misc.comb(N - i, K - 1) / scipy.misc.comb(N - 1, K - 1)"
     ],
     "language": "python",
     "metadata": {},
     "outputs": [],
     "prompt_number": 19
    },
    {
     "cell_type": "code",
     "collapsed": false,
     "input": [
      "trial2 = np.array([p(i) for i in xrange(1, 21)]).round(5)"
     ],
     "language": "python",
     "metadata": {},
     "outputs": [],
     "prompt_number": 23
    },
    {
     "cell_type": "markdown",
     "metadata": {},
     "source": [
      "Now we can compare the differences"
     ]
    },
    {
     "cell_type": "code",
     "collapsed": false,
     "input": [
      "trial1 - trial2"
     ],
     "language": "python",
     "metadata": {},
     "outputs": [
      {
       "output_type": "pyout",
       "prompt_number": 25,
       "text": [
        "array([ -1.65000000e-03,  -2.60000000e-04,  -1.74000000e-03,\n",
        "         9.40000000e-04,   2.06000000e-03,   1.00000000e-05,\n",
        "         5.40000000e-04,  -8.00000000e-05,   8.00000000e-05,\n",
        "         3.70000000e-04,  -8.00000000e-05,  -1.50000000e-04,\n",
        "        -1.00000000e-04,   8.00000000e-05,  -3.00000000e-05,\n",
        "         2.00000000e-05,   0.00000000e+00,   0.00000000e+00,\n",
        "         0.00000000e+00,   0.00000000e+00])"
       ]
      }
     ],
     "prompt_number": 25
    },
    {
     "cell_type": "markdown",
     "metadata": {},
     "source": [
      "As we can see, they are pretty close! This confirms that the closed-form expression is correct.\n",
      "\n",
      "Now I'm also curious what this probability distribution looks like."
     ]
    },
    {
     "cell_type": "code",
     "collapsed": false,
     "input": [
      "plt.plot(trial2);"
     ],
     "language": "python",
     "metadata": {},
     "outputs": [
      {
       "output_type": "display_data",
       "png": "[encoded data removed]"
      }
     ],
     "prompt_number": 28
    },
    {
     "cell_type": "code",
     "collapsed": false,
     "input": [
      "trial2[0:5].sum()"
     ],
     "language": "python",
     "metadata": {},
     "outputs": [
      {
       "output_type": "pyout",
       "prompt_number": 31,
       "text": [
        "0.80630999999999997"
       ]
      }
     ],
     "prompt_number": 31
    },
    {
     "cell_type": "markdown",
     "metadata": {},
     "source": [
      "This seems to suggest that the top K agents or so take up a lot of the probability mass!"
     ]
    }
   ],
   "metadata": {}
  }
 ]
}