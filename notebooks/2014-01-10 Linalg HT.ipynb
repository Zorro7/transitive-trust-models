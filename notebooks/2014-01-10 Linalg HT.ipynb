{
 "metadata": {
  "name": "2014-01-10 Linalg HT"
 },
 "nbformat": 3,
 "nbformat_minor": 0,
 "worksheets": [
  {
   "cells": [
    {
     "cell_type": "markdown",
     "metadata": {},
     "source": [
      "Initial empirical test to verify that my linalg method is actually correct."
     ]
    },
    {
     "cell_type": "code",
     "collapsed": false,
     "input": [
      "from trust_graph import TrustGraph\n",
      "from hitting_time.single_monte_carlo import complete_path_smc_hitting_time\n",
      "import networkx as nx"
     ],
     "language": "python",
     "metadata": {},
     "outputs": [],
     "prompt_number": 12
    },
    {
     "cell_type": "code",
     "collapsed": false,
     "input": [
      "g = TrustGraph(20, 'uniform', 'uniform', 10, 'noisy', 30)"
     ],
     "language": "python",
     "metadata": {},
     "outputs": [],
     "prompt_number": 2
    },
    {
     "cell_type": "code",
     "collapsed": false,
     "input": [
      "mcht = complete_path_smc_hitting_time(g, 80, alpha=0.15)"
     ],
     "language": "python",
     "metadata": {},
     "outputs": [],
     "prompt_number": 31
    },
    {
     "cell_type": "code",
     "collapsed": false,
     "input": [
      "mcht[:, 0]"
     ],
     "language": "python",
     "metadata": {},
     "outputs": [
      {
       "output_type": "pyout",
       "prompt_number": 17,
       "text": [
        "array([ 1.      ,  0.0875  ,  0.095   ,  0.081875,  0.165   ,  0.12    ,\n",
        "        0.09125 ,  0.124375,  0.13375 ,  0.090625,  0.143125,  0.085625,\n",
        "        0.079375,  0.143125,  0.0875  ,  0.085   ,  0.0925  ,  0.0875  ,\n",
        "        0.088125,  0.0875  ])"
       ]
      }
     ],
     "prompt_number": 17
    },
    {
     "cell_type": "code",
     "collapsed": false,
     "input": [
      "M = nx.to_numpy_matrix(g)\n",
      "for i in xrange(20):\n",
      "    M[i] /= M[i].sum()\n",
      "M[0] = 0\n",
      "A = np.eye(20) - M\n",
      "b = np.repeat(0.85, 20)\n",
      "linalg_ht = np.linalg.solve(A, b)\n",
      "linalg_ht"
     ],
     "language": "python",
     "metadata": {},
     "outputs": [
      {
       "output_type": "pyout",
       "prompt_number": 110,
       "text": [
        "array([  0.85      ,  45.57159629,  45.59187419,  46.08114203,\n",
        "        41.75957475,  43.87452483,  45.88041429,  42.5128509 ,\n",
        "        43.3683107 ,  45.84528311,  43.68648788,  46.22550815,\n",
        "        46.11432622,  43.08683028,  46.22428017,  46.09130805,\n",
        "        46.04143297,  45.70222497,  46.07084619,  46.24116919])"
       ]
      }
     ],
     "prompt_number": 110
    },
    {
     "cell_type": "code",
     "collapsed": false,
     "input": [
      "mcht[:, 0] / linalg_ht"
     ],
     "language": "python",
     "metadata": {},
     "outputs": [
      {
       "output_type": "pyout",
       "prompt_number": 111,
       "text": [
        "array([ 1.17647059,  0.00219435,  0.00209741,  0.00169538,  0.00377159,\n",
        "        0.00303422,  0.00200249,  0.00351364,  0.0028967 ,  0.00200402,\n",
        "        0.00280407,  0.00185233,  0.00161284,  0.00314771,  0.00196055,\n",
        "        0.00184417,  0.00188689,  0.00184619,  0.00189925,  0.00213554])"
       ]
      }
     ],
     "prompt_number": 111
    },
    {
     "cell_type": "code",
     "collapsed": false,
     "input": [
      "from scipy import stats\n",
      "stats.spearmanr(mcht[:, 0], linalg_ht)"
     ],
     "language": "python",
     "metadata": {},
     "outputs": [
      {
       "output_type": "pyout",
       "prompt_number": 112,
       "text": [
        "(-0.80707038426552025, 1.7050378912428649e-05)"
       ]
      }
     ],
     "prompt_number": 112
    },
    {
     "cell_type": "code",
     "collapsed": false,
     "input": [
      "stats.pearsonr(mcht[:, 0], linalg_ht)"
     ],
     "language": "python",
     "metadata": {},
     "outputs": [
      {
       "output_type": "pyout",
       "prompt_number": 113,
       "text": [
        "(-0.9991737015642711, 1.7001422533562698e-26)"
       ]
      }
     ],
     "prompt_number": 113
    },
    {
     "cell_type": "code",
     "collapsed": false,
     "input": [
      "plt.plot(mcht[1:, 0]); plt.plot(5 / linalg_ht[1:]);"
     ],
     "language": "python",
     "metadata": {},
     "outputs": [
      {
       "output_type": "display_data",
       "png": "[encoded data removed]"
      }
     ],
     "prompt_number": 89
    },
    {
     "cell_type": "code",
     "collapsed": false,
     "input": [
      "mcht2 = complete_path_smc_hitting_time(g, 800, alpha=0.15)"
     ],
     "language": "python",
     "metadata": {},
     "outputs": [],
     "prompt_number": 32
    },
    {
     "cell_type": "code",
     "collapsed": false,
     "input": [
      "stats.spearmanr(mcht2[1:, 0], linalg_ht[1:])"
     ],
     "language": "python",
     "metadata": {},
     "outputs": [
      {
       "output_type": "pyout",
       "prompt_number": 98,
       "text": [
        "(-0.95789473684210524, 1.2135311926058017e-10)"
       ]
      }
     ],
     "prompt_number": 98
    },
    {
     "cell_type": "code",
     "collapsed": false,
     "input": [
      "stats.pearsonr(mcht2[1:, 0], linalg_ht[1:])"
     ],
     "language": "python",
     "metadata": {},
     "outputs": [
      {
       "output_type": "pyout",
       "prompt_number": 99,
       "text": [
        "(-0.99728545561754023, 1.0508816491826979e-20)"
       ]
      }
     ],
     "prompt_number": 99
    },
    {
     "cell_type": "markdown",
     "metadata": {},
     "source": [
      "So far, so good. Our first experiment shows decent rank-correlation, but very high pearson correlation. A second experiment with many many more Monte Carlo trials shows better correlation on both Spearman and Pearson, which suggests that the Monte Carlo method is converging toward the linalg method. Let's do one final confirmation with our previous eigen method."
     ]
    },
    {
     "cell_type": "code",
     "collapsed": false,
     "input": [
      "from hitting_time.mat_hitting_time import personalized_eigen_ht\n",
      "eig_ht = personalized_eigen_ht(g, alpha=0.15)"
     ],
     "language": "python",
     "metadata": {},
     "outputs": [],
     "prompt_number": 35
    },
    {
     "cell_type": "code",
     "collapsed": false,
     "input": [
      "stats.spearmanr(eig_ht[1:, 0], linalg_ht[1:])"
     ],
     "language": "python",
     "metadata": {},
     "outputs": [
      {
       "output_type": "pyout",
       "prompt_number": 100,
       "text": [
        "(-0.99298245614035074, 3.3221598358455801e-17)"
       ]
      }
     ],
     "prompt_number": 100
    },
    {
     "cell_type": "code",
     "collapsed": false,
     "input": [
      "stats.pearsonr(eig_ht[1:, 0], linalg_ht[1:])"
     ],
     "language": "python",
     "metadata": {},
     "outputs": [
      {
       "output_type": "pyout",
       "prompt_number": 101,
       "text": [
        "(-0.99961490483057158, 6.5441757859809788e-28)"
       ]
      }
     ],
     "prompt_number": 101
    },
    {
     "cell_type": "markdown",
     "metadata": {},
     "source": [
      "Well, this is even better than what we achieved with the Monte Carlo method, but it's still not perfect. I would hope to get perfect rank-correlation! Let's investigate..."
     ]
    },
    {
     "cell_type": "code",
     "collapsed": false,
     "input": [
      "stats.rankdata(eig_ht[1:, 0])"
     ],
     "language": "python",
     "metadata": {},
     "outputs": [
      {
       "output_type": "pyout",
       "prompt_number": 102,
       "text": [
        "array([ 12.,  11.,   5.,  19.,  14.,   9.,  18.,  16.,  10.,  15.,   2.,\n",
        "         4.,  17.,   3.,   6.,   8.,  13.,   7.,   1.])"
       ]
      }
     ],
     "prompt_number": 102
    },
    {
     "cell_type": "code",
     "collapsed": false,
     "input": [
      "stats.rankdata(1 / linalg_ht[1:])"
     ],
     "language": "python",
     "metadata": {},
     "outputs": [
      {
       "output_type": "pyout",
       "prompt_number": 103,
       "text": [
        "array([ 13.,  12.,   6.,  19.,  14.,   9.,  18.,  16.,  10.,  15.,   2.,\n",
        "         4.,  17.,   3.,   5.,   8.,  11.,   7.,   1.])"
       ]
      }
     ],
     "prompt_number": 103
    },
    {
     "cell_type": "markdown",
     "metadata": {},
     "source": [
      "It looks like the offenders are at indices 1, 2, 3, 15, 17"
     ]
    },
    {
     "cell_type": "code",
     "collapsed": false,
     "input": [
      "eig_ht[[1, 2, 3, 15, 17], 0]"
     ],
     "language": "python",
     "metadata": {},
     "outputs": [
      {
       "output_type": "pyout",
       "prompt_number": 104,
       "text": [
        "array([ 0.09170092,  0.09150523,  0.08415331,  0.08420896,  0.09171779])"
       ]
      }
     ],
     "prompt_number": 104
    },
    {
     "cell_type": "code",
     "collapsed": false,
     "input": [
      "linalg_ht[[1, 2, 3, 15, 17]]"
     ],
     "language": "python",
     "metadata": {},
     "outputs": [
      {
       "output_type": "pyout",
       "prompt_number": 105,
       "text": [
        "array([ 45.57159629,  45.59187419,  46.08114203,  46.09130805,  45.70222497])"
       ]
      }
     ],
     "prompt_number": 105
    },
    {
     "cell_type": "markdown",
     "metadata": {},
     "source": [
      "Okay, but actually maybe this is okay, because what we really care about is the rank-correlation for an agent's opinion of others, not of the opinions of a particular agent. Clearly, some of these values are really close together, and maybe that's okay."
     ]
    },
    {
     "cell_type": "code",
     "collapsed": false,
     "input": [
      "def linalg_hitting_time(g):\n",
      "    N = g.number_of_nodes()\n",
      "    ht = np.zeros((N, N))\n",
      "    for i in xrange(N):\n",
      "        M = nx.to_numpy_matrix(g)\n",
      "        for j in xrange(N):\n",
      "            M[j] /= M[j].sum()\n",
      "        M[i] = 0\n",
      "        A = np.eye(N) - M\n",
      "        b = np.repeat(0.85, N)\n",
      "        ht[:, i] = np.linalg.solve(A, b)\n",
      "    return ht"
     ],
     "language": "python",
     "metadata": {},
     "outputs": [],
     "prompt_number": 154
    },
    {
     "cell_type": "code",
     "collapsed": false,
     "input": [
      "linalg_ht2 = linalg_hitting_time(g)\n",
      "linalg_ht2[0]"
     ],
     "language": "python",
     "metadata": {},
     "outputs": [
      {
       "output_type": "pyout",
       "prompt_number": 131,
       "text": [
        "array([   0.85      ,   25.16751559,  103.6507882 ,   22.67839144,\n",
        "         16.92584559,   20.62900063,   21.5771568 ,   28.72473679,\n",
        "         21.74579949,   17.1052951 ,   19.32431971,   14.91219146,\n",
        "         11.5546714 ,   26.26372863,   10.68499563,   14.56416699,\n",
        "         10.00900826,   19.28123018,   15.56043233,    7.68477546])"
       ]
      }
     ],
     "prompt_number": 131
    },
    {
     "cell_type": "code",
     "collapsed": false,
     "input": [
      "stats.spearmanr(eig_ht[0, 1:], linalg_ht2[0, 1:])"
     ],
     "language": "python",
     "metadata": {},
     "outputs": [
      {
       "output_type": "pyout",
       "prompt_number": 132,
       "text": [
        "(-0.92807017543859649, 1.0385054272333221e-08)"
       ]
      }
     ],
     "prompt_number": 132
    },
    {
     "cell_type": "code",
     "collapsed": false,
     "input": [
      "stats.pearsonr(eig_ht[0, 1:], linalg_ht2[0, 1:])"
     ],
     "language": "python",
     "metadata": {},
     "outputs": [
      {
       "output_type": "pyout",
       "prompt_number": 133,
       "text": [
        "(-0.71760741741661116, 0.00054201716292062295)"
       ]
      }
     ],
     "prompt_number": 133
    },
    {
     "cell_type": "markdown",
     "metadata": {},
     "source": [
      "Ooog... this looks really bad..."
     ]
    },
    {
     "cell_type": "code",
     "collapsed": false,
     "input": [
      "[stats.spearmanr(eig_ht[:, i], linalg_ht2[:, i]) for i in xrange(8)]"
     ],
     "language": "python",
     "metadata": {},
     "outputs": [
      {
       "output_type": "pyout",
       "prompt_number": 134,
       "text": [
        "[(-0.99398496240601508, 9.5779814416863241e-19),\n",
        " (-0.99849624060150377, 3.7136278359526689e-24),\n",
        " (-0.99398496240601508, 9.5779814416863241e-19),\n",
        " (-0.99849624060150377, 3.7136278359526689e-24),\n",
        " (-0.99849624060150377, 3.7136278359526689e-24),\n",
        " (-0.99548872180451131, 7.2307211635942719e-20),\n",
        " (-0.99849624060150377, 3.7136278359526689e-24),\n",
        " (-0.99398496240601508, 9.5779814416863241e-19)]"
       ]
      }
     ],
     "prompt_number": 134
    },
    {
     "cell_type": "code",
     "collapsed": false,
     "input": [
      "[stats.pearsonr(eig_ht[:, i], linalg_ht2[:, i]) for i in xrange(8)]"
     ],
     "language": "python",
     "metadata": {},
     "outputs": [
      {
       "output_type": "pyout",
       "prompt_number": 135,
       "text": [
        "[(-0.99978276812275146, 1.0221563759056473e-31),\n",
        " (-0.9995113918777212, 1.5046210558514899e-28),\n",
        " (-0.99984556790472312, 4.7417823063754573e-33),\n",
        " (-0.99936826717562244, 1.5183019923237303e-27),\n",
        " (-0.99958101980404279, 3.7725181440416081e-29),\n",
        " (-0.99971245321878011, 1.2748878818012176e-30),\n",
        " (-0.9997568133210325, 2.8224275243485264e-31),\n",
        " (-0.99970552527161849, 1.5794898321182085e-30)]"
       ]
      }
     ],
     "prompt_number": 135
    },
    {
     "cell_type": "code",
     "collapsed": false,
     "input": [
      "[stats.spearmanr(eig_ht[i, :], linalg_ht2[i, :]) for i in xrange(10)]"
     ],
     "language": "python",
     "metadata": {},
     "outputs": [
      {
       "output_type": "pyout",
       "prompt_number": 136,
       "text": [
        "[(-0.93834586466165426, 9.7622411093176031e-10),\n",
        " (-0.8766917293233083, 3.9679240752959077e-07),\n",
        " (-0.93533834586466169, 1.4821142098474949e-09),\n",
        " (-0.92631578947368409, 4.644139791699183e-09),\n",
        " (-0.94135338345864661, 6.29360298707385e-10),\n",
        " (-0.93984962406015027, 7.8604433878044337e-10),\n",
        " (-0.97443609022556399, 4.0365222137152193e-13),\n",
        " (-0.9654135338345865, 5.9324183728645591e-12),\n",
        " (-0.89172932330827059, 1.3029570145042411e-07),\n",
        " (-0.9609022556390977, 1.7590493583431464e-11)]"
       ]
      }
     ],
     "prompt_number": 136
    },
    {
     "cell_type": "code",
     "collapsed": false,
     "input": [
      "[stats.pearsonr(eig_ht[i, :], linalg_ht2[i, :]) for i in xrange(10)]"
     ],
     "language": "python",
     "metadata": {},
     "outputs": [
      {
       "output_type": "pyout",
       "prompt_number": 137,
       "text": [
        "[(-0.5157576920756074, 0.019928700339478966),\n",
        " (-0.48174494378925287, 0.031491656663116721),\n",
        " (-0.70615073144964546, 0.00050219830552783722),\n",
        " (-0.53742720210356543, 0.014535029300330573),\n",
        " (-0.52677190191470413, 0.017017273093064798),\n",
        " (-0.5355282654067679, 0.01495463350362942),\n",
        " (-0.54066632692140149, 0.013841180305291753),\n",
        " (-0.49291582910397824, 0.027228271770381372),\n",
        " (-0.5202507676787953, 0.018696577640154494),\n",
        " (-0.54665982055453066, 0.01262777868686291)]"
       ]
      }
     ],
     "prompt_number": 137
    },
    {
     "cell_type": "code",
     "collapsed": false,
     "input": [
      "linalg_ht2[:, -1]"
     ],
     "language": "python",
     "metadata": {},
     "outputs": [
      {
       "output_type": "pyout",
       "prompt_number": 144,
       "text": [
        "array([ 7.68477546,  8.39008719,  8.71016333,  7.58404614,  8.42816267,\n",
        "        8.54106199,  7.54123455,  8.47313381,  7.73496691,  8.60778165,\n",
        "        8.31670384,  7.4174221 ,  7.59980721,  7.33603696,  7.33369992,\n",
        "        7.2827304 ,  7.0658105 ,  6.77398037,  6.86245972,  0.85      ])"
       ]
      }
     ],
     "prompt_number": 144
    },
    {
     "cell_type": "code",
     "collapsed": false,
     "input": [
      "linalg_ht2[1, :]"
     ],
     "language": "python",
     "metadata": {},
     "outputs": [
      {
       "output_type": "pyout",
       "prompt_number": 145,
       "text": [
        "array([ 45.57159629,   0.85      ,  94.90413105,  22.65613539,\n",
        "        16.38042486,  19.11551762,  21.29078319,  25.94157761,\n",
        "        21.44300927,  15.15046826,  20.7691592 ,  13.69321051,\n",
        "        12.72121191,  23.68471832,   9.71739912,  15.70071609,\n",
        "        11.27241238,  21.68809431,  17.09776165,   8.39008719])"
       ]
      }
     ],
     "prompt_number": 145
    },
    {
     "cell_type": "markdown",
     "metadata": {},
     "source": [
      "An attempt to get the rows to correlate."
     ]
    },
    {
     "cell_type": "code",
     "collapsed": false,
     "input": [
      "mat3 = linalg_ht2.copy()  # First start from the linalg matrix\n",
      "for i in xrange(20):\n",
      "    mat3[:, i] *= eig_ht[0, i] / linalg_ht2[0, i]  # Try multiplying every column by the quotient of the first element in each column"
     ],
     "language": "python",
     "metadata": {},
     "outputs": [],
     "prompt_number": 146
    },
    {
     "cell_type": "code",
     "collapsed": false,
     "input": [
      "[stats.spearmanr(eig_ht[i, :], mat3[i, :]) for i in xrange(10)]"
     ],
     "language": "python",
     "metadata": {},
     "outputs": [
      {
       "output_type": "pyout",
       "prompt_number": 147,
       "text": [
        "[(1.0, 0.0),\n",
        " (0.078195488721804512, 0.74314907423322651),\n",
        " (0.24060150375939848, 0.30686109167827602),\n",
        " (0.27368421052631581, 0.24296636906130617),\n",
        " (0.42255639097744357, 0.063440839998208709),\n",
        " (0.21503759398496239, 0.36257388702455096),\n",
        " (0.24962406015037594, 0.28851258969719185),\n",
        " (0.31127819548872182, 0.18157577037037317),\n",
        " (0.30526315789473685, 0.19060938739632305),\n",
        " (0.22556390977443608, 0.33897093917086685)]"
       ]
      }
     ],
     "prompt_number": 147
    },
    {
     "cell_type": "code",
     "collapsed": false,
     "input": [
      "[stats.spearmanr(eig_ht[:, i], mat3[:, i]) for i in xrange(10)]"
     ],
     "language": "python",
     "metadata": {},
     "outputs": [
      {
       "output_type": "pyout",
       "prompt_number": 150,
       "text": [
        "[(-0.99398496240601508, 9.5779814416863241e-19),\n",
        " (-0.99849624060150377, 3.7136278359526689e-24),\n",
        " (-0.99398496240601508, 9.5779814416863241e-19),\n",
        " (-0.99849624060150377, 3.7136278359526689e-24),\n",
        " (-0.99849624060150377, 3.7136278359526689e-24),\n",
        " (-0.99548872180451131, 7.2307211635942719e-20),\n",
        " (-0.99849624060150377, 3.7136278359526689e-24),\n",
        " (-0.99398496240601508, 9.5779814416863241e-19),\n",
        " (-0.98947368421052617, 1.450570213696417e-16),\n",
        " (-1.0, 0.0)]"
       ]
      }
     ],
     "prompt_number": 150
    },
    {
     "cell_type": "markdown",
     "metadata": {},
     "source": [
      "Okay, that didn't work -- the row correlations got worse but the column correlations stayed the same, as expected."
     ]
    },
    {
     "cell_type": "code",
     "collapsed": false,
     "input": [
      "MM3 = nx.to_numpy_matrix(g)\n",
      "MM3[0] = 0\n",
      "np.linalg.matrix_rank(np.eye(20) - MM3)"
     ],
     "language": "python",
     "metadata": {},
     "outputs": [
      {
       "output_type": "pyout",
       "prompt_number": 151,
       "text": [
        "20"
       ]
      }
     ],
     "prompt_number": 151
    },
    {
     "cell_type": "markdown",
     "metadata": {},
     "source": [
      "Whoops -- turns out I messed up my original equation. I guess this is why we do this muddling around in an IPython notebook first! Now I have:\n",
      "$$(I - (1 - \\alpha)M(j)) \\cdot \\vec{h}(j) = (1 - \\alpha)\\vec{\\bf 1}$$"
     ]
    },
    {
     "cell_type": "code",
     "collapsed": false,
     "input": [
      "def linalg_hitting_time2(g, alpha=0.15):\n",
      "    N = g.number_of_nodes()\n",
      "    ht = np.zeros((N, N))\n",
      "    for i in xrange(N):\n",
      "        M = nx.to_numpy_matrix(g)\n",
      "        for j in xrange(N):\n",
      "            M[j] /= M[j].sum()\n",
      "        M[i] = 0\n",
      "        A = np.eye(N) - (1 - alpha) * M\n",
      "        b = np.repeat(1 - alpha, N)\n",
      "        ht[:, i] = np.linalg.solve(A, b)\n",
      "    return ht"
     ],
     "language": "python",
     "metadata": {},
     "outputs": [],
     "prompt_number": 162
    },
    {
     "cell_type": "code",
     "collapsed": false,
     "input": [
      "linalg_ht4 = linalg_hitting_time2(g)"
     ],
     "language": "python",
     "metadata": {},
     "outputs": [],
     "prompt_number": 155
    },
    {
     "cell_type": "code",
     "collapsed": false,
     "input": [
      "[stats.spearmanr(eig_ht[:, i], linalg_ht4[:, i]) for i in xrange(5)]"
     ],
     "language": "python",
     "metadata": {},
     "outputs": [
      {
       "output_type": "pyout",
       "prompt_number": 156,
       "text": [
        "[(-1.0, 0.0), (-1.0, 0.0), (-1.0, 0.0), (-1.0, 0.0), (-1.0, 0.0)]"
       ]
      }
     ],
     "prompt_number": 156
    },
    {
     "cell_type": "code",
     "collapsed": false,
     "input": [
      "[stats.pearsonr(eig_ht[:, i], linalg_ht4[:, i]) for i in xrange(5)]"
     ],
     "language": "python",
     "metadata": {},
     "outputs": [
      {
       "output_type": "pyout",
       "prompt_number": 157,
       "text": [
        "[(-1.0, 0.0),\n",
        " (-1.0, 0.0),\n",
        " (-0.99999999999999978, 1.2459683851238681e-139),\n",
        " (-0.99999999999999989, 2.4335320021950592e-142),\n",
        " (-1.0, 0.0)]"
       ]
      }
     ],
     "prompt_number": 157
    },
    {
     "cell_type": "code",
     "collapsed": false,
     "input": [
      "[stats.spearmanr(eig_ht[i, :], linalg_ht4[i, :]) for i in xrange(5)]"
     ],
     "language": "python",
     "metadata": {},
     "outputs": [
      {
       "output_type": "pyout",
       "prompt_number": 158,
       "text": [
        "[(-1.0, 0.0), (-1.0, 0.0), (-1.0, 0.0), (-1.0, 0.0), (-1.0, 0.0)]"
       ]
      }
     ],
     "prompt_number": 158
    },
    {
     "cell_type": "code",
     "collapsed": false,
     "input": [
      "[stats.pearsonr(eig_ht[i, :], linalg_ht4[i, :]) for i in xrange(5)]"
     ],
     "language": "python",
     "metadata": {},
     "outputs": [
      {
       "output_type": "pyout",
       "prompt_number": 160,
       "text": [
        "[(-1.0, 0.0),\n",
        " (-1.0, 0.0),\n",
        " (-0.99999999999999956, 6.3793581318342178e-137),\n",
        " (-1.0, 0.0),\n",
        " (-1.0, 0.0)]"
       ]
      }
     ],
     "prompt_number": 160
    },
    {
     "cell_type": "markdown",
     "metadata": {},
     "source": [
      "HOLY SHIT IT WORKS!!!!!!!!!!!!!!!!!!!!\n",
      "\n",
      "Okay, now out of curiosity, I'm curious which of two methods are faster."
     ]
    },
    {
     "cell_type": "code",
     "collapsed": false,
     "input": [
      "def linalg_hitting_time3(g, alpha=0.15):\n",
      "    from scipy.linalg import block_diag\n",
      "    N = g.number_of_nodes()\n",
      "    M = nx.to_numpy_matrix(g)\n",
      "    for i in xrange(N):\n",
      "        M[i] /= M[i].sum()\n",
      "    blocks = block_diag(*[M for _ in xrange(N)])\n",
      "    for i in xrange(N):\n",
      "        blocks[i * (N + 1)] = 0\n",
      "    A = np.eye(N * N) - (1 - alpha) * blocks\n",
      "    b = np.repeat(1 - alpha, N * N)\n",
      "    return np.linalg.solve(A, b).reshape((N, N), order='F')"
     ],
     "language": "python",
     "metadata": {},
     "outputs": [],
     "prompt_number": 179
    },
    {
     "cell_type": "code",
     "collapsed": false,
     "input": [
      "g50 = TrustGraph(50, 'uniform', 'uniform', 15, 'noisy', 30)"
     ],
     "language": "python",
     "metadata": {},
     "outputs": [],
     "prompt_number": 163
    },
    {
     "cell_type": "code",
     "collapsed": false,
     "input": [
      "ht2 = linalg_hitting_time2(g50)\n",
      "ht3 = linalg_hitting_time3(g50)"
     ],
     "language": "python",
     "metadata": {},
     "outputs": [],
     "prompt_number": 180
    },
    {
     "cell_type": "code",
     "collapsed": false,
     "input": [
      "ht3[0] - ht2[0]"
     ],
     "language": "python",
     "metadata": {},
     "outputs": [
      {
       "output_type": "pyout",
       "prompt_number": 182,
       "text": [
        "array([  0.00000000e+00,   0.00000000e+00,   0.00000000e+00,\n",
        "        -1.77635684e-15,   8.88178420e-16,   0.00000000e+00,\n",
        "         0.00000000e+00,   0.00000000e+00,   8.88178420e-16,\n",
        "        -8.88178420e-16,   0.00000000e+00,   0.00000000e+00,\n",
        "         8.88178420e-16,   0.00000000e+00,   0.00000000e+00,\n",
        "         8.88178420e-16,   0.00000000e+00,  -1.77635684e-15,\n",
        "         8.88178420e-16,   0.00000000e+00,   0.00000000e+00,\n",
        "         0.00000000e+00,  -8.88178420e-16,   0.00000000e+00,\n",
        "         8.88178420e-16,   8.88178420e-16,  -1.77635684e-15,\n",
        "        -8.88178420e-16,   0.00000000e+00,   0.00000000e+00,\n",
        "         8.88178420e-16,   8.88178420e-16,  -8.88178420e-16,\n",
        "         0.00000000e+00,   0.00000000e+00,   0.00000000e+00,\n",
        "         0.00000000e+00,   0.00000000e+00,   1.77635684e-15,\n",
        "         0.00000000e+00,   0.00000000e+00,   0.00000000e+00,\n",
        "         8.88178420e-16,   1.77635684e-15,   0.00000000e+00,\n",
        "         0.00000000e+00,   0.00000000e+00,  -8.88178420e-16,\n",
        "        -8.88178420e-16,   8.88178420e-16])"
       ]
      }
     ],
     "prompt_number": 182
    },
    {
     "cell_type": "code",
     "collapsed": false,
     "input": [
      "timeit linalg_hitting_time2(g50)"
     ],
     "language": "python",
     "metadata": {},
     "outputs": [
      {
       "output_type": "stream",
       "stream": "stdout",
       "text": [
        "10 loops, best of 3: 109 ms per loop\n"
       ]
      }
     ],
     "prompt_number": 183
    },
    {
     "cell_type": "code",
     "collapsed": false,
     "input": [
      "timeit linalg_hitting_time3(g50)"
     ],
     "language": "python",
     "metadata": {},
     "outputs": [
      {
       "output_type": "stream",
       "stream": "stdout",
       "text": [
        "1 loops, best of 3: 468 ms per loop\n"
       ]
      }
     ],
     "prompt_number": 185
    },
    {
     "cell_type": "markdown",
     "metadata": {},
     "source": [
      "Okay, the first method is clearly faster, which makes a decent amount of sense."
     ]
    }
   ],
   "metadata": {}
  }
 ]
}