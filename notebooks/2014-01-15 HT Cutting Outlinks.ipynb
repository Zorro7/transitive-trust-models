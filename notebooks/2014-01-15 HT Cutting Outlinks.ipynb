{
 "metadata": {
  "name": ""
 },
 "nbformat": 3,
 "nbformat_minor": 0,
 "worksheets": [
  {
   "cells": [
    {
     "cell_type": "code",
     "collapsed": false,
     "input": [
      "from trust_graph import TrustGraph\n",
      "import hitting_time.mat_hitting_time as m\n",
      "import strategic_trust_models as stm\n",
      "import studies.efficiency as e"
     ],
     "language": "python",
     "metadata": {},
     "outputs": [],
     "prompt_number": 1
    },
    {
     "cell_type": "code",
     "collapsed": false,
     "input": [
      "g = TrustGraph(30, 'uniform', 'uniform', 15, 'noisy', 30)"
     ],
     "language": "python",
     "metadata": {},
     "outputs": [],
     "prompt_number": 2
    },
    {
     "cell_type": "code",
     "collapsed": false,
     "input": [
      "ht_0 = m.single_LA_ht(g, 0)"
     ],
     "language": "python",
     "metadata": {},
     "outputs": [],
     "prompt_number": 5
    },
    {
     "cell_type": "code",
     "collapsed": false,
     "input": [
      "g2 = g.copy()\n",
      "stm.cut_outlinks(g2, [1])\n",
      "stm.add_thin_edges(g2)\n",
      "ht2_0 = m.single_LA_ht(g2, 0)"
     ],
     "language": "python",
     "metadata": {},
     "outputs": [],
     "prompt_number": 6
    },
    {
     "cell_type": "code",
     "collapsed": false,
     "input": [
      "ht_0"
     ],
     "language": "python",
     "metadata": {},
     "outputs": [
      {
       "metadata": {},
       "output_type": "pyout",
       "prompt_number": 7,
       "text": [
        "array([ 0.85      ,  5.23233676,  5.16074783,  5.41270908,  5.23460277,\n",
        "        5.2641761 ,  5.3954758 ,  5.40931781,  5.19001595,  5.41255548,\n",
        "        5.41017995,  5.31103948,  5.40030011,  5.28155799,  5.24822694,\n",
        "        5.31422068,  5.39593096,  5.39896258,  5.40696557,  5.41549973,\n",
        "        5.41385536,  5.34586191,  5.37191351,  5.31875545,  5.40916593,\n",
        "        5.41062847,  5.42339238,  5.43243433,  5.35650903,  5.41069998])"
       ]
      }
     ],
     "prompt_number": 7
    },
    {
     "cell_type": "code",
     "collapsed": false,
     "input": [
      "ht2_0"
     ],
     "language": "python",
     "metadata": {},
     "outputs": [
      {
       "metadata": {},
       "output_type": "pyout",
       "prompt_number": 8,
       "text": [
        "array([ 0.85      ,  5.27251395,  5.16496539,  5.41517018,  5.23685324,\n",
        "        5.26860183,  5.3992272 ,  5.4130111 ,  5.19232374,  5.41486741,\n",
        "        5.41244545,  5.31393622,  5.4025962 ,  5.28481771,  5.25077418,\n",
        "        5.31749398,  5.39978794,  5.40226566,  5.41072141,  5.4179449 ,\n",
        "        5.41605449,  5.3482164 ,  5.37438824,  5.3219763 ,  5.41198144,\n",
        "        5.41321665,  5.42568773,  5.43462027,  5.35871044,  5.4131143 ])"
       ]
      }
     ],
     "prompt_number": 8
    },
    {
     "cell_type": "code",
     "collapsed": false,
     "input": [
      "ht_0 - ht2_0"
     ],
     "language": "python",
     "metadata": {},
     "outputs": [
      {
       "metadata": {},
       "output_type": "pyout",
       "prompt_number": 10,
       "text": [
        "array([ 0.        , -0.04017718, -0.00421756, -0.0024611 , -0.00225048,\n",
        "       -0.00442573, -0.0037514 , -0.00369329, -0.00230779, -0.00231193,\n",
        "       -0.0022655 , -0.00289674, -0.00229609, -0.00325972, -0.00254724,\n",
        "       -0.0032733 , -0.00385699, -0.00330309, -0.00375584, -0.00244517,\n",
        "       -0.00219913, -0.00235448, -0.00247473, -0.00322085, -0.00281551,\n",
        "       -0.00258818, -0.00229535, -0.00218595, -0.00220141, -0.00241433])"
       ]
      }
     ],
     "prompt_number": 10
    },
    {
     "cell_type": "code",
     "collapsed": false,
     "input": [
      "m.single_LA_ht(g, 4) - m.single_LA_ht(g2, 4)"
     ],
     "language": "python",
     "metadata": {},
     "outputs": [
      {
       "metadata": {},
       "output_type": "pyout",
       "prompt_number": 15,
       "text": [
        "array([-0.00910272, -0.15585852, -0.01656065, -0.00927711,  0.        ,\n",
        "       -0.01716859, -0.01433962, -0.01369782, -0.00910023, -0.00867465,\n",
        "       -0.00849341, -0.01088007, -0.00829672, -0.01258802, -0.00956683,\n",
        "       -0.01221204, -0.01444131, -0.0121424 , -0.01411959, -0.00893289,\n",
        "       -0.00793959, -0.00894445, -0.00932361, -0.01237989, -0.0105093 ,\n",
        "       -0.00945164, -0.0086015 , -0.00801776, -0.00837072, -0.00894972])"
       ]
      }
     ],
     "prompt_number": 15
    },
    {
     "cell_type": "code",
     "collapsed": false,
     "input": [
      "personalization = dict.fromkeys(g.nodes()"
     ],
     "language": "python",
     "metadata": {},
     "outputs": []
    }
   ],
   "metadata": {}
  }
 ]
}