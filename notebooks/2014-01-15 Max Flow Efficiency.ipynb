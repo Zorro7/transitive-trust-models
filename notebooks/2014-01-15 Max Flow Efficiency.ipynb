{
 "metadata": {
  "name": ""
 },
 "nbformat": 3,
 "nbformat_minor": 0,
 "worksheets": [
  {
   "cells": [
    {
     "cell_type": "code",
     "collapsed": false,
     "input": [
      "from trust_graph import TrustGraph\n",
      "import strategic_trust_models as stm\n",
      "import studies.efficiency as e\n",
      "reload(stm); reload(e);"
     ],
     "language": "python",
     "metadata": {},
     "outputs": [],
     "prompt_number": 30
    },
    {
     "cell_type": "code",
     "collapsed": false,
     "input": [
      "g = TrustGraph(30, 'uniform', 'uniform', 15, 'noisy', 30)\n",
      "mf = stm.person_max_flow(g, 10, 0)"
     ],
     "language": "python",
     "metadata": {},
     "outputs": [
      {
       "output_type": "stream",
       "stream": "stdout",
       "text": [
        ".."
       ]
      },
      {
       "output_type": "stream",
       "stream": "stdout",
       "text": [
        ".."
       ]
      },
      {
       "output_type": "stream",
       "stream": "stdout",
       "text": [
        ".."
       ]
      },
      {
       "output_type": "stream",
       "stream": "stdout",
       "text": [
        ".."
       ]
      },
      {
       "output_type": "stream",
       "stream": "stdout",
       "text": [
        ".."
       ]
      },
      {
       "output_type": "stream",
       "stream": "stdout",
       "text": [
        ".."
       ]
      },
      {
       "output_type": "stream",
       "stream": "stdout",
       "text": [
        ".."
       ]
      },
      {
       "output_type": "stream",
       "stream": "stdout",
       "text": [
        ".."
       ]
      },
      {
       "output_type": "stream",
       "stream": "stdout",
       "text": [
        ".."
       ]
      },
      {
       "output_type": "stream",
       "stream": "stdout",
       "text": [
        ".."
       ]
      },
      {
       "output_type": "stream",
       "stream": "stdout",
       "text": [
        ".."
       ]
      },
      {
       "output_type": "stream",
       "stream": "stdout",
       "text": [
        ".."
       ]
      },
      {
       "output_type": "stream",
       "stream": "stdout",
       "text": [
        ".."
       ]
      },
      {
       "output_type": "stream",
       "stream": "stdout",
       "text": [
        ".."
       ]
      },
      {
       "output_type": "stream",
       "stream": "stdout",
       "text": [
        ".."
       ]
      },
      {
       "output_type": "stream",
       "stream": "stdout",
       "text": [
        "\n"
       ]
      }
     ],
     "prompt_number": 31
    },
    {
     "cell_type": "code",
     "collapsed": false,
     "input": [
      "mf[0]"
     ],
     "language": "python",
     "metadata": {},
     "outputs": [
      {
       "metadata": {},
       "output_type": "pyout",
       "prompt_number": 32,
       "text": [
        "array([        nan,  3.20019   ,  3.73501333,  3.10019   ,  2.70021   ,\n",
        "        3.1002    ,  3.33353333,  3.73501333,  3.83351333,  2.63355333,\n",
        "        3.73501333,  3.46687667,  3.73501333,  3.73501333,  3.73501333,\n",
        "        3.73501333,  3.73501333,  3.73501333,  4.33485333,  2.90022   ,\n",
        "        3.46688667,  4.1002    ,  3.73501333,  3.73501333,  4.30152   ,\n",
        "        4.20152   ,  4.26818667,  4.16818667,  3.73501333,  3.73501333])"
       ]
      }
     ],
     "prompt_number": 32
    },
    {
     "cell_type": "code",
     "collapsed": false,
     "input": [
      "[sum([val for j, val in enumerate(mf[i]) if i != j]) for i in xrange(30)]"
     ],
     "language": "python",
     "metadata": {},
     "outputs": [
      {
       "metadata": {},
       "output_type": "pyout",
       "prompt_number": 34,
       "text": [
        "[105.66501333333329,\n",
        " 120.44829333333297,\n",
        " 114.25309333333296,\n",
        " 123.01038999999976,\n",
        " 105.82603999999961,\n",
        " 98.391716666666852,\n",
        " 101.24737333333312,\n",
        " 97.654113333333029,\n",
        " 88.823550000000111,\n",
        " 86.62360000000011,\n",
        " 87.910829999999876,\n",
        " 66.668433333333525,\n",
        " 74.678016666666636,\n",
        " 57.033670000000185,\n",
        " 53.959793333333458,\n",
        " 52.247283333333399,\n",
        " 33.104816666666778,\n",
        " 38.746603333333361,\n",
        " 32.161393333333422,\n",
        " 31.813590000000019,\n",
        " 27.478106666666683,\n",
        " 27.943753333333348,\n",
        " 14.848673333333334,\n",
        " 10.779106666666657,\n",
        " 6.0153999999999943,\n",
        " 16.307969999999997,\n",
        " 11.612169999999992,\n",
        " 6.6823166666666554,\n",
        " 5.2453633333333292,\n",
        " 5.2082599999999957]"
       ]
      }
     ],
     "prompt_number": 34
    },
    {
     "cell_type": "code",
     "collapsed": false,
     "input": [
      "[e.compute_efficiency([val for j, val in enumerate(g.agent_types) if i != j], [val for j, val in enumerate(mf[i]) if i != j], True, 29) for i in xrange(30)]"
     ],
     "language": "python",
     "metadata": {},
     "outputs": [
      {
       "metadata": {},
       "output_type": "pyout",
       "prompt_number": 35,
       "text": [
        "[0.72267459274274548,\n",
        " 0.69151317502857124,\n",
        " 0.61066528878099391,\n",
        " 0.75292526316455644,\n",
        " 0.68115024596477902,\n",
        " 0.67584202563687545,\n",
        " 0.73902794158276131,\n",
        " 0.67942623620578591,\n",
        " 0.66698179871843977,\n",
        " 0.76916904605130731,\n",
        " 0.78875565831749828,\n",
        " 0.66599076683896885,\n",
        " 0.80633664499198365,\n",
        " 0.62343040407581818,\n",
        " 0.70614004130585817,\n",
        " 0.7013346083781703,\n",
        " 0.56854969655611776,\n",
        " 0.70835115464399867,\n",
        " 0.63153007663603133,\n",
        " 0.6321913390477526,\n",
        " 0.67364676593237505,\n",
        " 0.68567588610675445,\n",
        " 0.65266768166214617,\n",
        " 0.68519812463654373,\n",
        " 0.7649445760775665,\n",
        " 0.75587968632681413,\n",
        " 0.76347308114407531,\n",
        " 0.64586715287831931,\n",
        " 0.6099784207761616,\n",
        " 0.71970071024558335]"
       ]
      }
     ],
     "prompt_number": 35
    },
    {
     "cell_type": "code",
     "collapsed": false,
     "input": [
      "g.edges(1, data=True)"
     ],
     "language": "python",
     "metadata": {},
     "outputs": [
      {
       "metadata": {},
       "output_type": "pyout",
       "prompt_number": 27,
       "text": [
        "[(1, 32, {'inv_weight': 1.875, 'weight': 0.5333333333333333}),\n",
        " (1, 34, {'inv_weight': 1.5789473684210527, 'weight': 0.6333333333333333}),\n",
        " (1, 36, {'inv_weight': 2.142857142857143, 'weight': 0.4666666666666667}),\n",
        " (1, 5, {'inv_weight': 2.7272727272727275, 'weight': 0.36666666666666664}),\n",
        " (1, 6, {'inv_weight': 1.875, 'weight': 0.5333333333333333}),\n",
        " (1, 7, {'inv_weight': 3.0, 'weight': 0.3333333333333333}),\n",
        " (1, 41, {'inv_weight': 2.7272727272727275, 'weight': 0.36666666666666664}),\n",
        " (1, 43, {'inv_weight': 1.875, 'weight': 0.5333333333333333}),\n",
        " (1, 20, {'inv_weight': 1.875, 'weight': 0.5333333333333333}),\n",
        " (1, 21, {'inv_weight': 2.3076923076923075, 'weight': 0.43333333333333335}),\n",
        " (1, 22, {'inv_weight': 2.7272727272727275, 'weight': 0.36666666666666664}),\n",
        " (1, 23, {'inv_weight': 1.875, 'weight': 0.5333333333333333}),\n",
        " (1, 25, {'inv_weight': 3.0, 'weight': 0.3333333333333333}),\n",
        " (1, 26, {'inv_weight': 2.142857142857143, 'weight': 0.4666666666666667}),\n",
        " (1, 38, {'inv_weight': 3.0, 'weight': 0.3333333333333333})]"
       ]
      }
     ],
     "prompt_number": 27
    }
   ],
   "metadata": {}
  }
 ]
}