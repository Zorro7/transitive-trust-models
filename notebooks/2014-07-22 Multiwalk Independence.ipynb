{
 "metadata": {
  "name": "",
  "signature": "sha256:50fb51ab57d52d372faaf6b7250170b2b1142e9c093a9e634f7cba3de956c9be"
 },
 "nbformat": 3,
 "nbformat_minor": 0,
 "worksheets": [
  {
   "cells": [
    {
     "cell_type": "code",
     "collapsed": false,
     "input": [
      "import sys; sys.path.append('/Users/brandonliu/Documents/Parkes/transitive-trust-models')\n",
      "import networkx as nx\n",
      "import utils\n",
      "import hitting_time.mat_hitting_time as mat\n",
      "import hitting_time.single_monte_carlo as smc; reload(smc);"
     ],
     "language": "python",
     "metadata": {},
     "outputs": [],
     "prompt_number": 12
    },
    {
     "cell_type": "code",
     "collapsed": false,
     "input": [
      "g = nx.DiGraph()\n",
      "# g.add_edge(0, 1, weight=1)\n",
      "# g.add_edge(1, 0, weight=1)\n",
      "# g.add_edge(0, 2, weight=1)\n",
      "# g.add_edge(2, 0, weight=1)\n",
      "g.add_edges_from([(0, 1), (1, 2), (2, 3), (3, 0), (2, 4)], weight=1)"
     ],
     "language": "python",
     "metadata": {},
     "outputs": [],
     "prompt_number": 30
    },
    {
     "cell_type": "code",
     "collapsed": false,
     "input": [
      "mat.personalized_LS_prob_ht(g)"
     ],
     "language": "python",
     "metadata": {},
     "outputs": [
      {
       "metadata": {},
       "output_type": "pyout",
       "prompt_number": 31,
       "text": [
        "array([[ 1.        ,  0.85      ,  0.7225    ,  0.3070625 ,  0.41551258],\n",
        "       [ 0.3070625 ,  1.        ,  0.85      ,  0.36125   ,  0.48883833],\n",
        "       [ 0.36125   ,  0.3070625 ,  1.        ,  0.425     ,  0.57510392],\n",
        "       [ 0.85      ,  0.7225    ,  0.614125  ,  1.        ,  0.3531857 ],\n",
        "       [ 0.        ,  0.        ,  0.        ,  0.        ,  1.        ]])"
       ]
      }
     ],
     "prompt_number": 31
    },
    {
     "cell_type": "code",
     "collapsed": false,
     "input": [
      "smc.naive_smc_hitting_time(g, 100000)"
     ],
     "language": "python",
     "metadata": {},
     "outputs": [
      {
       "metadata": {},
       "output_type": "pyout",
       "prompt_number": 32,
       "text": [
        "array([[ 1.        ,  0.85203699,  0.72356911,  0.30667333,  0.4283929 ],\n",
        "       [ 0.30692327,  1.        ,  0.85503624,  0.3744064 ,  0.49687578],\n",
        "       [ 0.35541115,  0.30992252,  1.        ,  0.4183954 ,  0.5776056 ],\n",
        "       [ 0.8627843 ,  0.71807048,  0.61659585,  1.        ,  0.34591352],\n",
        "       [ 0.        ,  0.        ,  0.        ,  0.        ,  1.        ]])"
       ]
      }
     ],
     "prompt_number": 32
    },
    {
     "cell_type": "code",
     "collapsed": false,
     "input": [
      "smc.multihit_smc_hitting_time(g, 100000)"
     ],
     "language": "python",
     "metadata": {},
     "outputs": [
      {
       "metadata": {},
       "output_type": "pyout",
       "prompt_number": 33,
       "text": [
        "array([[ 1.        ,  0.85275736,  0.72471376,  0.56962152,  0.41382931],\n",
        "       [ 0.61696915,  1.        ,  0.85065747,  0.66771661,  0.48737563],\n",
        "       [ 0.720064  ,  0.66536673,  1.        ,  0.78571071,  0.56962152],\n",
        "       [ 0.85365732,  0.7300635 ,  0.61986901,  1.        ,  0.35573221],\n",
        "       [ 0.85155742,  0.85155742,  0.85155742,  0.85155742,  1.        ]])"
       ]
      }
     ],
     "prompt_number": 33
    },
    {
     "cell_type": "code",
     "collapsed": false,
     "input": [
      "smc.multiwalk_smc_hitting_time(g, 100000)"
     ],
     "language": "python",
     "metadata": {},
     "outputs": [
      {
       "metadata": {},
       "output_type": "pyout",
       "prompt_number": 34,
       "text": [
        "array([[ 1.        ,  0.85002353,  0.72256707,  0.30508649,  0.41568604],\n",
        "       [ 0.30608441,  1.        ,  0.84946458,  0.36062939,  0.48797388],\n",
        "       [ 0.36055994,  0.30628485,  1.        ,  0.42530204,  0.57391961],\n",
        "       [ 0.84759146,  0.72016039,  0.61210719,  1.        ,  0.35083288],\n",
        "       [ 0.        ,  0.        ,  0.        ,  0.        ,  1.        ]])"
       ]
      }
     ],
     "prompt_number": 34
    }
   ],
   "metadata": {}
  }
 ]
}