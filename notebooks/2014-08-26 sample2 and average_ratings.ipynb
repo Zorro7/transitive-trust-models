{
 "metadata": {
  "name": "",
  "signature": "sha256:deec6a73736090a2801941c567e59fd505c61765e2e82aa1413c73fa057cc72c"
 },
 "nbformat": 3,
 "nbformat_minor": 0,
 "worksheets": [
  {
   "cells": [
    {
     "cell_type": "code",
     "collapsed": false,
     "input": [
      "import sys; sys.path.append('/Users/brandonliu/Documents/Parkes/transitive-trust-models')\n",
      "import trust_graph as tg\n",
      "from scipy import stats\n",
      "import trust_models as tm"
     ],
     "language": "python",
     "metadata": {},
     "outputs": [],
     "prompt_number": 19
    },
    {
     "cell_type": "code",
     "collapsed": false,
     "input": [
      "[np.var([tg.TrustGraph._sampled_edge_weight([x, 0.7], 'sample2', '', 100, 0, 1) for _ in xrange(1000)]) for x in np.linspace(0, 1, 10)]"
     ],
     "language": "python",
     "metadata": {},
     "outputs": [
      {
       "metadata": {},
       "output_type": "pyout",
       "prompt_number": 14,
       "text": [
        "[0.21313599999999935,\n",
        " 0.01759527083333336,\n",
        " 0.0090882249527410829,\n",
        " 0.0059840830449827071,\n",
        " 0.0047303580246913527,\n",
        " 0.0040638364158163305,\n",
        " 0.0031844918690131473,\n",
        " 0.0027568663708086665,\n",
        " 0.0024192117156924577,\n",
        " 0.0019834271000000012]"
       ]
      }
     ],
     "prompt_number": 14
    },
    {
     "cell_type": "code",
     "collapsed": false,
     "input": [
      "g = tg.TrustGraph.g50()"
     ],
     "language": "python",
     "metadata": {},
     "outputs": [
      {
       "output_type": "stream",
       "stream": "stderr",
       "text": [
        "/usr/local/lib/python2.7/site-packages/graph_tool/draw/cairo_draw.py:34: ImportWarning: Error importing cairo. Graph drawing will not work.\n",
        "  warnings.warn(msg, ImportWarning)\n",
        "/usr/local/lib/python2.7/site-packages/graph_tool/draw/cairo_draw.py:34: ImportWarning: Error importing cairo. Graph drawing will not work.\n",
        "  warnings.warn(msg, ImportWarning)\n",
        "/usr/local/lib/python2.7/site-packages/graph_tool/draw/cairo_draw.py:34: ImportWarning: Error importing cairo. Graph drawing will not work.\n",
        "  warnings.warn(msg, ImportWarning)\n"
       ]
      }
     ],
     "prompt_number": 15
    },
    {
     "cell_type": "code",
     "collapsed": false,
     "input": [
      "np.mean([x[2]['weight'] for x in g.in_edges(0, data=True)])"
     ],
     "language": "python",
     "metadata": {},
     "outputs": [
      {
       "metadata": {},
       "output_type": "pyout",
       "prompt_number": 18,
       "text": [
        "0.23333333333333336"
       ]
      }
     ],
     "prompt_number": 18
    },
    {
     "cell_type": "code",
     "collapsed": false,
     "input": [
      "tm.average_ratings(g)"
     ],
     "language": "python",
     "metadata": {},
     "outputs": [
      {
       "metadata": {},
       "output_type": "pyout",
       "prompt_number": 20,
       "text": [
        "[0.23333333333333336,\n",
        " 0.23076923076923081,\n",
        " 0.21458333333333335,\n",
        " 0.35277777777777786,\n",
        " 0.2722222222222222,\n",
        " 0.29824561403508776,\n",
        " 0.3052631578947369,\n",
        " 0.32105263157894737,\n",
        " 0.32888888888888884,\n",
        " 0.39999999999999997,\n",
        " 0.34523809523809523,\n",
        " 0.36666666666666664,\n",
        " 0.3866666666666666,\n",
        " 0.41428571428571431,\n",
        " 0.43958333333333333,\n",
        " 0.46842105263157896,\n",
        " 0.40952380952380951,\n",
        " 0.42888888888888882,\n",
        " 0.51052631578947361,\n",
        " 0.48125000000000001,\n",
        " 0.51777777777777778,\n",
        " 0.50714285714285712,\n",
        " 0.53846153846153844,\n",
        " 0.5527777777777777,\n",
        " 0.57647058823529407,\n",
        " 0.56666666666666676,\n",
        " 0.57592592592592584,\n",
        " 0.56666666666666665,\n",
        " 0.60289855072463749,\n",
        " 0.55999999999999994,\n",
        " 0.58444444444444443,\n",
        " 0.62888888888888883,\n",
        " 0.60499999999999976,\n",
        " 0.64102564102564097,\n",
        " 0.6333333333333333,\n",
        " 0.64374999999999993,\n",
        " 0.71851851851851856,\n",
        " 0.62424242424242415,\n",
        " 0.68333333333333324,\n",
        " 0.68809523809523809,\n",
        " 0.69230769230769229,\n",
        " 0.73333333333333328,\n",
        " 0.72857142857142865,\n",
        " 0.72857142857142865,\n",
        " 0.75757575757575768,\n",
        " 0.76111111111111107,\n",
        " 0.73589743589743606,\n",
        " 0.76111111111111107,\n",
        " 0.78571428571428581,\n",
        " 0.77111111111111119]"
       ]
      }
     ],
     "prompt_number": 20
    },
    {
     "cell_type": "code",
     "collapsed": false,
     "input": [],
     "language": "python",
     "metadata": {},
     "outputs": []
    }
   ],
   "metadata": {}
  }
 ]
}