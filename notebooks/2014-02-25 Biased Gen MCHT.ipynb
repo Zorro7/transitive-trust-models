{
 "metadata": {
  "name": ""
 },
 "nbformat": 3,
 "nbformat_minor": 0,
 "worksheets": [
  {
   "cells": [
    {
     "cell_type": "code",
     "collapsed": false,
     "input": [
      "from hitting_time.single_monte_carlo import generative_smc_hitting_time\n",
      "from hitting_time.mat_hitting_time import personalized_LA_ht, personalized_eigen_ht\n",
      "import networkx as nx"
     ],
     "language": "python",
     "metadata": {},
     "outputs": [],
     "prompt_number": 7
    },
    {
     "cell_type": "code",
     "collapsed": false,
     "input": [
      "ALPHA=0.15\n",
      "g = nx.DiGraph()\n",
      "g.add_edge(0, 0, weight=0.9)\n",
      "g.add_edge(0, 1, weight=0.1)\n",
      "g.add_edge(1, 1, weight=1)"
     ],
     "language": "python",
     "metadata": {},
     "outputs": [],
     "prompt_number": 23
    },
    {
     "cell_type": "code",
     "collapsed": false,
     "input": [
      "personalized_eigen_ht(g)"
     ],
     "language": "python",
     "metadata": {},
     "outputs": [
      {
       "metadata": {},
       "output_type": "pyout",
       "prompt_number": 36,
       "text": [
        "array([[ 1.        ,  0.36170213],\n",
        "       [ 0.        ,  1.        ]])"
       ]
      }
     ],
     "prompt_number": 36
    },
    {
     "cell_type": "code",
     "collapsed": false,
     "input": [
      "0.1 * (1 - ALPHA) / (1 - 0.9 * (1 - ALPHA))"
     ],
     "language": "python",
     "metadata": {},
     "outputs": [
      {
       "metadata": {},
       "output_type": "pyout",
       "prompt_number": 25,
       "text": [
        "0.3617021276595745"
       ]
      }
     ],
     "prompt_number": 25
    },
    {
     "cell_type": "code",
     "collapsed": false,
     "input": [
      "generative_smc_hitting_time(g, 100000)"
     ],
     "language": "python",
     "metadata": {},
     "outputs": [
      {
       "metadata": {},
       "output_type": "pyout",
       "prompt_number": 26,
       "text": [
        "array([[ 1.        ,  0.35866635],\n",
        "       [ 0.22434358,  1.        ]])"
       ]
      }
     ],
     "prompt_number": 26
    },
    {
     "cell_type": "code",
     "collapsed": false,
     "input": [
      "generative_smc_hitting_time(g, 100000)"
     ],
     "language": "python",
     "metadata": {},
     "outputs": [
      {
       "metadata": {},
       "output_type": "pyout",
       "prompt_number": 28,
       "text": [
        "array([[ 1.        ,  0.3624895 ],\n",
        "       [ 0.22558448,  1.        ]])"
       ]
      }
     ],
     "prompt_number": 28
    },
    {
     "cell_type": "code",
     "collapsed": false,
     "input": [
      "generative_smc_hitting_time(g, 1000000)"
     ],
     "language": "python",
     "metadata": {},
     "outputs": [
      {
       "metadata": {},
       "output_type": "pyout",
       "prompt_number": 29,
       "text": [
        "array([[ 1.        ,  0.36114988],\n",
        "       [ 0.22601958,  1.        ]])"
       ]
      }
     ],
     "prompt_number": 29
    },
    {
     "cell_type": "code",
     "collapsed": false,
     "input": [
      "0.1 * (1 - ALPHA) / (1 - 0.9 * (1 - ALPHA))**2"
     ],
     "language": "python",
     "metadata": {},
     "outputs": [
      {
       "metadata": {},
       "output_type": "pyout",
       "prompt_number": 27,
       "text": [
        "1.5391579900407426"
       ]
      }
     ],
     "prompt_number": 27
    },
    {
     "cell_type": "code",
     "collapsed": false,
     "input": [
      "E1 = 0.1 * (1 - ALPHA) / (1 - 0.9 * (1 - ALPHA))\n",
      "E2 = 0.1 * (1 - ALPHA) / (1 - 0.9 * (1 - ALPHA))**2\n",
      "E3 = 1 / (1 - 0.9 * (1 - ALPHA))**2\n",
      "E1, E2, E3"
     ],
     "language": "python",
     "metadata": {},
     "outputs": [
      {
       "metadata": {},
       "output_type": "pyout",
       "prompt_number": 55,
       "text": [
        "(0.3617021276595745, 1.5391579900407426, 18.107741059302853)"
       ]
      }
     ],
     "prompt_number": 55
    },
    {
     "cell_type": "code",
     "collapsed": false,
     "input": [
      "E2/(1 - E1 + E2)"
     ],
     "language": "python",
     "metadata": {},
     "outputs": [
      {
       "metadata": {},
       "output_type": "pyout",
       "prompt_number": 31,
       "text": [
        "0.7068607068607068"
       ]
      }
     ],
     "prompt_number": 31
    },
    {
     "cell_type": "code",
     "collapsed": false,
     "input": [
      "nx.pagerank(g)"
     ],
     "language": "python",
     "metadata": {},
     "outputs": [
      {
       "metadata": {},
       "output_type": "pyout",
       "prompt_number": 32,
       "text": [
        "{0: 0.3191520083024747, 1: 0.6808479916975254}"
       ]
      }
     ],
     "prompt_number": 32
    },
    {
     "cell_type": "code",
     "collapsed": false,
     "input": [
      "g2 = nx.DiGraph()\n",
      "g2.add_edge(0, 0, weight=0.9)\n",
      "g2.add_edge(0, 1, weight=0.1)\n",
      "g2.add_edge(1, 0, weight=1)"
     ],
     "language": "python",
     "metadata": {},
     "outputs": [],
     "prompt_number": 33
    },
    {
     "cell_type": "code",
     "collapsed": false,
     "input": [
      "personalized_eigen_ht(g2)"
     ],
     "language": "python",
     "metadata": {},
     "outputs": [
      {
       "metadata": {},
       "output_type": "pyout",
       "prompt_number": 34,
       "text": [
        "array([[ 1.        ,  0.36170213],\n",
        "       [ 0.85      ,  1.        ]])"
       ]
      }
     ],
     "prompt_number": 34
    },
    {
     "cell_type": "code",
     "collapsed": false,
     "input": [
      "generative_smc_hitting_time(g2, 100000)"
     ],
     "language": "python",
     "metadata": {},
     "outputs": [
      {
       "metadata": {},
       "output_type": "pyout",
       "prompt_number": 35,
       "text": [
        "array([[ 1.        ,  0.66781815],\n",
        "       [ 0.8507924 ,  1.        ]])"
       ]
      }
     ],
     "prompt_number": 35
    },
    {
     "cell_type": "code",
     "collapsed": false,
     "input": [
      "generative_smc_hitting_time(g2, 100000)"
     ],
     "language": "python",
     "metadata": {},
     "outputs": [
      {
       "metadata": {},
       "output_type": "pyout",
       "prompt_number": 37,
       "text": [
        "array([[ 1.        ,  0.66695266],\n",
        "       [ 0.85037011,  1.        ]])"
       ]
      }
     ],
     "prompt_number": 37
    },
    {
     "cell_type": "code",
     "collapsed": false,
     "input": [
      "generative_smc_hitting_time(g2, 100000)"
     ],
     "language": "python",
     "metadata": {},
     "outputs": [
      {
       "metadata": {},
       "output_type": "pyout",
       "prompt_number": 38,
       "text": [
        "array([[ 1.        ,  0.66756682],\n",
        "       [ 0.84997103,  1.        ]])"
       ]
      }
     ],
     "prompt_number": 38
    },
    {
     "cell_type": "code",
     "collapsed": false,
     "input": [
      "import hitting_time.single_monte_carlo as smc\n",
      "reload(smc);"
     ],
     "language": "python",
     "metadata": {},
     "outputs": [],
     "prompt_number": 86
    },
    {
     "cell_type": "code",
     "collapsed": false,
     "input": [
      "smc.complete_path_smc_hitting_time(g2, 10000)"
     ],
     "language": "python",
     "metadata": {},
     "outputs": [
      {
       "metadata": {},
       "output_type": "pyout",
       "prompt_number": 41,
       "text": [
        "array([[ 1.     ,  0.36175],\n",
        "       [ 0.85545,  1.     ]])"
       ]
      }
     ],
     "prompt_number": 41
    },
    {
     "cell_type": "code",
     "collapsed": false,
     "input": [
      "smc.unbiased_gen_smc(g2, 100000)"
     ],
     "language": "python",
     "metadata": {},
     "outputs": [
      {
       "metadata": {},
       "output_type": "pyout",
       "prompt_number": 52,
       "text": [
        "array([[ 1.        ,  0.36160623],\n",
        "       [ 0.8505155 ,  1.        ]])"
       ]
      }
     ],
     "prompt_number": 52
    },
    {
     "cell_type": "code",
     "collapsed": false,
     "input": [
      "smc.generative_smc_hitting_time(g2, 100000)"
     ],
     "language": "python",
     "metadata": {},
     "outputs": [
      {
       "metadata": {},
       "output_type": "pyout",
       "prompt_number": 58,
       "text": [
        "array([[ 1.        ,  0.36134489],\n",
        "       [ 0.85056668,  1.        ]])"
       ]
      }
     ],
     "prompt_number": 58
    },
    {
     "cell_type": "code",
     "collapsed": false,
     "input": [
      "smc.gen1(g2, 10000)"
     ],
     "language": "python",
     "metadata": {},
     "outputs": [
      {
       "metadata": {},
       "output_type": "pyout",
       "prompt_number": 75,
       "text": [
        "array([[ 1.        ,  0.66509848],\n",
        "       [ 0.8502883 ,  1.        ]])"
       ]
      }
     ],
     "prompt_number": 75
    },
    {
     "cell_type": "code",
     "collapsed": false,
     "input": [
      "smc.gen2(g2, 10000)"
     ],
     "language": "python",
     "metadata": {},
     "outputs": [
      {
       "metadata": {},
       "output_type": "pyout",
       "prompt_number": 76,
       "text": [
        "array([[ 1.        ,  0.36218345],\n",
        "       [ 0.84758138,  1.        ]])"
       ]
      }
     ],
     "prompt_number": 76
    },
    {
     "cell_type": "code",
     "collapsed": false,
     "input": [
      "from collections import defaultdict\n",
      "N = 5\n",
      "def fun1(steps):\n",
      "    counter = defaultdict(int)\n",
      "    for n in steps:\n",
      "        counter[n] += 1\n",
      "        \n",
      "    walks = np.zeros(N)\n",
      "    hits = np.zeros((N, N))\n",
      "    \n",
      "    seen = np.repeat(False, N)\n",
      "    for n in reversed(steps):\n",
      "        if seen[n]:\n",
      "            continue\n",
      "        seen[n] = True\n",
      "        hits[counter.keys(), n] += counter.values()\n",
      "        walks[n] += counter[n]\n",
      "        counter[n] -= 1\n",
      "    return walks, hits\n",
      "\n",
      "def fun2(steps):\n",
      "    counter = defaultdict(int)\n",
      "    for n in steps:\n",
      "        counter[n] += 1\n",
      "        \n",
      "    walks = np.zeros(N)\n",
      "    hits = np.zeros((N, N))\n",
      "    \n",
      "    for ii, step in enumerate(steps):\n",
      "        walks[step] += 1\n",
      "        walk_hits = np.zeros(N)\n",
      "        for j in xrange(ii, len(steps)):\n",
      "            walk_hits[steps[j]] = 1\n",
      "        hits[step] += walk_hits\n",
      "    \n",
      "    return walks, hits"
     ],
     "language": "python",
     "metadata": {},
     "outputs": [],
     "prompt_number": 65
    },
    {
     "cell_type": "code",
     "collapsed": false,
     "input": [
      "print fun1([0, 1, 1, 0, 0, 1, 0, 1, 1, 1, 1, 0, 0, 0, 0, 1, 1, 1, 0, 0, 1, 1, 1, 0])\n",
      "print fun2([0, 1, 1, 0, 0, 1, 0, 1, 1, 1, 1, 0, 0, 0, 0, 1, 1, 1, 0, 0, 1, 1, 1, 0])"
     ],
     "language": "python",
     "metadata": {},
     "outputs": [
      {
       "output_type": "stream",
       "stream": "stdout",
       "text": [
        "(array([ 11.,  13.,   0.,   0.,   0.]), array([[ 11.,  10.,   0.,   0.,   0.],\n",
        "       [ 13.,  13.,   0.,   0.,   0.],\n",
        "       [  0.,   0.,   0.,   0.,   0.],\n",
        "       [  0.,   0.,   0.,   0.,   0.],\n",
        "       [  0.,   0.,   0.,   0.,   0.]]))\n",
        "(array([ 11.,  13.,   0.,   0.,   0.]), array([[ 11.,  10.,   0.,   0.,   0.],\n",
        "       [ 13.,  13.,   0.,   0.,   0.],\n",
        "       [  0.,   0.,   0.,   0.,   0.],\n",
        "       [  0.,   0.,   0.,   0.,   0.],\n",
        "       [  0.,   0.,   0.,   0.,   0.]]))\n"
       ]
      }
     ],
     "prompt_number": 71
    },
    {
     "cell_type": "code",
     "collapsed": false,
     "input": [
      "print fun1([0])\n",
      "print fun2([0])"
     ],
     "language": "python",
     "metadata": {},
     "outputs": [
      {
       "output_type": "stream",
       "stream": "stdout",
       "text": [
        "(array([ 1.,  0.,  0.,  0.,  0.]), array([[ 1.,  0.,  0.,  0.,  0.],\n",
        "       [ 0.,  0.,  0.,  0.,  0.],\n",
        "       [ 0.,  0.,  0.,  0.,  0.],\n",
        "       [ 0.,  0.,  0.,  0.,  0.],\n",
        "       [ 0.,  0.,  0.,  0.,  0.]]))\n",
        "(array([ 1.,  0.,  0.,  0.,  0.]), array([[ 1.,  0.,  0.,  0.,  0.],\n",
        "       [ 0.,  0.,  0.,  0.,  0.],\n",
        "       [ 0.,  0.,  0.,  0.,  0.],\n",
        "       [ 0.,  0.,  0.,  0.,  0.],\n",
        "       [ 0.,  0.,  0.,  0.,  0.]]))\n"
       ]
      }
     ],
     "prompt_number": 73
    },
    {
     "cell_type": "code",
     "collapsed": false,
     "input": [
      "a = np.arange(9).reshape(3, 3)\n",
      "b = np.arange(3)\n",
      "np.all(a == b)\n",
      "a == b"
     ],
     "language": "python",
     "metadata": {},
     "outputs": [
      {
       "metadata": {},
       "output_type": "pyout",
       "prompt_number": 81,
       "text": [
        "array([[ True,  True,  True],\n",
        "       [False, False, False],\n",
        "       [False, False, False]], dtype=bool)"
       ]
      }
     ],
     "prompt_number": 81
    },
    {
     "cell_type": "code",
     "collapsed": false,
     "input": [
      "smc.gen_diff(g2, 10000)"
     ],
     "language": "python",
     "metadata": {},
     "outputs": [
      {
       "output_type": "stream",
       "stream": "stderr",
       "text": [
        "../hitting_time/single_monte_carlo.py:333: RuntimeWarning: invalid value encountered in divide\n"
       ]
      },
      {
       "metadata": {},
       "output_type": "pyout",
       "prompt_number": 85,
       "text": [
        "array([[ nan,  nan],\n",
        "       [ nan,  nan]])"
       ]
      }
     ],
     "prompt_number": 85
    },
    {
     "cell_type": "code",
     "collapsed": false,
     "input": [
      "smc.generative_smc_hitting_time(g2, 10000)"
     ],
     "language": "python",
     "metadata": {},
     "outputs": [
      {
       "metadata": {},
       "output_type": "pyout",
       "prompt_number": 87,
       "text": [
        "array([[ 1.        ,  0.3608541 ],\n",
        "       [ 0.85143644,  1.        ]])"
       ]
      }
     ],
     "prompt_number": 87
    }
   ],
   "metadata": {}
  }
 ]
}