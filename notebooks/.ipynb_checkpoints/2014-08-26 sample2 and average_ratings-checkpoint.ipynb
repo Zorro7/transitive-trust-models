{
 "metadata": {
  "name": "",
  "signature": "sha256:a42c405ec5c3128911d9c8c9768591c781202f3770449ce3c6734daf514c94db"
 },
 "nbformat": 3,
 "nbformat_minor": 0,
 "worksheets": []
}