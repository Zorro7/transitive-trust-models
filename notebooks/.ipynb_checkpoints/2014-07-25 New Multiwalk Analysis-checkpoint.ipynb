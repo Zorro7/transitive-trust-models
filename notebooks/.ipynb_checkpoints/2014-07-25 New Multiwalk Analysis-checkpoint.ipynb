{
 "metadata": {
  "name": "",
  "signature": "sha256:9647c4738f89a9593fcb09a074aa10f5d20412b7e708e3ddcf71c5c7b6f45bdf"
 },
 "nbformat": 3,
 "nbformat_minor": 0,
 "worksheets": [
  {
   "cells": [
    {
     "cell_type": "code",
     "collapsed": false,
     "input": [
      "import sys; sys.path.append('/Users/brandonliu/Documents/Parkes/transitive-trust-models')\n",
      "import numpy as np\n",
      "import matplotlib.pyplot as plt\n",
      "from scipy import stats\n",
      "import utils; reload(utils);\n",
      "import networkx as nx\n",
      "import time\n",
      "from hitting_time import mat_hitting_time as mht\n",
      "from collections import *\n",
      "from hitting_time import single_monte_carlo as smc; reload(smc);"
     ],
     "language": "python",
     "metadata": {},
     "outputs": [],
     "prompt_number": 72
    },
    {
     "cell_type": "code",
     "collapsed": false,
     "input": [
      "g = utils.random_weighted_graph(5, 0.5)\n",
      "g.edges()"
     ],
     "language": "python",
     "metadata": {},
     "outputs": [
      {
       "metadata": {},
       "output_type": "pyout",
       "prompt_number": 2,
       "text": [
        "[(0, 1),\n",
        " (0, 2),\n",
        " (1, 0),\n",
        " (1, 4),\n",
        " (2, 3),\n",
        " (2, 4),\n",
        " (3, 1),\n",
        " (3, 4),\n",
        " (4, 0),\n",
        " (4, 2),\n",
        " (4, 3)]"
       ]
      }
     ],
     "prompt_number": 2
    },
    {
     "cell_type": "code",
     "collapsed": false,
     "input": [
      "nx.draw_networkx(g)"
     ],
     "language": "python",
     "metadata": {},
     "outputs": [
      {
       "metadata": {},
       "output_type": "display_data",
       "png": "[encoded data removed]",
       "text": [
        "<matplotlib.figure.Figure at 0x110261f50>"
       ]
      }
     ],
     "prompt_number": 3
    },
    {
     "cell_type": "code",
     "collapsed": false,
     "input": [
      "hts = mht.personalized_LS_prob_ht(g)\n",
      "print hts"
     ],
     "language": "python",
     "metadata": {},
     "outputs": [
      {
       "output_type": "stream",
       "stream": "stdout",
       "text": [
        "[[ 1.          0.63674585  0.61097183  0.53292883  0.65412763]\n",
        " [ 0.27434127  1.          0.57363306  0.56916847  0.77308859]\n",
        " [ 0.08062213  0.26307524  1.          0.7389624   0.76272979]\n",
        " [ 0.10524535  0.35417593  0.57033015  1.          0.80870157]\n",
        " [ 0.08280655  0.25774568  0.69749885  0.71803605  1.        ]]\n"
       ]
      }
     ],
     "prompt_number": 24
    },
    {
     "cell_type": "code",
     "collapsed": false,
     "input": [
      "rw = utils.RandomWalk(g, 0.15, 1000)"
     ],
     "language": "python",
     "metadata": {},
     "outputs": [],
     "prompt_number": 5
    },
    {
     "cell_type": "code",
     "collapsed": false,
     "input": [
      "def walk(start):\n",
      "    steps = []\n",
      "    node = start\n",
      "    while True:\n",
      "        steps.append(node)\n",
      "        node = rw.step(node)\n",
      "        if rw.terminates() or node is None:\n",
      "            break\n",
      "    return steps"
     ],
     "language": "python",
     "metadata": {},
     "outputs": [],
     "prompt_number": 6
    },
    {
     "cell_type": "code",
     "collapsed": false,
     "input": [
      "walks0 = [walk(0) for _ in xrange(100000)]\n",
      "rev_walks0 = [list(reversed(w)) for w in walks0]"
     ],
     "language": "python",
     "metadata": {},
     "outputs": [],
     "prompt_number": 100
    },
    {
     "cell_type": "code",
     "collapsed": false,
     "input": [
      "walks2 = [walk(2) for _ in xrange(100000)]\n",
      "rev_walks2 = [w[::-1] for w in walks2]"
     ],
     "language": "python",
     "metadata": {},
     "outputs": [],
     "prompt_number": 101
    },
    {
     "cell_type": "code",
     "collapsed": false,
     "input": [
      "# Naive\n",
      "sum(1 for w in walks0 if 2 in w) / 100000.0"
     ],
     "language": "python",
     "metadata": {},
     "outputs": [
      {
       "metadata": {},
       "output_type": "pyout",
       "prompt_number": 102,
       "text": [
        "0.62686"
       ]
      }
     ],
     "prompt_number": 102
    },
    {
     "cell_type": "code",
     "collapsed": false,
     "input": [
      "X_ij = sum(w[w.index(2):].count(0) for w in rev_walks0 if 2 in w)\n",
      "Y_ij = sum(w.count(0) for w in walks0)"
     ],
     "language": "python",
     "metadata": {},
     "outputs": [],
     "prompt_number": 103
    },
    {
     "cell_type": "code",
     "collapsed": false,
     "input": [
      "print X_ij\n",
      "print Y_ij\n",
      "print float(X_ij) / Y_ij"
     ],
     "language": "python",
     "metadata": {},
     "outputs": [
      {
       "output_type": "stream",
       "stream": "stdout",
       "text": [
        "84806\n",
        "135158\n",
        "0.627458234067\n"
       ]
      }
     ],
     "prompt_number": 104
    },
    {
     "cell_type": "code",
     "collapsed": false,
     "input": [
      "# R_i\n",
      "sum(1 for w in walks0 if 0 in w[1:])"
     ],
     "language": "python",
     "metadata": {},
     "outputs": [
      {
       "metadata": {},
       "output_type": "pyout",
       "prompt_number": 105,
       "text": [
        "26010"
       ]
      }
     ],
     "prompt_number": 105
    },
    {
     "cell_type": "code",
     "collapsed": false,
     "input": [
      "# R_j\n",
      "sum(1 for w in walks2 if 2 in w[1:])"
     ],
     "language": "python",
     "metadata": {},
     "outputs": [
      {
       "metadata": {},
       "output_type": "pyout",
       "prompt_number": 106,
       "text": [
        "63015"
       ]
      }
     ],
     "prompt_number": 106
    },
    {
     "cell_type": "code",
     "collapsed": false,
     "input": [
      "# R_i with j in the middle\n",
      "sum(1 for w in walks0 if 0 in w[1:] and 2 in w[1:-w[::-1].index(0)-1])"
     ],
     "language": "python",
     "metadata": {},
     "outputs": [
      {
       "metadata": {},
       "output_type": "pyout",
       "prompt_number": 107,
       "text": [
        "18178"
       ]
      }
     ],
     "prompt_number": 107
    },
    {
     "cell_type": "code",
     "collapsed": false,
     "input": [
      "sum(1 for w in walks0 if 2 in w[1:] and 0 in w[w[1:].index(2)-1:])"
     ],
     "language": "python",
     "metadata": {},
     "outputs": [
      {
       "metadata": {},
       "output_type": "pyout",
       "prompt_number": 108,
       "text": [
        "35676"
       ]
      }
     ],
     "prompt_number": 108
    },
    {
     "cell_type": "code",
     "collapsed": false,
     "input": [
      "sum(1 for w in rev_walks0 if 2 in w and w.index(0) < w.index(2))"
     ],
     "language": "python",
     "metadata": {},
     "outputs": [
      {
       "metadata": {},
       "output_type": "pyout",
       "prompt_number": 109,
       "text": [
        "8206"
       ]
      }
     ],
     "prompt_number": 109
    },
    {
     "cell_type": "code",
     "collapsed": false,
     "input": [
      "gen = (w for w in walks0 if 2 in w[1:] and 0 in w[w[1:].index(2):])\n",
      "[gen.next() for _ in xrange(10)]"
     ],
     "language": "python",
     "metadata": {},
     "outputs": [
      {
       "metadata": {},
       "output_type": "pyout",
       "prompt_number": 110,
       "text": [
        "[[0, 3, 1, 2, 3, 2, 3, 0, 3, 2],\n",
        " [0, 3, 2, 3, 2, 3, 0, 3, 1, 2, 3],\n",
        " [0,\n",
        "  4,\n",
        "  1,\n",
        "  2,\n",
        "  3,\n",
        "  1,\n",
        "  2,\n",
        "  3,\n",
        "  0,\n",
        "  3,\n",
        "  1,\n",
        "  2,\n",
        "  3,\n",
        "  1,\n",
        "  2,\n",
        "  3,\n",
        "  0,\n",
        "  3,\n",
        "  1,\n",
        "  2,\n",
        "  3,\n",
        "  2,\n",
        "  3,\n",
        "  2,\n",
        "  3,\n",
        "  1,\n",
        "  2,\n",
        "  3,\n",
        "  1,\n",
        "  2,\n",
        "  3,\n",
        "  1,\n",
        "  2,\n",
        "  3,\n",
        "  1,\n",
        "  2,\n",
        "  3,\n",
        "  1,\n",
        "  2,\n",
        "  3,\n",
        "  2,\n",
        "  3,\n",
        "  2,\n",
        "  3,\n",
        "  0,\n",
        "  3,\n",
        "  2,\n",
        "  3,\n",
        "  2,\n",
        "  3,\n",
        "  2,\n",
        "  3,\n",
        "  1,\n",
        "  2,\n",
        "  3,\n",
        "  1,\n",
        "  2,\n",
        "  3,\n",
        "  1,\n",
        "  2,\n",
        "  3,\n",
        "  2,\n",
        "  3,\n",
        "  0,\n",
        "  3,\n",
        "  0,\n",
        "  3],\n",
        " [0, 4, 1, 2, 3, 0, 3],\n",
        " [0, 3, 0, 3, 2, 3, 2, 3, 0],\n",
        " [0, 3, 1, 2, 3, 1, 2, 3, 0, 3, 1, 2, 3, 1, 2],\n",
        " [0, 3, 1, 2, 3, 0, 3, 1, 2],\n",
        " [0, 4, 1, 2, 3, 1, 2, 3, 0],\n",
        " [0, 3, 2, 3, 2, 3, 2, 3, 0],\n",
        " [0, 3, 0, 3, 0, 3, 2, 3, 0, 4, 1, 2, 3, 0, 3, 2, 3]]"
       ]
      }
     ],
     "prompt_number": 110
    },
    {
     "cell_type": "code",
     "collapsed": false,
     "input": [
      "for i in xrange(6):\n",
      "    print i, ':', sum(1 for w in rev_walks0 if 2 in w and w[w.index(2):].count(0) == i)"
     ],
     "language": "python",
     "metadata": {},
     "outputs": [
      {
       "output_type": "stream",
       "stream": "stdout",
       "text": [
        "0 : "
       ]
      },
      {
       "output_type": "stream",
       "stream": "stdout",
       "text": [
        "0\n",
        "1 : "
       ]
      },
      {
       "output_type": "stream",
       "stream": "stdout",
       "text": [
        "46335\n",
        "2 : "
       ]
      },
      {
       "output_type": "stream",
       "stream": "stdout",
       "text": [
        "12094\n",
        "3 : "
       ]
      },
      {
       "output_type": "stream",
       "stream": "stdout",
       "text": [
        "3136\n",
        "4 : "
       ]
      },
      {
       "output_type": "stream",
       "stream": "stdout",
       "text": [
        "836\n",
        "5 : "
       ]
      },
      {
       "output_type": "stream",
       "stream": "stdout",
       "text": [
        "210\n"
       ]
      }
     ],
     "prompt_number": 111
    },
    {
     "cell_type": "code",
     "collapsed": false,
     "input": [
      "# Pr(j < i)\n",
      "sum(1 for w in walks0 if 2 in w and 0 in w[1:] and w[1:].index(2) < w[1:].index(0))"
     ],
     "language": "python",
     "metadata": {},
     "outputs": [
      {
       "metadata": {},
       "output_type": "pyout",
       "prompt_number": 112,
       "text": [
        "16479"
       ]
      }
     ],
     "prompt_number": 112
    },
    {
     "cell_type": "code",
     "collapsed": false,
     "input": [
      "steps = [0, 1, 2, 3, 1, 2, 0, 2]\n",
      "counter = Counter(steps)\n",
      "hits = np.zeros((4, 4))\n",
      "walks = np.zeros(4)\n",
      "seen = np.repeat(False, 4)\n",
      "for n in reversed(steps):\n",
      "    if not seen[n]:\n",
      "        seen[n] = True\n",
      "        hits[counter.keys(), n] += counter.values()\n",
      "        walks[n] += counter[n]\n",
      "    counter[n] -= 1"
     ],
     "language": "python",
     "metadata": {},
     "outputs": [],
     "prompt_number": 113
    },
    {
     "cell_type": "code",
     "collapsed": false,
     "input": [
      "hits"
     ],
     "language": "python",
     "metadata": {},
     "outputs": [
      {
       "metadata": {},
       "output_type": "pyout",
       "prompt_number": 114,
       "text": [
        "array([[ 2.,  1.,  2.,  1.],\n",
        "       [ 2.,  2.,  2.,  1.],\n",
        "       [ 2.,  1.,  3.,  1.],\n",
        "       [ 1.,  1.,  1.,  1.]])"
       ]
      }
     ],
     "prompt_number": 114
    },
    {
     "cell_type": "code",
     "collapsed": false,
     "input": [
      "walks"
     ],
     "language": "python",
     "metadata": {},
     "outputs": [
      {
       "metadata": {},
       "output_type": "pyout",
       "prompt_number": 115,
       "text": [
        "array([ 2.,  2.,  3.,  1.])"
       ]
      }
     ],
     "prompt_number": 115
    },
    {
     "cell_type": "code",
     "collapsed": false,
     "input": [
      "walks = [walk(ii) for _ in xrange(200000) for ii in range(5)]"
     ],
     "language": "python",
     "metadata": {},
     "outputs": [],
     "prompt_number": 17
    },
    {
     "cell_type": "code",
     "collapsed": false,
     "input": [
      "rev_walks = [w[::-1] for w in walks]"
     ],
     "language": "python",
     "metadata": {},
     "outputs": [],
     "prompt_number": 18
    },
    {
     "cell_type": "code",
     "collapsed": false,
     "input": [
      "# Naive/multihit\n",
      "sum(1 for w in walks if w[0] == 0 and 1 in w) / sum(1.0 for w in walks if w[0] == 0)"
     ],
     "language": "python",
     "metadata": {},
     "outputs": [
      {
       "metadata": {},
       "output_type": "pyout",
       "prompt_number": 19,
       "text": [
        "0.63556"
       ]
      }
     ],
     "prompt_number": 19
    },
    {
     "cell_type": "code",
     "collapsed": false,
     "input": [
      "# R_i ?\n",
      "R_i = sum(1.0 for w in walks if w[0] == 0 and 0 in w[1:]) / sum(1.0 for w in walks if w[0] == 0)\n",
      "print R_i"
     ],
     "language": "python",
     "metadata": {},
     "outputs": [
      {
       "output_type": "stream",
       "stream": "stdout",
       "text": [
        "0.17586\n"
       ]
      }
     ],
     "prompt_number": 20
    },
    {
     "cell_type": "code",
     "collapsed": false,
     "input": [
      "X_01 = sum(w[w.index(1):].count(0) for w in rev_walks if 1 in w)\n",
      "Y_0 = sum(w.count(0) for w in walks)\n",
      "print X_01, Y_0"
     ],
     "language": "python",
     "metadata": {},
     "outputs": [
      {
       "output_type": "stream",
       "stream": "stdout",
       "text": [
        "238387 374808\n"
       ]
      }
     ],
     "prompt_number": 21
    },
    {
     "cell_type": "code",
     "collapsed": false,
     "input": [
      "print X_01 / float(Y_0)  # This is correct"
     ],
     "language": "python",
     "metadata": {},
     "outputs": [
      {
       "output_type": "stream",
       "stream": "stdout",
       "text": [
        "0.636024311114\n"
       ]
      }
     ],
     "prompt_number": 22
    },
    {
     "cell_type": "code",
     "collapsed": false,
     "input": [
      "# P(X_01 == n)\n",
      "P1 = sum(1.0 for w in rev_walks if 1 in w and w[w.index(1):].count(0) == 1) / len(walks)\n",
      "P2 = sum(1.0 for w in rev_walks if 1 in w and w[w.index(1):].count(0) == 2) / len(walks)\n",
      "P3 = sum(1.0 for w in rev_walks if 1 in w and w[w.index(1):].count(0) == 3) / len(walks)\n",
      "print P1, P2, P3\n",
      "print P2 / P1, P3 / P2"
     ],
     "language": "python",
     "metadata": {},
     "outputs": [
      {
       "output_type": "stream",
       "stream": "stdout",
       "text": [
        "0.161571 0.028476 0.005009\n",
        "0.176244499322 0.175902514398\n"
       ]
      }
     ],
     "prompt_number": 23
    },
    {
     "cell_type": "code",
     "collapsed": false,
     "input": [
      "# h_1\n",
      "h_0 = sum(1.0 for w in walks if 0 in w) / len(walks); print h_0"
     ],
     "language": "python",
     "metadata": {},
     "outputs": [
      {
       "output_type": "stream",
       "stream": "stdout",
       "text": [
        "0.308465\n"
       ]
      }
     ],
     "prompt_number": 26
    },
    {
     "cell_type": "code",
     "collapsed": false,
     "input": [
      "np.mean(hts[:, 0])"
     ],
     "language": "python",
     "metadata": {},
     "outputs": [
      {
       "metadata": {},
       "output_type": "pyout",
       "prompt_number": 27,
       "text": [
        "0.30860305923804932"
       ]
      }
     ],
     "prompt_number": 27
    },
    {
     "cell_type": "code",
     "collapsed": false,
     "input": [
      "P1 / (sum(1.0 for w in walks if w.count(0) == 1) / len(walks))"
     ],
     "language": "python",
     "metadata": {},
     "outputs": [
      {
       "metadata": {},
       "output_type": "pyout",
       "prompt_number": 31,
       "text": [
        "0.6362941813527616"
       ]
      }
     ],
     "prompt_number": 31
    },
    {
     "cell_type": "code",
     "collapsed": false,
     "input": [
      "P2 / (sum(1.0 for w in walks if w.count(0) == 2) / len(walks))"
     ],
     "language": "python",
     "metadata": {},
     "outputs": [
      {
       "metadata": {},
       "output_type": "pyout",
       "prompt_number": 32,
       "text": [
        "0.6340257831808163"
       ]
      }
     ],
     "prompt_number": 32
    },
    {
     "cell_type": "code",
     "collapsed": false,
     "input": [
      "P3 / (sum(1.0 for w in walks if w.count(0) == 3) / len(walks))"
     ],
     "language": "python",
     "metadata": {},
     "outputs": [
      {
       "metadata": {},
       "output_type": "pyout",
       "prompt_number": 33,
       "text": [
        "0.6389030612244899"
       ]
      }
     ],
     "prompt_number": 33
    },
    {
     "cell_type": "code",
     "collapsed": false,
     "input": [
      "sum(1.0 for w in rev_walks if (1 in w and w[w.index(1):].count(0) > 0)) / sum(1.0 for w in walks if 0 in w)"
     ],
     "language": "python",
     "metadata": {},
     "outputs": [
      {
       "metadata": {},
       "output_type": "pyout",
       "prompt_number": 37,
       "text": [
        "0.6360559544843013"
       ]
      }
     ],
     "prompt_number": 37
    },
    {
     "cell_type": "code",
     "collapsed": false,
     "input": [
      "%time xs1 = np.array([smc.algo4(g, 10000) for _ in xrange(10)])\n",
      "%time xs2 = np.array([smc.multiwalk_smc_hitting_time(g, 10000) for _ in xrange(10)])"
     ],
     "language": "python",
     "metadata": {},
     "outputs": [
      {
       "output_type": "stream",
       "stream": "stdout",
       "text": [
        "CPU times: user 2.64 s, sys: 3.07 ms, total: 2.64 s\n",
        "Wall time: 2.65 s\n",
        "CPU times: user 5.65 s, sys: 10.6 ms, total: 5.66 s"
       ]
      },
      {
       "output_type": "stream",
       "stream": "stdout",
       "text": [
        "\n",
        "Wall time: 5.67 s\n"
       ]
      }
     ],
     "prompt_number": 65
    },
    {
     "cell_type": "code",
     "collapsed": false,
     "input": [
      "print np.mean(xs1, axis=0)\n",
      "print np.mean(xs2, axis=0)"
     ],
     "language": "python",
     "metadata": {},
     "outputs": [
      {
       "output_type": "stream",
       "stream": "stdout",
       "text": [
        "[[ 1.          0.63743659  0.61118594  0.53246363  0.65422035]\n",
        " [ 0.27336012  1.          0.57384963  0.56897599  0.77292948]\n",
        " [ 0.08065698  0.26281954  1.          0.73866508  0.76344456]\n",
        " [ 0.10513635  0.35401497  0.57059201  1.          0.80953216]\n",
        " [ 0.08261251  0.25745231  0.69807488  0.71758038  1.        ]]\n",
        "[[ 1.          0.63772986  0.61098926  0.53360729  0.65488807]\n",
        " [ 0.27495416  1.          0.57455348  0.57081458  0.77379945]\n",
        " [ 0.08057671  0.26429596  1.          0.73919881  0.76280922]\n",
        " [ 0.1056753   0.35539894  0.57118492  1.          0.80899778]\n",
        " [ 0.08297622  0.2588038   0.69803087  0.71868056  1.        ]]\n"
       ]
      }
     ],
     "prompt_number": 59
    },
    {
     "cell_type": "code",
     "collapsed": false,
     "input": [
      "print np.mean([abs(hts - xs1[i, :, :]).sum() for i in xrange(10)])\n",
      "print np.mean([abs(hts - xs2[i, :, :]).sum() for i in xrange(10)])"
     ],
     "language": "python",
     "metadata": {},
     "outputs": [
      {
       "output_type": "stream",
       "stream": "stdout",
       "text": [
        "0.0944758133849\n",
        "0.0864103914375\n"
       ]
      }
     ],
     "prompt_number": 67
    },
    {
     "cell_type": "code",
     "collapsed": false,
     "input": [
      "%time smc.algo4(g, time_limit=1)"
     ],
     "language": "python",
     "metadata": {},
     "outputs": [
      {
       "output_type": "stream",
       "stream": "stdout",
       "text": [
        "Simulated 36126 walks\n",
        "CPU times: user 984 ms, sys: 15.7 ms, total: 1 s\n",
        "Wall time: 999 ms\n"
       ]
      },
      {
       "metadata": {},
       "output_type": "pyout",
       "prompt_number": 73,
       "text": [
        "array([[ 1.        ,  0.62911939,  0.61219161,  0.53745723,  0.66045381],\n",
        "       [ 0.27428635,  1.        ,  0.57357823,  0.57213985,  0.77522682],\n",
        "       [ 0.08013155,  0.26257319,  1.        ,  0.74191867,  0.76505976],\n",
        "       [ 0.10394865,  0.3523828 ,  0.57039486,  1.        ,  0.8092589 ],\n",
        "       [ 0.08161925,  0.2565769 ,  0.6978947 ,  0.71763404,  1.        ]])"
       ]
      }
     ],
     "prompt_number": 73
    }
   ],
   "metadata": {}
  }
 ]
}