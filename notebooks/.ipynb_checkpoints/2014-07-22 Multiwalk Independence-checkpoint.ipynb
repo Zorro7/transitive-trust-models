{
 "metadata": {
  "name": "",
  "signature": "sha256:8660b4c0f221c83a06a1369f79c6a76a736ed00c91332610ad5e0dd280d631e9"
 },
 "nbformat": 3,
 "nbformat_minor": 0,
 "worksheets": [
  {
   "cells": [
    {
     "cell_type": "code",
     "collapsed": false,
     "input": [
      "import sys; sys.path.append('/Users/brandonliu/Documents/Parkes/transitive-trust-models')\n",
      "import networkx as nx\n",
      "import utils\n",
      "import hitting_time.mat_hitting_time as mat\n",
      "import hitting_time.single_monte_carlo as smc; reload(smc);"
     ],
     "language": "python",
     "metadata": {},
     "outputs": [],
     "prompt_number": 12
    },
    {
     "cell_type": "code",
     "collapsed": false,
     "input": [
      "g = nx.DiGraph()\n",
      "g.add_edge(0, 1, weight=1)\n",
      "g.add_edge(1, 0, weight=1)\n",
      "# g.add_edge(0, 2, weight=1)"
     ],
     "language": "python",
     "metadata": {},
     "outputs": [],
     "prompt_number": 15
    },
    {
     "cell_type": "code",
     "collapsed": false,
     "input": [
      "mat.personalized_LS_prob_ht(g)"
     ],
     "language": "python",
     "metadata": {},
     "outputs": [
      {
       "metadata": {},
       "output_type": "pyout",
       "prompt_number": 16,
       "text": [
        "array([[ 1.   ,  0.425,  0.425],\n",
        "       [ 0.   ,  1.   ,  0.   ],\n",
        "       [ 0.   ,  0.   ,  1.   ]])"
       ]
      }
     ],
     "prompt_number": 16
    },
    {
     "cell_type": "code",
     "collapsed": false,
     "input": [
      "smc.naive_smc_hitting_time(g, 100000)"
     ],
     "language": "python",
     "metadata": {},
     "outputs": [
      {
       "metadata": {},
       "output_type": "pyout",
       "prompt_number": 17,
       "text": [
        "array([[ 1.        ,  0.42818575,  0.42017639],\n",
        "       [ 0.        ,  1.        ,  0.        ],\n",
        "       [ 0.        ,  0.        ,  1.        ]])"
       ]
      }
     ],
     "prompt_number": 17
    },
    {
     "cell_type": "code",
     "collapsed": false,
     "input": [
      "smc.multihit_smc_hitting_time(g, 100000)"
     ],
     "language": "python",
     "metadata": {},
     "outputs": [
      {
       "metadata": {},
       "output_type": "pyout",
       "prompt_number": 18,
       "text": [
        "array([[ 1.        ,  0.78504785,  0.78726787],\n",
        "       [ 0.85158852,  1.        ,  0.85158852],\n",
        "       [ 0.85186296,  0.85186296,  1.        ]])"
       ]
      }
     ],
     "prompt_number": 18
    },
    {
     "cell_type": "code",
     "collapsed": false,
     "input": [
      "smc.multiwalk_smc_hitting_time(g, 100000)"
     ],
     "language": "python",
     "metadata": {},
     "outputs": [
      {
       "metadata": {},
       "output_type": "pyout",
       "prompt_number": 19,
       "text": [
        "array([[ 1.        ,  0.42791144,  0.42461151],\n",
        "       [ 0.        ,  1.        ,  0.        ],\n",
        "       [ 0.        ,  0.        ,  1.        ]])"
       ]
      }
     ],
     "prompt_number": 19
    }
   ],
   "metadata": {}
  }
 ]
}