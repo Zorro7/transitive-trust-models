{
 "metadata": {
  "name": "",
  "signature": "sha256:3bff2fcad8bc0aa9d722a0ce63c9e130dc0e06ef68e1e0aea39421693f3927fe"
 },
 "nbformat": 3,
 "nbformat_minor": 0,
 "worksheets": [
  {
   "cells": [
    {
     "cell_type": "code",
     "collapsed": false,
     "input": [
      "import sys; sys.path.append('/Users/brandonliu/Documents/Parkes/transitive-trust-models')\n",
      "import numpy as np\n",
      "import matplotlib.pyplot as plt\n",
      "import studies.efficiency as e; reload(e);\n",
      "import strategic_trust_models as stm; reload(stm);\n",
      "from trust_graph import TrustGraph\n",
      "import operator as op\n",
      "import time\n",
      "import math\n",
      "from scipy import stats\n",
      "import random\n",
      "import hitting_time.mat_hitting_time as mht"
     ],
     "language": "python",
     "metadata": {},
     "outputs": [],
     "prompt_number": 1
    },
    {
     "cell_type": "code",
     "collapsed": false,
     "input": [
      "NUM_NODES = 50\n",
      "NUM_EDGES = 15\n",
      "NUM_SAMPLES = 8\n",
      "AGENT = 0  # Always from perspective of agent 0\n",
      "\n",
      "def run_by_attack_strength(pcts, num_iters, agent_type_prior='uniform', edge_strategy='uniform', edge_weight_strategy='prior'):\n",
      "    graphs = [TrustGraph(NUM_NODES, agent_type_prior, edge_strategy, NUM_EDGES, edge_weight_strategy, NUM_SAMPLES)\n",
      "              for _ in xrange(num_iters)]\n",
      "    \n",
      "    corrs1 = np.zeros((len(pcts), num_iters))\n",
      "    rcs1 = np.zeros((len(pcts), num_iters))\n",
      "    corrs2 = np.zeros((len(pcts), num_iters))\n",
      "    rcs2 = np.zeros((len(pcts), num_iters))\n",
      "    \n",
      "    for i, pct in enumerate(pcts):\n",
      "        num = int(pct * NUM_NODES)\n",
      "        for j, graph in enumerate(graphs):\n",
      "            # 1. Cutting Outlinks\n",
      "            g = graph.copy()\n",
      "            cuts = random.sample(g.neighbors(AGENT), num)\n",
      "            g.remove_edges_from([(AGENT, n) for n in cuts])\n",
      "            ht = mht.personalized_LS_prob_ht(g)\n",
      "            corrs1[i, j] = stats.spearmanr(ht[AGENT, :], g.agent_types)[0]\n",
      "            rcs1[i, j] = np.mean([stats.rankdata(ht[i, :]).tolist().index(AGENT) - g.agent_types.index(AGENT)\n",
      "                                  for i in (range(0, AGENT) + range(AGENT + 1, NUM_NODES))])\n",
      "            \n",
      "            # 2. Adding Sybils\n",
      "            g = graph.copy()\n",
      "            g.add_edges_from([x for i in xrange(num) for x in [(AGENT, NUM_NODES + i), (NUM_NODES + i, AGENT)]])\n",
      "            ht = mht.personalized_LS_prob_ht(g)\n",
      "            corrs2[i, j] = stats.spearmanr(ht[AGENT, :], g.agent_types)[0]\n",
      "            rcs2[i, j] = np.mean([stats.rankdata(ht[i, :]).tolist().index(AGENT) - g.agent_types.index(AGENT)\n",
      "                                  for i in (range(0, AGENT) + range(AGENT + 1, NUM_NODES))])\n",
      "    \n",
      "    return { 'corr': { 'cutlinks': corrs1, 'sybils': corrs2 }, 'rc': { 'cutlinks': rcs1, 'sybils': rcs2 } }"
     ],
     "language": "python",
     "metadata": {},
     "outputs": [],
     "prompt_number": 2
    },
    {
     "cell_type": "code",
     "collapsed": false,
     "input": [
      "start = time.time()\n",
      "d = run_by_attack_strength([0, 0.2], 2)\n",
      "print 'elapsed:', time.time() - start"
     ],
     "language": "python",
     "metadata": {},
     "outputs": [
      {
       "ename": "AttributeError",
       "evalue": "'numpy.ndarray' object has no attribute 'index'",
       "output_type": "pyerr",
       "traceback": [
        "\u001b[0;31m---------------------------------------------------------------------------\u001b[0m\n\u001b[0;31mAttributeError\u001b[0m                            Traceback (most recent call last)",
        "\u001b[0;32m<ipython-input-3-d98c3e286b1a>\u001b[0m in \u001b[0;36m<module>\u001b[0;34m()\u001b[0m\n\u001b[1;32m      1\u001b[0m \u001b[0mstart\u001b[0m \u001b[0;34m=\u001b[0m \u001b[0mtime\u001b[0m\u001b[0;34m.\u001b[0m\u001b[0mtime\u001b[0m\u001b[0;34m(\u001b[0m\u001b[0;34m)\u001b[0m\u001b[0;34m\u001b[0m\u001b[0m\n\u001b[0;32m----> 2\u001b[0;31m \u001b[0md\u001b[0m \u001b[0;34m=\u001b[0m \u001b[0mrun_by_attack_strength\u001b[0m\u001b[0;34m(\u001b[0m\u001b[0;34m[\u001b[0m\u001b[0;36m0\u001b[0m\u001b[0;34m,\u001b[0m \u001b[0;36m0.2\u001b[0m\u001b[0;34m]\u001b[0m\u001b[0;34m,\u001b[0m \u001b[0;36m2\u001b[0m\u001b[0;34m)\u001b[0m\u001b[0;34m\u001b[0m\u001b[0m\n\u001b[0m\u001b[1;32m      3\u001b[0m \u001b[0;32mprint\u001b[0m \u001b[0;34m'elapsed:'\u001b[0m\u001b[0;34m,\u001b[0m \u001b[0mtime\u001b[0m\u001b[0;34m.\u001b[0m\u001b[0mtime\u001b[0m\u001b[0;34m(\u001b[0m\u001b[0;34m)\u001b[0m \u001b[0;34m-\u001b[0m \u001b[0mstart\u001b[0m\u001b[0;34m\u001b[0m\u001b[0m\n",
        "\u001b[0;32m<ipython-input-2-987789c33062>\u001b[0m in \u001b[0;36mrun_by_attack_strength\u001b[0;34m(pcts, num_iters, agent_type_prior, edge_strategy, edge_weight_strategy)\u001b[0m\n\u001b[1;32m     23\u001b[0m             \u001b[0mcorrs1\u001b[0m\u001b[0;34m[\u001b[0m\u001b[0mi\u001b[0m\u001b[0;34m,\u001b[0m \u001b[0mj\u001b[0m\u001b[0;34m]\u001b[0m \u001b[0;34m=\u001b[0m \u001b[0mstats\u001b[0m\u001b[0;34m.\u001b[0m\u001b[0mspearmanr\u001b[0m\u001b[0;34m(\u001b[0m\u001b[0mht\u001b[0m\u001b[0;34m[\u001b[0m\u001b[0mAGENT\u001b[0m\u001b[0;34m,\u001b[0m \u001b[0;34m:\u001b[0m\u001b[0;34m]\u001b[0m\u001b[0;34m,\u001b[0m \u001b[0mg\u001b[0m\u001b[0;34m.\u001b[0m\u001b[0magent_types\u001b[0m\u001b[0;34m)\u001b[0m\u001b[0;34m[\u001b[0m\u001b[0;36m0\u001b[0m\u001b[0;34m]\u001b[0m\u001b[0;34m\u001b[0m\u001b[0m\n\u001b[1;32m     24\u001b[0m             rcs1[i, j] = np.mean([stats.rankdata(ht[i, :]).index(AGENT) - g.agent_types.index(AGENT)\n\u001b[0;32m---> 25\u001b[0;31m                                   for i in (range(0, AGENT) + range(AGENT + 1, NUM_NODES))])\n\u001b[0m\u001b[1;32m     26\u001b[0m \u001b[0;34m\u001b[0m\u001b[0m\n\u001b[1;32m     27\u001b[0m             \u001b[0;31m# 2. Adding Sybils\u001b[0m\u001b[0;34m\u001b[0m\u001b[0;34m\u001b[0m\u001b[0m\n",
        "\u001b[0;31mAttributeError\u001b[0m: 'numpy.ndarray' object has no attribute 'index'"
       ]
      }
     ],
     "prompt_number": 3
    },
    {
     "cell_type": "code",
     "collapsed": false,
     "input": [],
     "language": "python",
     "metadata": {},
     "outputs": []
    }
   ],
   "metadata": {}
  }
 ]
}