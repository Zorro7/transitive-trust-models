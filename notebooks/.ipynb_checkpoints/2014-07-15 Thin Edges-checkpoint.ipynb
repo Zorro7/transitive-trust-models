{
 "metadata": {
  "name": "",
  "signature": "sha256:b49315d28dd27ec4fb4d327afd012132228a120129d58575eaad92825da6b4ff"
 },
 "nbformat": 3,
 "nbformat_minor": 0,
 "worksheets": [
  {
   "cells": [
    {
     "cell_type": "code",
     "collapsed": false,
     "input": [
      "import sys; sys.path.append('/Users/brandonliu/Documents/Parkes/transitive-trust-models')\n",
      "import networkx as nx\n",
      "import trust_models as tm; reload(tm)\n",
      "import strategic_trust_models as stm\n",
      "import numpy as np\n",
      "import ipdb\n",
      "import hitting_time.mat_hitting_time as mht\n",
      "import hitting_time.single_monte_carlo as smc"
     ],
     "language": "python",
     "metadata": {},
     "outputs": [],
     "prompt_number": 78
    },
    {
     "cell_type": "code",
     "collapsed": false,
     "input": [
      "np.set_printoptions(suppress=True)"
     ],
     "language": "python",
     "metadata": {},
     "outputs": [],
     "prompt_number": 30
    },
    {
     "cell_type": "code",
     "collapsed": false,
     "input": [
      "# 0 -> 1\n",
      "g1 = nx.DiGraph()\n",
      "g1.add_edge(0, 1, weight=1)\n",
      "# 0 -> 1, 2 disjoint\n",
      "g2 = nx.DiGraph()\n",
      "g2.add_edges_from([(0, 1), (1, 0), (2, 3), (3, 2)], weight=1)\n",
      "# With thin edges\n",
      "g3 = nx.DiGraph()\n",
      "g3.add_edge(0, 1, weight=1)\n",
      "g3.add_node(2)\n",
      "stm.add_thin_edges(g3)"
     ],
     "language": "python",
     "metadata": {},
     "outputs": [],
     "prompt_number": 87
    },
    {
     "cell_type": "markdown",
     "metadata": {},
     "source": [
      "# Global PageRank"
     ]
    },
    {
     "cell_type": "code",
     "collapsed": false,
     "input": [
      "print tm.pagerank(g1)\n",
      "print tm.pagerank(g2)"
     ],
     "language": "python",
     "metadata": {},
     "outputs": [
      {
       "output_type": "stream",
       "stream": "stdout",
       "text": [
        "[ 0.35087719  0.64912281]\n",
        "[ 0.25974026  0.48051948  0.25974026]\n"
       ]
      }
     ],
     "prompt_number": 63
    },
    {
     "cell_type": "code",
     "collapsed": false,
     "input": [
      "print 0.64912281 / 0.35087719\n",
      "print 0.48051948 / 0.25974026"
     ],
     "language": "python",
     "metadata": {},
     "outputs": [
      {
       "output_type": "stream",
       "stream": "stdout",
       "text": [
        "1.85000002423\n",
        "1.84999999615\n"
       ]
      }
     ],
     "prompt_number": 50
    },
    {
     "cell_type": "markdown",
     "metadata": {},
     "source": [
      "# Personalized PageRank"
     ]
    },
    {
     "cell_type": "code",
     "collapsed": false,
     "input": [
      "print nx.google_matrix(g2, personalization={0:1, 1:0, 2:0, 3:0})\n",
      "# np.linalg.det(nx.google_matrix(g2, personalization={0:1, 1:0, 2:0, 3:0}))"
     ],
     "language": "python",
     "metadata": {},
     "outputs": [
      {
       "output_type": "stream",
       "stream": "stdout",
       "text": [
        "[[ 0.15  0.85  0.    0.  ]\n",
        " [ 1.    0.    0.    0.  ]\n",
        " [ 0.15  0.    0.    0.85]\n",
        " [ 0.15  0.    0.85  0.  ]]\n"
       ]
      }
     ],
     "prompt_number": 89
    },
    {
     "cell_type": "code",
     "collapsed": false,
     "input": [
      "print tm.personalized_pagerank(g1)\n",
      "print tm.personalized_pagerank(g2)\n",
      "print tm.personalized_pagerank(g3)"
     ],
     "language": "python",
     "metadata": {},
     "outputs": [
      {
       "output_type": "stream",
       "stream": "stdout",
       "text": [
        "[[ 0.54054054  0.45945946]\n",
        " [ 0.          1.        ]]\n",
        "[[ 0.54054054  0.45945946  0.          0.        ]\n",
        " [ 0.45945946  0.54054054 -0.         -0.        ]\n",
        " [ 0.          0.          0.54054054  0.45945946]\n",
        " [ 0.          0.          0.45945946  0.54054054]]\n",
        "[[ 0.40350877  0.41858793  0.1779033 ]\n",
        " [ 0.29824561  0.49245744  0.20929695]\n",
        " [ 0.29824561  0.38719428  0.3145601 ]]\n"
       ]
      }
     ],
     "prompt_number": 90
    },
    {
     "cell_type": "code",
     "collapsed": false,
     "input": [
      "nx.to_numpy_matrix(g3)"
     ],
     "language": "python",
     "metadata": {},
     "outputs": [
      {
       "metadata": {},
       "output_type": "pyout",
       "prompt_number": 55,
       "text": [
        "matrix([[ 0.     ,  1.     ,  0.00001],\n",
        "        [ 0.00001,  0.     ,  0.00001],\n",
        "        [ 0.00001,  0.00001,  0.     ]])"
       ]
      }
     ],
     "prompt_number": 55
    },
    {
     "cell_type": "code",
     "collapsed": false,
     "input": [
      "nx.google_matrix(g3, personalization={0:1,1:0,2:0})"
     ],
     "language": "python",
     "metadata": {},
     "outputs": [
      {
       "metadata": {},
       "output_type": "pyout",
       "prompt_number": 56,
       "text": [
        "matrix([[ 0.15     ,  0.8499915,  0.0000085],\n",
        "        [ 0.575    ,  0.       ,  0.425    ],\n",
        "        [ 0.575    ,  0.425    ,  0.       ]])"
       ]
      }
     ],
     "prompt_number": 56
    },
    {
     "cell_type": "markdown",
     "metadata": {},
     "source": [
      "As we can see, there is a major problem with the use of thin edges. When the only outedges of a node are thin edges, they get normalized, and become fairly large. The relevant line is in networkx/algorithms/link_analysis/pagerank_alg.py#258"
     ]
    },
    {
     "cell_type": "markdown",
     "metadata": {},
     "source": [
      "# Global Hitting Time"
     ]
    },
    {
     "cell_type": "code",
     "collapsed": false,
     "input": [
      "print mht.global_LS_prob_ht(g1)\n",
      "print mht.global_LS_prob_ht(g2)\n",
      "print mht.global_LS_prob_ht(g3)"
     ],
     "language": "python",
     "metadata": {},
     "outputs": [
      {
       "output_type": "stream",
       "stream": "stdout",
       "text": [
        "[ 0.5    0.925]\n",
        "[ 0.33333333  0.61666667  0.33333333]\n",
        "[ 0.82608696  0.87874914  0.74364204]\n"
       ]
      }
     ],
     "prompt_number": 65
    },
    {
     "cell_type": "code",
     "collapsed": false,
     "input": [
      "print 0.925 / 0.5\n",
      "print 0.6166666 / 0.333333"
     ],
     "language": "python",
     "metadata": {},
     "outputs": [
      {
       "output_type": "stream",
       "stream": "stdout",
       "text": [
        "1.85\n",
        "1.85000165\n"
       ]
      }
     ],
     "prompt_number": 60
    },
    {
     "cell_type": "markdown",
     "metadata": {},
     "source": [
      "# Personalized Hitting Time"
     ]
    },
    {
     "cell_type": "code",
     "collapsed": false,
     "input": [
      "print mht.personalized_LS_prob_ht(g1)\n",
      "print mht.personalized_LS_prob_ht(g2)\n",
      "print mht.personalized_LS_prob_ht(g3)"
     ],
     "language": "python",
     "metadata": {},
     "outputs": [
      {
       "output_type": "stream",
       "stream": "stdout",
       "text": [
        "[[ 1.    0.85]\n",
        " [ 0.    1.  ]]\n",
        "[[ 1.    0.85  0.  ]\n",
        " [ 0.    1.    0.  ]\n",
        " [ 0.    0.    1.  ]]\n",
        "[[ 1.          0.84999818  0.56556218]\n",
        " [ 0.73913043  1.          0.66536393]\n",
        " [ 0.73913043  0.78624923  1.        ]]\n"
       ]
      }
     ],
     "prompt_number": 64
    },
    {
     "cell_type": "markdown",
     "metadata": {},
     "source": [
      "# Max Flow"
     ]
    },
    {
     "cell_type": "code",
     "collapsed": false,
     "input": [
      "print tm.max_flow(g1)\n",
      "print tm.max_flow(g2)\n",
      "print tm.max_flow(g3)"
     ],
     "language": "python",
     "metadata": {},
     "outputs": [
      {
       "output_type": "stream",
       "stream": "stdout",
       "text": [
        "..\n",
        "[[ nan   1.]\n",
        " [  0.  nan]]\n",
        "...\n",
        "[[ nan   1.   0.]\n",
        " [  0.  nan   0.]\n",
        " [  0.   0.  nan]]\n",
        "...\n",
        "[[     nan  1.00001  0.00002]\n",
        " [ 0.00002      nan  0.00002]\n",
        " [ 0.00002  0.00002      nan]]\n"
       ]
      }
     ],
     "prompt_number": 79
    },
    {
     "cell_type": "markdown",
     "metadata": {},
     "source": [
      "# Shortest Path"
     ]
    },
    {
     "cell_type": "code",
     "collapsed": false,
     "input": [
      "print tm.shortest_path(g1)\n",
      "print tm.shortest_path(g2)\n",
      "print tm.shortest_path(g3)"
     ],
     "language": "python",
     "metadata": {},
     "outputs": [
      {
       "output_type": "stream",
       "stream": "stdout",
       "text": [
        "[[ inf   1.]\n",
        " [ inf  inf]]\n",
        "[[ inf   1.  inf]\n",
        " [ inf  inf  inf]\n",
        " [ inf  inf  inf]]\n",
        "[[     inf  1.       0.00001]\n",
        " [ 0.00001      inf  0.00001]\n",
        " [ 0.00001  0.00001      inf]]\n"
       ]
      }
     ],
     "prompt_number": 80
    },
    {
     "cell_type": "code",
     "collapsed": false,
     "input": [],
     "language": "python",
     "metadata": {},
     "outputs": [
      {
       "metadata": {},
       "output_type": "pyout",
       "prompt_number": 77,
       "text": [
        "{0: {0: 0, 1: 1}, 1: {1: 0}}"
       ]
      }
     ],
     "prompt_number": 77
    }
   ],
   "metadata": {}
  }
 ]
}