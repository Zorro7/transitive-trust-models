{
 "metadata": {
  "name": "",
  "signature": "sha256:1b4276c43ff2bfda9fe6bc4c064d75e3f4fab0711b8f5617aa60ab392cf3ef4e"
 },
 "nbformat": 3,
 "nbformat_minor": 0,
 "worksheets": [
  {
   "cells": [
    {
     "cell_type": "code",
     "collapsed": false,
     "input": [
      "import sys; sys.path.append('..')\n",
      "import networkx as nx\n",
      "import hitting_time.mat_hitting_time as mht"
     ],
     "language": "python",
     "metadata": {},
     "outputs": [],
     "prompt_number": 1
    },
    {
     "cell_type": "code",
     "collapsed": false,
     "input": [
      "g = nx.DiGraph()\n",
      "g.add_edge(0, 1, weight=0.6)\n",
      "g.add_edge(0, 2, weight=0.4)\n",
      "g.add_edge(1, 2, weight=1)\n",
      "\n",
      "g.add_edge(1, 3, weight=1)\n",
      "g.add_edges_from([(i, i+1) for i in xrange(3, 11)], weight=1)\n",
      "g.add_edge(11, 2, weight=1)"
     ],
     "language": "python",
     "metadata": {},
     "outputs": [],
     "prompt_number": 22
    },
    {
     "cell_type": "code",
     "collapsed": false,
     "input": [
      "nx.draw_networkx(g)"
     ],
     "language": "python",
     "metadata": {},
     "outputs": [
      {
       "metadata": {},
       "output_type": "display_data",
       "png": "[encoded data removed]",
       "text": [
        "<matplotlib.figure.Figure at 0x106abf710>"
       ]
      }
     ],
     "prompt_number": 7
    },
    {
     "cell_type": "code",
     "collapsed": false,
     "input": [
      "ht1 = mht.personalized_LS_prob_ht(g)"
     ],
     "language": "python",
     "metadata": {},
     "outputs": [],
     "prompt_number": 23
    },
    {
     "cell_type": "code",
     "collapsed": false,
     "input": [
      "print ht1[0, 1]\n",
      "print ht1[0, 2]"
     ],
     "language": "python",
     "metadata": {},
     "outputs": [
      {
       "output_type": "stream",
       "stream": "stdout",
       "text": [
        "0.51\n",
        "0.606952973107\n"
       ]
      }
     ],
     "prompt_number": 24
    },
    {
     "cell_type": "code",
     "collapsed": false,
     "input": [
      "g2 = g.copy()\n",
      "g2.remove_edge(1, 2)\n",
      "ht2 = mht.personalized_LS_prob_ht(g2)"
     ],
     "language": "python",
     "metadata": {},
     "outputs": [],
     "prompt_number": 25
    },
    {
     "cell_type": "code",
     "collapsed": false,
     "input": [
      "print ht2[0, 1]\n",
      "print ht2[0, 2]"
     ],
     "language": "python",
     "metadata": {},
     "outputs": [
      {
       "output_type": "stream",
       "stream": "stdout",
       "text": [
        "0.51\n",
        "0.440405946214\n"
       ]
      }
     ],
     "prompt_number": 26
    },
    {
     "cell_type": "code",
     "collapsed": false,
     "input": [],
     "language": "python",
     "metadata": {},
     "outputs": []
    }
   ],
   "metadata": {}
  }
 ]
}