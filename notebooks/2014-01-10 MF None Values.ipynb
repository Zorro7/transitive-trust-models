{
 "metadata": {
  "name": "2014-01-10 MF None Values"
 },
 "nbformat": 3,
 "nbformat_minor": 0,
 "worksheets": [
  {
   "cells": [
    {
     "cell_type": "markdown",
     "metadata": {},
     "source": [
      "For some reason I have a nagging feeling that max flow will sometimes return None values. This is a study to investigate that."
     ]
    },
    {
     "cell_type": "code",
     "collapsed": false,
     "input": [
      "import trust_models as tm\n",
      "from trust_graph import TrustGraph\n",
      "import networkx as nx"
     ],
     "language": "python",
     "metadata": {},
     "outputs": [],
     "prompt_number": 3
    },
    {
     "cell_type": "code",
     "collapsed": false,
     "input": [
      "g = TrustGraph(50, 'uniform', 'uniform', 3, 'noisy', 30)\n",
      "mf = np.array(tm.max_flow(g))"
     ],
     "language": "python",
     "metadata": {},
     "outputs": [
      {
       "output_type": "stream",
       "stream": "stdout",
       "text": [
        "..."
       ]
      },
      {
       "output_type": "stream",
       "stream": "stdout",
       "text": [
        "..."
       ]
      },
      {
       "output_type": "stream",
       "stream": "stdout",
       "text": [
        "..."
       ]
      },
      {
       "output_type": "stream",
       "stream": "stdout",
       "text": [
        "..."
       ]
      },
      {
       "output_type": "stream",
       "stream": "stdout",
       "text": [
        "..."
       ]
      },
      {
       "output_type": "stream",
       "stream": "stdout",
       "text": [
        "..."
       ]
      },
      {
       "output_type": "stream",
       "stream": "stdout",
       "text": [
        "..."
       ]
      },
      {
       "output_type": "stream",
       "stream": "stdout",
       "text": [
        "..."
       ]
      },
      {
       "output_type": "stream",
       "stream": "stdout",
       "text": [
        "..."
       ]
      },
      {
       "output_type": "stream",
       "stream": "stdout",
       "text": [
        "..."
       ]
      },
      {
       "output_type": "stream",
       "stream": "stdout",
       "text": [
        "...."
       ]
      },
      {
       "output_type": "stream",
       "stream": "stdout",
       "text": [
        "..."
       ]
      },
      {
       "output_type": "stream",
       "stream": "stdout",
       "text": [
        "..."
       ]
      },
      {
       "output_type": "stream",
       "stream": "stdout",
       "text": [
        "..."
       ]
      },
      {
       "output_type": "stream",
       "stream": "stdout",
       "text": [
        "..."
       ]
      },
      {
       "output_type": "stream",
       "stream": "stdout",
       "text": [
        "..."
       ]
      },
      {
       "output_type": "stream",
       "stream": "stdout",
       "text": [
        ".\n"
       ]
      }
     ],
     "prompt_number": 20
    },
    {
     "cell_type": "code",
     "collapsed": false,
     "input": [
      "[np.size(mf[i]) - np.count_nonzero(mf[i]) for i in xrange(50)];\n",
      "[[j for j in xrange(50) if mf[i][j] == 0] for i in xrange(50)]"
     ],
     "language": "python",
     "metadata": {},
     "outputs": [
      {
       "output_type": "pyout",
       "prompt_number": 27,
       "text": [
        "[[7, 24],\n",
        " [7, 24],\n",
        " [7, 24],\n",
        " [7, 24],\n",
        " [7, 24],\n",
        " [7, 24],\n",
        " [7, 24],\n",
        " [24],\n",
        " [7, 24],\n",
        " [7, 24],\n",
        " [7, 24],\n",
        " [7, 24],\n",
        " [7, 24],\n",
        " [7, 24],\n",
        " [7, 24],\n",
        " [7, 24],\n",
        " [7, 24],\n",
        " [7, 24],\n",
        " [7, 24],\n",
        " [7, 24],\n",
        " [7, 24],\n",
        " [7, 24],\n",
        " [7, 24],\n",
        " [7, 24],\n",
        " [7],\n",
        " [7, 24],\n",
        " [7, 24],\n",
        " [7, 24],\n",
        " [7, 24],\n",
        " [7, 24],\n",
        " [7, 24],\n",
        " [7, 24],\n",
        " [7, 24],\n",
        " [7, 24],\n",
        " [7, 24],\n",
        " [7, 24],\n",
        " [7, 24],\n",
        " [7, 24],\n",
        " [7, 24],\n",
        " [7, 24],\n",
        " [7, 24],\n",
        " [7, 24],\n",
        " [7, 24],\n",
        " [7, 24],\n",
        " [7, 24],\n",
        " [7, 24],\n",
        " [7, 24],\n",
        " [7, 24],\n",
        " [7, 24],\n",
        " [7, 24]]"
       ]
      }
     ],
     "prompt_number": 27
    },
    {
     "cell_type": "code",
     "collapsed": false,
     "input": [
      "g.in_degree(7)"
     ],
     "language": "python",
     "metadata": {},
     "outputs": [
      {
       "output_type": "pyout",
       "prompt_number": 30,
       "text": [
        "0"
       ]
      }
     ],
     "prompt_number": 30
    },
    {
     "cell_type": "code",
     "collapsed": false,
     "input": [
      "g.in_degree(24)"
     ],
     "language": "python",
     "metadata": {},
     "outputs": [
      {
       "output_type": "pyout",
       "prompt_number": 31,
       "text": [
        "0"
       ]
      }
     ],
     "prompt_number": 31
    },
    {
     "cell_type": "markdown",
     "metadata": {},
     "source": [
      "Hmm, so this is a bit concerning, it seems. When the graph is very sparse, the graph is not guaranteed to be fully connected. In the past, I solved this by removing those nodes from consideration and correlating only over the reachable nodes. It's not clear that this is the right thing to do."
     ]
    }
   ],
   "metadata": {}
  }
 ]
}