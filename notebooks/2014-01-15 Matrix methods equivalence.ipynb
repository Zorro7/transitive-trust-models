{
 "metadata": {
  "name": ""
 },
 "nbformat": 3,
 "nbformat_minor": 0,
 "worksheets": [
  {
   "cells": [
    {
     "cell_type": "code",
     "collapsed": false,
     "input": [
      "from trust_graph import TrustGraph\n",
      "from hitting_time.mat_hitting_time import single_LA_ht, single_eigen_ht\n",
      "from hitting_time.single_monte_carlo import complete_path_smc_hitting_time"
     ],
     "language": "python",
     "metadata": {},
     "outputs": [],
     "prompt_number": 12
    },
    {
     "cell_type": "code",
     "collapsed": false,
     "input": [
      "g = TrustGraph(30, 'uniform', 'uniform', 15, 'noisy', 30)"
     ],
     "language": "python",
     "metadata": {},
     "outputs": [],
     "prompt_number": 2
    },
    {
     "cell_type": "code",
     "collapsed": false,
     "input": [
      "ht1 = np.array([single_eigen_ht(g, i, 0) for i in xrange(30)])  # Eigen hitting time"
     ],
     "language": "python",
     "metadata": {},
     "outputs": [],
     "prompt_number": 4
    },
    {
     "cell_type": "code",
     "collapsed": false,
     "input": [
      "ht2 = single_LA_ht(g, 0)  # Linear Equation Hitting Time"
     ],
     "language": "python",
     "metadata": {},
     "outputs": [],
     "prompt_number": 6
    },
    {
     "cell_type": "code",
     "collapsed": false,
     "input": [
      "from scipy import stats\n",
      "stats.pearsonr(ht1, ht2)"
     ],
     "language": "python",
     "metadata": {},
     "outputs": [
      {
       "metadata": {},
       "output_type": "pyout",
       "prompt_number": 11,
       "text": [
        "(-0.99950012299726532, 1.4848110720736e-43)"
       ]
      }
     ],
     "prompt_number": 11
    },
    {
     "cell_type": "code",
     "collapsed": false,
     "input": [
      "ht1[:5]"
     ],
     "language": "python",
     "metadata": {},
     "outputs": [
      {
       "metadata": {},
       "output_type": "pyout",
       "prompt_number": 8,
       "text": [
        "array([ 0.21137432,  0.10298807,  0.09864003,  0.0979941 ,  0.10557375])"
       ]
      }
     ],
     "prompt_number": 8
    },
    {
     "cell_type": "code",
     "collapsed": false,
     "input": [
      "ht2"
     ],
     "language": "python",
     "metadata": {},
     "outputs": [
      {
       "metadata": {},
       "output_type": "pyout",
       "prompt_number": 64,
       "text": [
        "array([ 0.85      ,  5.13812036,  5.27826996,  5.29462154,  5.05761716,\n",
        "        5.13527922,  5.05523724,  5.27748103,  5.15055279,  5.29815941,\n",
        "        5.01425457,  5.17493575,  5.16570176,  5.21144571,  5.15899791,\n",
        "        5.28348037,  5.22056935,  5.17467633,  5.29309398,  5.17648172,\n",
        "        5.29687661,  5.28617411,  5.30863471,  5.30754243,  5.24431437,\n",
        "        5.22557613,  5.29802448,  5.33195649,  5.26036513,  5.31448581])"
       ]
      }
     ],
     "prompt_number": 64
    },
    {
     "cell_type": "code",
     "collapsed": false,
     "input": [
      "ht3 = complete_path_smc_hitting_time(g, 400)  # Monte Carlo"
     ],
     "language": "python",
     "metadata": {},
     "outputs": [],
     "prompt_number": 13
    },
    {
     "cell_type": "code",
     "collapsed": false,
     "input": [
      "ht3[:5, 0]"
     ],
     "language": "python",
     "metadata": {},
     "outputs": [
      {
       "metadata": {},
       "output_type": "pyout",
       "prompt_number": 14,
       "text": [
        "array([ 1.        ,  0.10725   ,  0.07916667,  0.0765    ,  0.12583333])"
       ]
      }
     ],
     "prompt_number": 14
    },
    {
     "cell_type": "code",
     "collapsed": false,
     "input": [
      "stats.pearsonr(ht1, ht3[:, 0])"
     ],
     "language": "python",
     "metadata": {},
     "outputs": [
      {
       "metadata": {},
       "output_type": "pyout",
       "prompt_number": 16,
       "text": [
        "(0.99948127221426097, 2.4928174912790362e-43)"
       ]
      }
     ],
     "prompt_number": 16
    },
    {
     "cell_type": "code",
     "collapsed": false,
     "input": [
      "import scipy\n",
      "import numpy as np\n",
      "A = np.column_stack((ht2[:2], np.ones(2)))\n",
      "b = ht3[:2, 0]\n",
      "scipy.linalg.solve(A, b)"
     ],
     "language": "python",
     "metadata": {},
     "outputs": [
      {
       "metadata": {},
       "output_type": "pyout",
       "prompt_number": 26,
       "text": [
        "array([-0.20819145,  1.17696273])"
       ]
      }
     ],
     "prompt_number": 26
    },
    {
     "cell_type": "code",
     "collapsed": false,
     "input": [
      "8.2367 * ht1 - 0.74103"
     ],
     "language": "python",
     "metadata": {},
     "outputs": [
      {
       "metadata": {},
       "output_type": "pyout",
       "prompt_number": 25,
       "text": [
        "array([ 0.99999685,  0.10725182,  0.07143833,  0.06611799,  0.12854932,\n",
        "        0.107155  ,  0.1333893 ,  0.0718495 ,  0.10431207,  0.06440903,\n",
        "        0.14060452,  0.09617714,  0.10157975,  0.08879184,  0.09906767,\n",
        "        0.07150214,  0.08636824,  0.09870253,  0.06733634,  0.09670243,\n",
        "        0.06415946,  0.06773499,  0.06235098,  0.0606548 ,  0.0791286 ,\n",
        "        0.084411  ,  0.06655738,  0.05297409,  0.07559486,  0.05721243])"
       ]
      }
     ],
     "prompt_number": 25
    },
    {
     "cell_type": "code",
     "collapsed": false,
     "input": [
      "-0.20819 * ht2 + 1.17696"
     ],
     "language": "python",
     "metadata": {},
     "outputs": [
      {
       "metadata": {},
       "output_type": "pyout",
       "prompt_number": 27,
       "text": [
        "array([ 0.9999985 ,  0.10725472,  0.07807698,  0.07467274,  0.12401468,\n",
        "        0.10784622,  0.12451016,  0.07824122,  0.10466641,  0.07393619,\n",
        "        0.13304234,  0.09959013,  0.10151255,  0.09198912,  0.10290822,\n",
        "        0.07699222,  0.09008967,  0.09964413,  0.07499076,  0.09926827,\n",
        "        0.07420326,  0.07643141,  0.07175534,  0.07198274,  0.08514619,\n",
        "        0.0890473 ,  0.07396428,  0.06689998,  0.08180458,  0.0705372 ])"
       ]
      }
     ],
     "prompt_number": 27
    },
    {
     "cell_type": "code",
     "collapsed": false,
     "input": [
      "g2 = g = TrustGraph(35, 'uniform', 'uniform', 15, 'noisy', 30)\n",
      "ht1_2 = np.array([single_eigen_ht(g2, i, 0) for i in xrange(35)])  # Eigen hitting time\n",
      "ht2_2 = single_LA_ht(g2, 0)  # Linear Equation Hitting Time\n",
      "ht3_2 = complete_path_smc_hitting_time(g, 400)  # Monte Carlo"
     ],
     "language": "python",
     "metadata": {},
     "outputs": [],
     "prompt_number": 32
    },
    {
     "cell_type": "code",
     "collapsed": false,
     "input": [
      "A = np.column_stack((ht2_2[:2], np.ones(2)))\n",
      "b = ht3_2[:2, 0]\n",
      "scipy.linalg.solve(A, b)"
     ],
     "language": "python",
     "metadata": {},
     "outputs": [
      {
       "metadata": {},
       "output_type": "pyout",
       "prompt_number": 43,
       "text": [
        "array([-0.20785566,  1.17667731])"
       ]
      }
     ],
     "prompt_number": 43
    },
    {
     "cell_type": "code",
     "collapsed": false,
     "input": [
      "ht3_2[:, 0]"
     ],
     "language": "python",
     "metadata": {},
     "outputs": [
      {
       "metadata": {},
       "output_type": "pyout",
       "prompt_number": 37,
       "text": [
        "array([ 1.        ,  0.08607143,  0.08278571,  0.07492857,  0.08107143,\n",
        "        0.08192857,  0.13207143,  0.12314286,  0.12721429,  0.07764286,\n",
        "        0.077     ,  0.10371429,  0.10335714,  0.125     ,  0.12385714,\n",
        "        0.08307143,  0.0755    ,  0.07642857,  0.112     ,  0.10257143,\n",
        "        0.09792857,  0.07557143,  0.07514286,  0.07764286,  0.08035714,\n",
        "        0.07807143,  0.09221429,  0.07771429,  0.09257143,  0.07078571,\n",
        "        0.09057143,  0.08857143,  0.0705    ,  0.07907143,  0.08564286])"
       ]
      }
     ],
     "prompt_number": 37
    },
    {
     "cell_type": "code",
     "collapsed": false,
     "input": [
      "stats.linregress(ht2_2, ht3_2[:, 0])"
     ],
     "language": "python",
     "metadata": {},
     "outputs": [
      {
       "metadata": {},
       "output_type": "pyout",
       "prompt_number": 60,
       "text": [
        "(-0.20764402861625536,\n",
        " 1.1762211978853656,\n",
        " -0.999921626606325,\n",
        " 2.2904586963057283e-64,\n",
        " 0.00045257163348815833)"
       ]
      }
     ],
     "prompt_number": 60
    },
    {
     "cell_type": "code",
     "collapsed": false,
     "input": [
      "stats.linregress(ht3_2[:, 0], ht2_2)"
     ],
     "language": "python",
     "metadata": {},
     "outputs": [
      {
       "metadata": {},
       "output_type": "pyout",
       "prompt_number": 62,
       "text": [
        "(-4.815179449262363,\n",
        " 5.6645159823069227,\n",
        " -0.999921626606325,\n",
        " 2.2904586963057283e-64,\n",
        " 0.010494949666569314)"
       ]
      }
     ],
     "prompt_number": 62
    },
    {
     "cell_type": "code",
     "collapsed": false,
     "input": [
      "-0.20764402861625536 * ht2_2 + 1.1762211978853656"
     ],
     "language": "python",
     "metadata": {},
     "outputs": [
      {
       "metadata": {},
       "output_type": "pyout",
       "prompt_number": 61,
       "text": [
        "array([ 0.99972377,  0.08672572,  0.0805353 ,  0.07804482,  0.08181021,\n",
        "        0.08251984,  0.13046302,  0.12056207,  0.12938769,  0.07713564,\n",
        "        0.07758096,  0.10881964,  0.1035373 ,  0.12744098,  0.12700261,\n",
        "        0.08214137,  0.07644475,  0.07217314,  0.10903297,  0.10262149,\n",
        "        0.09641861,  0.07599284,  0.07603217,  0.07675797,  0.08162914,\n",
        "        0.07618858,  0.09195737,  0.07499779,  0.09291369,  0.07341951,\n",
        "        0.09035244,  0.08720297,  0.06974362,  0.0789243 ,  0.08547996])"
       ]
      }
     ],
     "prompt_number": 61
    },
    {
     "cell_type": "markdown",
     "metadata": {},
     "source": [
      "### Stuff...."
     ]
    },
    {
     "cell_type": "code",
     "collapsed": false,
     "input": [
      "g3 = TrustGraph(30, 'uniform', 'uniform', 15, 'noisy', 30)"
     ],
     "language": "python",
     "metadata": {},
     "outputs": [],
     "prompt_number": 65
    },
    {
     "cell_type": "code",
     "collapsed": false,
     "input": [
      "import networkx as nx\n",
      "M = nx.to_numpy_matrix(g3)"
     ],
     "language": "python",
     "metadata": {},
     "outputs": [],
     "prompt_number": 66
    },
    {
     "cell_type": "code",
     "collapsed": false,
     "input": [
      "M[0] = 0"
     ],
     "language": "python",
     "metadata": {},
     "outputs": [],
     "prompt_number": 68
    },
    {
     "cell_type": "code",
     "collapsed": false,
     "input": [
      "for k in xrange(1, 30):\n",
      "    M[k] /= M[k].sum()"
     ],
     "language": "python",
     "metadata": {},
     "outputs": [],
     "prompt_number": 75
    },
    {
     "cell_type": "code",
     "collapsed": false,
     "input": [
      "sum(np.linalg.matrix_power(M, i)[1, 0] for i in xrange(0, 500))"
     ],
     "language": "python",
     "metadata": {},
     "outputs": [
      {
       "metadata": {},
       "output_type": "pyout",
       "prompt_number": 91,
       "text": [
        "0.99998544285208024"
       ]
      }
     ],
     "prompt_number": 91
    },
    {
     "cell_type": "code",
     "collapsed": false,
     "input": [
      "np.linalg.inv(np.eye(30) - M)[1, 0]"
     ],
     "language": "python",
     "metadata": {},
     "outputs": [
      {
       "metadata": {},
       "output_type": "pyout",
       "prompt_number": 92,
       "text": [
        "1.0000000000000016"
       ]
      }
     ],
     "prompt_number": 92
    }
   ],
   "metadata": {}
  }
 ]
}